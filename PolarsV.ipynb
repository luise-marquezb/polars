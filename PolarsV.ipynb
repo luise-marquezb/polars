{
  "nbformat": 4,
  "nbformat_minor": 0,
  "metadata": {
    "colab": {
      "provenance": []
    },
    "kernelspec": {
      "name": "python3",
      "display_name": "Python 3"
    },
    "language_info": {
      "name": "python"
    }
  },
  "cells": [
    {
      "cell_type": "code",
      "execution_count": 1,
      "metadata": {
        "id": "xja0dQ1PDknz",
        "colab": {
          "base_uri": "https://localhost:8080/"
        },
        "outputId": "854752a8-4b1a-4e9e-87c0-a437026ce583"
      },
      "outputs": [
        {
          "output_type": "stream",
          "name": "stdout",
          "text": [
            "Requirement already satisfied: polars in /usr/local/lib/python3.10/dist-packages (0.17.3)\n",
            "Requirement already satisfied: typing_extensions>=4.0.1 in /usr/local/lib/python3.10/dist-packages (from polars) (4.5.0)\n"
          ]
        }
      ],
      "source": [
        "pip install polars"
      ]
    },
    {
      "cell_type": "code",
      "source": [
        "import polars as pl"
      ],
      "metadata": {
        "id": "Ieklv_-Jdp6-"
      },
      "execution_count": 2,
      "outputs": []
    },
    {
      "cell_type": "code",
      "source": [
        "df_csv = pl.read_csv(\"dataCGP.csv\")"
      ],
      "metadata": {
        "id": "2UL510cDd1Qb"
      },
      "execution_count": 3,
      "outputs": []
    },
    {
      "cell_type": "code",
      "source": [
        "print(df_csv)"
      ],
      "metadata": {
        "colab": {
          "base_uri": "https://localhost:8080/"
        },
        "id": "hkST56a_d-ad",
        "outputId": "d0415849-ac0b-43b7-aa59-0fb9de03f047"
      },
      "execution_count": 4,
      "outputs": [
        {
          "output_type": "stream",
          "name": "stdout",
          "text": [
            "shape: (50, 7)\n",
            "┌────────────┬───────────┬───────────┬──────────┬─────────────────┬───────┬───────────────┐\n",
            "│ Fecha      ┆ Cliente   ┆ Producto  ┆ Cantidad ┆ Precio Unitario ┆ Total ┆ Origen        │\n",
            "│ ---        ┆ ---       ┆ ---       ┆ ---      ┆ ---             ┆ ---   ┆ ---           │\n",
            "│ str        ┆ str       ┆ str       ┆ i64      ┆ i64             ┆ i64   ┆ str           │\n",
            "╞════════════╪═══════════╪═══════════╪══════════╪═════════════════╪═══════╪═══════════════╡\n",
            "│ 2023-11-01 ┆ Cliente1  ┆ ProductoA ┆ 5        ┆ 10              ┆ 50    ┆ Online        │\n",
            "│ 2023-11-02 ┆ Cliente2  ┆ ProductoB ┆ 3        ┆ 15              ┆ 45    ┆ Online        │\n",
            "│ 2023-11-03 ┆ Cliente3  ┆ ProductoC ┆ 2        ┆ 20              ┆ 40    ┆ Online        │\n",
            "│ 2023-11-04 ┆ Cliente4  ┆ ProductoA ┆ 4        ┆ 10              ┆ 40    ┆ Tienda Física │\n",
            "│ …          ┆ …         ┆ …         ┆ …        ┆ …               ┆ …     ┆ …             │\n",
            "│ 2023-12-17 ┆ Cliente47 ┆ ProductoB ┆ 5        ┆ 15              ┆ 75    ┆ Online        │\n",
            "│ 2023-12-18 ┆ Cliente48 ┆ ProductoC ┆ 4        ┆ 20              ┆ 80    ┆ Tienda Física │\n",
            "│ 2023-12-19 ┆ Cliente49 ┆ ProductoD ┆ 3        ┆ 30              ┆ 90    ┆ Online        │\n",
            "│ 2023-12-20 ┆ Cliente50 ┆ ProductoA ┆ 2        ┆ 10              ┆ 20    ┆ Online        │\n",
            "└────────────┴───────────┴───────────┴──────────┴─────────────────┴───────┴───────────────┘\n"
          ]
        }
      ]
    },
    {
      "cell_type": "code",
      "source": [
        "df_csv.describe()"
      ],
      "metadata": {
        "colab": {
          "base_uri": "https://localhost:8080/",
          "height": 380
        },
        "id": "CfufmhcseHgY",
        "outputId": "10a321d2-8827-4a8d-b515-1b37c222520e"
      },
      "execution_count": 5,
      "outputs": [
        {
          "output_type": "execute_result",
          "data": {
            "text/plain": [
              "shape: (9, 8)\n",
              "┌────────────┬────────────┬──────────┬───────────┬──────────┬────────────┬───────────┬────────┐\n",
              "│ describe   ┆ Fecha      ┆ Cliente  ┆ Producto  ┆ Cantidad ┆ Precio     ┆ Total     ┆ Origen │\n",
              "│ ---        ┆ ---        ┆ ---      ┆ ---       ┆ ---      ┆ Unitario   ┆ ---       ┆ ---    │\n",
              "│ str        ┆ str        ┆ str      ┆ str       ┆ f64      ┆ ---        ┆ f64       ┆ str    │\n",
              "│            ┆            ┆          ┆           ┆          ┆ f64        ┆           ┆        │\n",
              "╞════════════╪════════════╪══════════╪═══════════╪══════════╪════════════╪═══════════╪════════╡\n",
              "│ count      ┆ 50         ┆ 50       ┆ 50        ┆ 50.0     ┆ 50.0       ┆ 50.0      ┆ 50     │\n",
              "│ null_count ┆ 0          ┆ 0        ┆ 0         ┆ 0.0      ┆ 0.0        ┆ 0.0       ┆ 0      │\n",
              "│ mean       ┆ null       ┆ null     ┆ null      ┆ 2.9      ┆ 18.4       ┆ 51.2      ┆ null   │\n",
              "│ std        ┆ null       ┆ null     ┆ null      ┆ 1.265718 ┆ 7.521398   ┆ 30.465102 ┆ null   │\n",
              "│ min        ┆ 2023-11-01 ┆ Cliente1 ┆ ProductoA ┆ 1.0      ┆ 10.0       ┆ 10.0      ┆ Online │\n",
              "│ max        ┆ 2023-12-20 ┆ Cliente9 ┆ ProductoD ┆ 5.0      ┆ 30.0       ┆ 150.0     ┆ Tienda │\n",
              "│            ┆            ┆          ┆           ┆          ┆            ┆           ┆ Física │\n",
              "│ median     ┆ null       ┆ null     ┆ null      ┆ 3.0      ┆ 15.0       ┆ 40.0      ┆ null   │\n",
              "│ 25%        ┆ null       ┆ null     ┆ null      ┆ 2.0      ┆ 10.0       ┆ 30.0      ┆ null   │\n",
              "│ 75%        ┆ null       ┆ null     ┆ null      ┆ 4.0      ┆ 20.0       ┆ 60.0      ┆ null   │\n",
              "└────────────┴────────────┴──────────┴───────────┴──────────┴────────────┴───────────┴────────┘"
            ],
            "text/html": [
              "<div><style>\n",
              ".dataframe > thead > tr > th,\n",
              ".dataframe > tbody > tr > td {\n",
              "  text-align: right;\n",
              "}\n",
              "</style>\n",
              "<small>shape: (9, 8)</small><table border=\"1\" class=\"dataframe\"><thead><tr><th>describe</th><th>Fecha</th><th>Cliente</th><th>Producto</th><th>Cantidad</th><th>Precio Unitario</th><th>Total</th><th>Origen</th></tr><tr><td>str</td><td>str</td><td>str</td><td>str</td><td>f64</td><td>f64</td><td>f64</td><td>str</td></tr></thead><tbody><tr><td>&quot;count&quot;</td><td>&quot;50&quot;</td><td>&quot;50&quot;</td><td>&quot;50&quot;</td><td>50.0</td><td>50.0</td><td>50.0</td><td>&quot;50&quot;</td></tr><tr><td>&quot;null_count&quot;</td><td>&quot;0&quot;</td><td>&quot;0&quot;</td><td>&quot;0&quot;</td><td>0.0</td><td>0.0</td><td>0.0</td><td>&quot;0&quot;</td></tr><tr><td>&quot;mean&quot;</td><td>null</td><td>null</td><td>null</td><td>2.9</td><td>18.4</td><td>51.2</td><td>null</td></tr><tr><td>&quot;std&quot;</td><td>null</td><td>null</td><td>null</td><td>1.265718</td><td>7.521398</td><td>30.465102</td><td>null</td></tr><tr><td>&quot;min&quot;</td><td>&quot;2023-11-01&quot;</td><td>&quot;Cliente1&quot;</td><td>&quot;ProductoA&quot;</td><td>1.0</td><td>10.0</td><td>10.0</td><td>&quot;Online&quot;</td></tr><tr><td>&quot;max&quot;</td><td>&quot;2023-12-20&quot;</td><td>&quot;Cliente9&quot;</td><td>&quot;ProductoD&quot;</td><td>5.0</td><td>30.0</td><td>150.0</td><td>&quot;Tienda Física&quot;</td></tr><tr><td>&quot;median&quot;</td><td>null</td><td>null</td><td>null</td><td>3.0</td><td>15.0</td><td>40.0</td><td>null</td></tr><tr><td>&quot;25%&quot;</td><td>null</td><td>null</td><td>null</td><td>2.0</td><td>10.0</td><td>30.0</td><td>null</td></tr><tr><td>&quot;75%&quot;</td><td>null</td><td>null</td><td>null</td><td>4.0</td><td>20.0</td><td>60.0</td><td>null</td></tr></tbody></table></div>"
            ]
          },
          "metadata": {},
          "execution_count": 5
        }
      ]
    },
    {
      "cell_type": "code",
      "source": [
        "df_csv.head()"
      ],
      "metadata": {
        "colab": {
          "base_uri": "https://localhost:8080/",
          "height": 255
        },
        "id": "dBiDzUcOeXfG",
        "outputId": "3521ab0c-888f-4f46-df3e-170ff25a0329"
      },
      "execution_count": 6,
      "outputs": [
        {
          "output_type": "execute_result",
          "data": {
            "text/plain": [
              "shape: (5, 7)\n",
              "┌────────────┬──────────┬───────────┬──────────┬─────────────────┬───────┬───────────────┐\n",
              "│ Fecha      ┆ Cliente  ┆ Producto  ┆ Cantidad ┆ Precio Unitario ┆ Total ┆ Origen        │\n",
              "│ ---        ┆ ---      ┆ ---       ┆ ---      ┆ ---             ┆ ---   ┆ ---           │\n",
              "│ str        ┆ str      ┆ str       ┆ i64      ┆ i64             ┆ i64   ┆ str           │\n",
              "╞════════════╪══════════╪═══════════╪══════════╪═════════════════╪═══════╪═══════════════╡\n",
              "│ 2023-11-01 ┆ Cliente1 ┆ ProductoA ┆ 5        ┆ 10              ┆ 50    ┆ Online        │\n",
              "│ 2023-11-02 ┆ Cliente2 ┆ ProductoB ┆ 3        ┆ 15              ┆ 45    ┆ Online        │\n",
              "│ 2023-11-03 ┆ Cliente3 ┆ ProductoC ┆ 2        ┆ 20              ┆ 40    ┆ Online        │\n",
              "│ 2023-11-04 ┆ Cliente4 ┆ ProductoA ┆ 4        ┆ 10              ┆ 40    ┆ Tienda Física │\n",
              "│ 2023-11-05 ┆ Cliente5 ┆ ProductoD ┆ 1        ┆ 30              ┆ 30    ┆ Online        │\n",
              "└────────────┴──────────┴───────────┴──────────┴─────────────────┴───────┴───────────────┘"
            ],
            "text/html": [
              "<div><style>\n",
              ".dataframe > thead > tr > th,\n",
              ".dataframe > tbody > tr > td {\n",
              "  text-align: right;\n",
              "}\n",
              "</style>\n",
              "<small>shape: (5, 7)</small><table border=\"1\" class=\"dataframe\"><thead><tr><th>Fecha</th><th>Cliente</th><th>Producto</th><th>Cantidad</th><th>Precio Unitario</th><th>Total</th><th>Origen</th></tr><tr><td>str</td><td>str</td><td>str</td><td>i64</td><td>i64</td><td>i64</td><td>str</td></tr></thead><tbody><tr><td>&quot;2023-11-01&quot;</td><td>&quot;Cliente1&quot;</td><td>&quot;ProductoA&quot;</td><td>5</td><td>10</td><td>50</td><td>&quot;Online&quot;</td></tr><tr><td>&quot;2023-11-02&quot;</td><td>&quot;Cliente2&quot;</td><td>&quot;ProductoB&quot;</td><td>3</td><td>15</td><td>45</td><td>&quot;Online&quot;</td></tr><tr><td>&quot;2023-11-03&quot;</td><td>&quot;Cliente3&quot;</td><td>&quot;ProductoC&quot;</td><td>2</td><td>20</td><td>40</td><td>&quot;Online&quot;</td></tr><tr><td>&quot;2023-11-04&quot;</td><td>&quot;Cliente4&quot;</td><td>&quot;ProductoA&quot;</td><td>4</td><td>10</td><td>40</td><td>&quot;Tienda Física&quot;</td></tr><tr><td>&quot;2023-11-05&quot;</td><td>&quot;Cliente5&quot;</td><td>&quot;ProductoD&quot;</td><td>1</td><td>30</td><td>30</td><td>&quot;Online&quot;</td></tr></tbody></table></div>"
            ]
          },
          "metadata": {},
          "execution_count": 6
        }
      ]
    },
    {
      "cell_type": "code",
      "source": [
        "df_csv.tail()"
      ],
      "metadata": {
        "colab": {
          "base_uri": "https://localhost:8080/",
          "height": 255
        },
        "id": "t_3z3r7JeehO",
        "outputId": "58a0fdec-9853-43a7-9166-1596a18d80f5"
      },
      "execution_count": 7,
      "outputs": [
        {
          "output_type": "execute_result",
          "data": {
            "text/plain": [
              "shape: (5, 7)\n",
              "┌────────────┬───────────┬───────────┬──────────┬─────────────────┬───────┬───────────────┐\n",
              "│ Fecha      ┆ Cliente   ┆ Producto  ┆ Cantidad ┆ Precio Unitario ┆ Total ┆ Origen        │\n",
              "│ ---        ┆ ---       ┆ ---       ┆ ---      ┆ ---             ┆ ---   ┆ ---           │\n",
              "│ str        ┆ str       ┆ str       ┆ i64      ┆ i64             ┆ i64   ┆ str           │\n",
              "╞════════════╪═══════════╪═══════════╪══════════╪═════════════════╪═══════╪═══════════════╡\n",
              "│ 2023-12-16 ┆ Cliente46 ┆ ProductoA ┆ 1        ┆ 10              ┆ 10    ┆ Online        │\n",
              "│ 2023-12-17 ┆ Cliente47 ┆ ProductoB ┆ 5        ┆ 15              ┆ 75    ┆ Online        │\n",
              "│ 2023-12-18 ┆ Cliente48 ┆ ProductoC ┆ 4        ┆ 20              ┆ 80    ┆ Tienda Física │\n",
              "│ 2023-12-19 ┆ Cliente49 ┆ ProductoD ┆ 3        ┆ 30              ┆ 90    ┆ Online        │\n",
              "│ 2023-12-20 ┆ Cliente50 ┆ ProductoA ┆ 2        ┆ 10              ┆ 20    ┆ Online        │\n",
              "└────────────┴───────────┴───────────┴──────────┴─────────────────┴───────┴───────────────┘"
            ],
            "text/html": [
              "<div><style>\n",
              ".dataframe > thead > tr > th,\n",
              ".dataframe > tbody > tr > td {\n",
              "  text-align: right;\n",
              "}\n",
              "</style>\n",
              "<small>shape: (5, 7)</small><table border=\"1\" class=\"dataframe\"><thead><tr><th>Fecha</th><th>Cliente</th><th>Producto</th><th>Cantidad</th><th>Precio Unitario</th><th>Total</th><th>Origen</th></tr><tr><td>str</td><td>str</td><td>str</td><td>i64</td><td>i64</td><td>i64</td><td>str</td></tr></thead><tbody><tr><td>&quot;2023-12-16&quot;</td><td>&quot;Cliente46&quot;</td><td>&quot;ProductoA&quot;</td><td>1</td><td>10</td><td>10</td><td>&quot;Online&quot;</td></tr><tr><td>&quot;2023-12-17&quot;</td><td>&quot;Cliente47&quot;</td><td>&quot;ProductoB&quot;</td><td>5</td><td>15</td><td>75</td><td>&quot;Online&quot;</td></tr><tr><td>&quot;2023-12-18&quot;</td><td>&quot;Cliente48&quot;</td><td>&quot;ProductoC&quot;</td><td>4</td><td>20</td><td>80</td><td>&quot;Tienda Física&quot;</td></tr><tr><td>&quot;2023-12-19&quot;</td><td>&quot;Cliente49&quot;</td><td>&quot;ProductoD&quot;</td><td>3</td><td>30</td><td>90</td><td>&quot;Online&quot;</td></tr><tr><td>&quot;2023-12-20&quot;</td><td>&quot;Cliente50&quot;</td><td>&quot;ProductoA&quot;</td><td>2</td><td>10</td><td>20</td><td>&quot;Online&quot;</td></tr></tbody></table></div>"
            ]
          },
          "metadata": {},
          "execution_count": 7
        }
      ]
    },
    {
      "cell_type": "code",
      "source": [
        "df_csv.dtypes"
      ],
      "metadata": {
        "colab": {
          "base_uri": "https://localhost:8080/"
        },
        "id": "tnNL91PYei29",
        "outputId": "7ad33a62-94af-4e50-c202-a56cb8ca46a1"
      },
      "execution_count": 9,
      "outputs": [
        {
          "output_type": "execute_result",
          "data": {
            "text/plain": [
              "[Utf8, Utf8, Utf8, Int64, Int64, Int64, Utf8]"
            ]
          },
          "metadata": {},
          "execution_count": 9
        }
      ]
    },
    {
      "cell_type": "code",
      "source": [
        "df_csv.columns"
      ],
      "metadata": {
        "colab": {
          "base_uri": "https://localhost:8080/"
        },
        "id": "IPKxu0nmepb5",
        "outputId": "e4eaa976-3a04-432d-b9a5-cadf41908fb4"
      },
      "execution_count": 10,
      "outputs": [
        {
          "output_type": "execute_result",
          "data": {
            "text/plain": [
              "['Fecha',\n",
              " 'Cliente',\n",
              " 'Producto',\n",
              " 'Cantidad',\n",
              " 'Precio Unitario',\n",
              " 'Total',\n",
              " 'Origen']"
            ]
          },
          "metadata": {},
          "execution_count": 10
        }
      ]
    },
    {
      "cell_type": "code",
      "source": [
        "df_csv.select(pl.col(\"Total\",\"Cantidad\",\"Origen\"))"
      ],
      "metadata": {
        "colab": {
          "base_uri": "https://localhost:8080/",
          "height": 882
        },
        "id": "aRcQt3Wweu3z",
        "outputId": "3822dbd8-b32d-4cb4-ee5f-234b81fcb3e8"
      },
      "execution_count": 11,
      "outputs": [
        {
          "output_type": "execute_result",
          "data": {
            "text/plain": [
              "shape: (50, 3)\n",
              "┌───────┬──────────┬───────────────┐\n",
              "│ Total ┆ Cantidad ┆ Origen        │\n",
              "│ ---   ┆ ---      ┆ ---           │\n",
              "│ i64   ┆ i64      ┆ str           │\n",
              "╞═══════╪══════════╪═══════════════╡\n",
              "│ 50    ┆ 5        ┆ Online        │\n",
              "│ 45    ┆ 3        ┆ Online        │\n",
              "│ 40    ┆ 2        ┆ Online        │\n",
              "│ 40    ┆ 4        ┆ Tienda Física │\n",
              "│ …     ┆ …        ┆ …             │\n",
              "│ 75    ┆ 5        ┆ Online        │\n",
              "│ 80    ┆ 4        ┆ Tienda Física │\n",
              "│ 90    ┆ 3        ┆ Online        │\n",
              "│ 20    ┆ 2        ┆ Online        │\n",
              "└───────┴──────────┴───────────────┘"
            ],
            "text/html": [
              "<div><style>\n",
              ".dataframe > thead > tr > th,\n",
              ".dataframe > tbody > tr > td {\n",
              "  text-align: right;\n",
              "}\n",
              "</style>\n",
              "<small>shape: (50, 3)</small><table border=\"1\" class=\"dataframe\"><thead><tr><th>Total</th><th>Cantidad</th><th>Origen</th></tr><tr><td>i64</td><td>i64</td><td>str</td></tr></thead><tbody><tr><td>50</td><td>5</td><td>&quot;Online&quot;</td></tr><tr><td>45</td><td>3</td><td>&quot;Online&quot;</td></tr><tr><td>40</td><td>2</td><td>&quot;Online&quot;</td></tr><tr><td>40</td><td>4</td><td>&quot;Tienda Física&quot;</td></tr><tr><td>30</td><td>1</td><td>&quot;Online&quot;</td></tr><tr><td>30</td><td>2</td><td>&quot;Online&quot;</td></tr><tr><td>30</td><td>3</td><td>&quot;Tienda Física&quot;</td></tr><tr><td>40</td><td>2</td><td>&quot;Online&quot;</td></tr><tr><td>120</td><td>4</td><td>&quot;Online&quot;</td></tr><tr><td>30</td><td>3</td><td>&quot;Tienda Física&quot;</td></tr><tr><td>75</td><td>5</td><td>&quot;Online&quot;</td></tr><tr><td>40</td><td>2</td><td>&quot;Online&quot;</td></tr><tr><td>&hellip;</td><td>&hellip;</td><td>&hellip;</td></tr><tr><td>45</td><td>3</td><td>&quot;Online&quot;</td></tr><tr><td>20</td><td>1</td><td>&quot;Tienda Física&quot;</td></tr><tr><td>150</td><td>5</td><td>&quot;Online&quot;</td></tr><tr><td>40</td><td>4</td><td>&quot;Online&quot;</td></tr><tr><td>30</td><td>2</td><td>&quot;Online&quot;</td></tr><tr><td>60</td><td>3</td><td>&quot;Tienda Física&quot;</td></tr><tr><td>60</td><td>2</td><td>&quot;Online&quot;</td></tr><tr><td>10</td><td>1</td><td>&quot;Online&quot;</td></tr><tr><td>75</td><td>5</td><td>&quot;Online&quot;</td></tr><tr><td>80</td><td>4</td><td>&quot;Tienda Física&quot;</td></tr><tr><td>90</td><td>3</td><td>&quot;Online&quot;</td></tr><tr><td>20</td><td>2</td><td>&quot;Online&quot;</td></tr></tbody></table></div>"
            ]
          },
          "metadata": {},
          "execution_count": 11
        }
      ]
    },
    {
      "cell_type": "code",
      "source": [
        "df_csv.select(pl.exclude(\"Total\",\"Origen\"))"
      ],
      "metadata": {
        "colab": {
          "base_uri": "https://localhost:8080/",
          "height": 882
        },
        "id": "NbZAeYLwfF8S",
        "outputId": "ebceb5f2-991d-4b53-a9c1-915a32012293"
      },
      "execution_count": 12,
      "outputs": [
        {
          "output_type": "execute_result",
          "data": {
            "text/plain": [
              "shape: (50, 5)\n",
              "┌────────────┬───────────┬───────────┬──────────┬─────────────────┐\n",
              "│ Fecha      ┆ Cliente   ┆ Producto  ┆ Cantidad ┆ Precio Unitario │\n",
              "│ ---        ┆ ---       ┆ ---       ┆ ---      ┆ ---             │\n",
              "│ str        ┆ str       ┆ str       ┆ i64      ┆ i64             │\n",
              "╞════════════╪═══════════╪═══════════╪══════════╪═════════════════╡\n",
              "│ 2023-11-01 ┆ Cliente1  ┆ ProductoA ┆ 5        ┆ 10              │\n",
              "│ 2023-11-02 ┆ Cliente2  ┆ ProductoB ┆ 3        ┆ 15              │\n",
              "│ 2023-11-03 ┆ Cliente3  ┆ ProductoC ┆ 2        ┆ 20              │\n",
              "│ 2023-11-04 ┆ Cliente4  ┆ ProductoA ┆ 4        ┆ 10              │\n",
              "│ …          ┆ …         ┆ …         ┆ …        ┆ …               │\n",
              "│ 2023-12-17 ┆ Cliente47 ┆ ProductoB ┆ 5        ┆ 15              │\n",
              "│ 2023-12-18 ┆ Cliente48 ┆ ProductoC ┆ 4        ┆ 20              │\n",
              "│ 2023-12-19 ┆ Cliente49 ┆ ProductoD ┆ 3        ┆ 30              │\n",
              "│ 2023-12-20 ┆ Cliente50 ┆ ProductoA ┆ 2        ┆ 10              │\n",
              "└────────────┴───────────┴───────────┴──────────┴─────────────────┘"
            ],
            "text/html": [
              "<div><style>\n",
              ".dataframe > thead > tr > th,\n",
              ".dataframe > tbody > tr > td {\n",
              "  text-align: right;\n",
              "}\n",
              "</style>\n",
              "<small>shape: (50, 5)</small><table border=\"1\" class=\"dataframe\"><thead><tr><th>Fecha</th><th>Cliente</th><th>Producto</th><th>Cantidad</th><th>Precio Unitario</th></tr><tr><td>str</td><td>str</td><td>str</td><td>i64</td><td>i64</td></tr></thead><tbody><tr><td>&quot;2023-11-01&quot;</td><td>&quot;Cliente1&quot;</td><td>&quot;ProductoA&quot;</td><td>5</td><td>10</td></tr><tr><td>&quot;2023-11-02&quot;</td><td>&quot;Cliente2&quot;</td><td>&quot;ProductoB&quot;</td><td>3</td><td>15</td></tr><tr><td>&quot;2023-11-03&quot;</td><td>&quot;Cliente3&quot;</td><td>&quot;ProductoC&quot;</td><td>2</td><td>20</td></tr><tr><td>&quot;2023-11-04&quot;</td><td>&quot;Cliente4&quot;</td><td>&quot;ProductoA&quot;</td><td>4</td><td>10</td></tr><tr><td>&quot;2023-11-05&quot;</td><td>&quot;Cliente5&quot;</td><td>&quot;ProductoD&quot;</td><td>1</td><td>30</td></tr><tr><td>&quot;2023-11-06&quot;</td><td>&quot;Cliente6&quot;</td><td>&quot;ProductoB&quot;</td><td>2</td><td>15</td></tr><tr><td>&quot;2023-11-07&quot;</td><td>&quot;Cliente7&quot;</td><td>&quot;ProductoA&quot;</td><td>3</td><td>10</td></tr><tr><td>&quot;2023-11-08&quot;</td><td>&quot;Cliente8&quot;</td><td>&quot;ProductoC&quot;</td><td>2</td><td>20</td></tr><tr><td>&quot;2023-11-09&quot;</td><td>&quot;Cliente9&quot;</td><td>&quot;ProductoD&quot;</td><td>4</td><td>30</td></tr><tr><td>&quot;2023-11-10&quot;</td><td>&quot;Cliente10&quot;</td><td>&quot;ProductoA&quot;</td><td>3</td><td>10</td></tr><tr><td>&quot;2023-11-11&quot;</td><td>&quot;Cliente11&quot;</td><td>&quot;ProductoB&quot;</td><td>5</td><td>15</td></tr><tr><td>&quot;2023-11-12&quot;</td><td>&quot;Cliente12&quot;</td><td>&quot;ProductoC&quot;</td><td>2</td><td>20</td></tr><tr><td>&hellip;</td><td>&hellip;</td><td>&hellip;</td><td>&hellip;</td><td>&hellip;</td></tr><tr><td>&quot;2023-12-09&quot;</td><td>&quot;Cliente39&quot;</td><td>&quot;ProductoB&quot;</td><td>3</td><td>15</td></tr><tr><td>&quot;2023-12-10&quot;</td><td>&quot;Cliente40&quot;</td><td>&quot;ProductoC&quot;</td><td>1</td><td>20</td></tr><tr><td>&quot;2023-12-11&quot;</td><td>&quot;Cliente41&quot;</td><td>&quot;ProductoD&quot;</td><td>5</td><td>30</td></tr><tr><td>&quot;2023-12-12&quot;</td><td>&quot;Cliente42&quot;</td><td>&quot;ProductoA&quot;</td><td>4</td><td>10</td></tr><tr><td>&quot;2023-12-13&quot;</td><td>&quot;Cliente43&quot;</td><td>&quot;ProductoB&quot;</td><td>2</td><td>15</td></tr><tr><td>&quot;2023-12-14&quot;</td><td>&quot;Cliente44&quot;</td><td>&quot;ProductoC&quot;</td><td>3</td><td>20</td></tr><tr><td>&quot;2023-12-15&quot;</td><td>&quot;Cliente45&quot;</td><td>&quot;ProductoD&quot;</td><td>2</td><td>30</td></tr><tr><td>&quot;2023-12-16&quot;</td><td>&quot;Cliente46&quot;</td><td>&quot;ProductoA&quot;</td><td>1</td><td>10</td></tr><tr><td>&quot;2023-12-17&quot;</td><td>&quot;Cliente47&quot;</td><td>&quot;ProductoB&quot;</td><td>5</td><td>15</td></tr><tr><td>&quot;2023-12-18&quot;</td><td>&quot;Cliente48&quot;</td><td>&quot;ProductoC&quot;</td><td>4</td><td>20</td></tr><tr><td>&quot;2023-12-19&quot;</td><td>&quot;Cliente49&quot;</td><td>&quot;ProductoD&quot;</td><td>3</td><td>30</td></tr><tr><td>&quot;2023-12-20&quot;</td><td>&quot;Cliente50&quot;</td><td>&quot;ProductoA&quot;</td><td>2</td><td>10</td></tr></tbody></table></div>"
            ]
          },
          "metadata": {},
          "execution_count": 12
        }
      ]
    },
    {
      "cell_type": "code",
      "source": [
        "df_csv.filter(pl.col(\"Cantidad\").is_between(4,5))"
      ],
      "metadata": {
        "colab": {
          "base_uri": "https://localhost:8080/",
          "height": 600
        },
        "id": "yyGVJsHKfgTK",
        "outputId": "5cb120c0-ea0e-4c5d-c32b-e256617c0e08"
      },
      "execution_count": 13,
      "outputs": [
        {
          "output_type": "execute_result",
          "data": {
            "text/plain": [
              "shape: (16, 7)\n",
              "┌────────────┬───────────┬───────────┬──────────┬─────────────────┬───────┬───────────────┐\n",
              "│ Fecha      ┆ Cliente   ┆ Producto  ┆ Cantidad ┆ Precio Unitario ┆ Total ┆ Origen        │\n",
              "│ ---        ┆ ---       ┆ ---       ┆ ---      ┆ ---             ┆ ---   ┆ ---           │\n",
              "│ str        ┆ str       ┆ str       ┆ i64      ┆ i64             ┆ i64   ┆ str           │\n",
              "╞════════════╪═══════════╪═══════════╪══════════╪═════════════════╪═══════╪═══════════════╡\n",
              "│ 2023-11-01 ┆ Cliente1  ┆ ProductoA ┆ 5        ┆ 10              ┆ 50    ┆ Online        │\n",
              "│ 2023-11-04 ┆ Cliente4  ┆ ProductoA ┆ 4        ┆ 10              ┆ 40    ┆ Tienda Física │\n",
              "│ 2023-11-09 ┆ Cliente9  ┆ ProductoD ┆ 4        ┆ 30              ┆ 120   ┆ Online        │\n",
              "│ 2023-11-11 ┆ Cliente11 ┆ ProductoB ┆ 5        ┆ 15              ┆ 75    ┆ Online        │\n",
              "│ …          ┆ …         ┆ …         ┆ …        ┆ …               ┆ …     ┆ …             │\n",
              "│ 2023-12-11 ┆ Cliente41 ┆ ProductoD ┆ 5        ┆ 30              ┆ 150   ┆ Online        │\n",
              "│ 2023-12-12 ┆ Cliente42 ┆ ProductoA ┆ 4        ┆ 10              ┆ 40    ┆ Online        │\n",
              "│ 2023-12-17 ┆ Cliente47 ┆ ProductoB ┆ 5        ┆ 15              ┆ 75    ┆ Online        │\n",
              "│ 2023-12-18 ┆ Cliente48 ┆ ProductoC ┆ 4        ┆ 20              ┆ 80    ┆ Tienda Física │\n",
              "└────────────┴───────────┴───────────┴──────────┴─────────────────┴───────┴───────────────┘"
            ],
            "text/html": [
              "<div><style>\n",
              ".dataframe > thead > tr > th,\n",
              ".dataframe > tbody > tr > td {\n",
              "  text-align: right;\n",
              "}\n",
              "</style>\n",
              "<small>shape: (16, 7)</small><table border=\"1\" class=\"dataframe\"><thead><tr><th>Fecha</th><th>Cliente</th><th>Producto</th><th>Cantidad</th><th>Precio Unitario</th><th>Total</th><th>Origen</th></tr><tr><td>str</td><td>str</td><td>str</td><td>i64</td><td>i64</td><td>i64</td><td>str</td></tr></thead><tbody><tr><td>&quot;2023-11-01&quot;</td><td>&quot;Cliente1&quot;</td><td>&quot;ProductoA&quot;</td><td>5</td><td>10</td><td>50</td><td>&quot;Online&quot;</td></tr><tr><td>&quot;2023-11-04&quot;</td><td>&quot;Cliente4&quot;</td><td>&quot;ProductoA&quot;</td><td>4</td><td>10</td><td>40</td><td>&quot;Tienda Física&quot;</td></tr><tr><td>&quot;2023-11-09&quot;</td><td>&quot;Cliente9&quot;</td><td>&quot;ProductoD&quot;</td><td>4</td><td>30</td><td>120</td><td>&quot;Online&quot;</td></tr><tr><td>&quot;2023-11-11&quot;</td><td>&quot;Cliente11&quot;</td><td>&quot;ProductoB&quot;</td><td>5</td><td>15</td><td>75</td><td>&quot;Online&quot;</td></tr><tr><td>&quot;2023-11-15&quot;</td><td>&quot;Cliente15&quot;</td><td>&quot;ProductoB&quot;</td><td>4</td><td>15</td><td>60</td><td>&quot;Online&quot;</td></tr><tr><td>&quot;2023-11-18&quot;</td><td>&quot;Cliente18&quot;</td><td>&quot;ProductoA&quot;</td><td>4</td><td>10</td><td>40</td><td>&quot;Online&quot;</td></tr><tr><td>&quot;2023-11-22&quot;</td><td>&quot;Cliente22&quot;</td><td>&quot;ProductoA&quot;</td><td>5</td><td>10</td><td>50</td><td>&quot;Tienda Física&quot;</td></tr><tr><td>&quot;2023-11-25&quot;</td><td>&quot;Cliente25&quot;</td><td>&quot;ProductoD&quot;</td><td>4</td><td>30</td><td>120</td><td>&quot;Tienda Física&quot;</td></tr><tr><td>&quot;2023-11-27&quot;</td><td>&quot;Cliente27&quot;</td><td>&quot;ProductoB&quot;</td><td>5</td><td>15</td><td>75</td><td>&quot;Online&quot;</td></tr><tr><td>&quot;2023-12-01&quot;</td><td>&quot;Cliente31&quot;</td><td>&quot;ProductoB&quot;</td><td>4</td><td>15</td><td>60</td><td>&quot;Online&quot;</td></tr><tr><td>&quot;2023-12-06&quot;</td><td>&quot;Cliente36&quot;</td><td>&quot;ProductoC&quot;</td><td>5</td><td>20</td><td>100</td><td>&quot;Tienda Física&quot;</td></tr><tr><td>&quot;2023-12-07&quot;</td><td>&quot;Cliente37&quot;</td><td>&quot;ProductoD&quot;</td><td>4</td><td>30</td><td>120</td><td>&quot;Online&quot;</td></tr><tr><td>&quot;2023-12-11&quot;</td><td>&quot;Cliente41&quot;</td><td>&quot;ProductoD&quot;</td><td>5</td><td>30</td><td>150</td><td>&quot;Online&quot;</td></tr><tr><td>&quot;2023-12-12&quot;</td><td>&quot;Cliente42&quot;</td><td>&quot;ProductoA&quot;</td><td>4</td><td>10</td><td>40</td><td>&quot;Online&quot;</td></tr><tr><td>&quot;2023-12-17&quot;</td><td>&quot;Cliente47&quot;</td><td>&quot;ProductoB&quot;</td><td>5</td><td>15</td><td>75</td><td>&quot;Online&quot;</td></tr><tr><td>&quot;2023-12-18&quot;</td><td>&quot;Cliente48&quot;</td><td>&quot;ProductoC&quot;</td><td>4</td><td>20</td><td>80</td><td>&quot;Tienda Física&quot;</td></tr></tbody></table></div>"
            ]
          },
          "metadata": {},
          "execution_count": 13
        }
      ]
    },
    {
      "cell_type": "code",
      "source": [
        "df_csv.filter((pl.col(\"Cantidad\")>= 3) & (pl.col(\"Producto\")==\"ProductoB\"))"
      ],
      "metadata": {
        "colab": {
          "base_uri": "https://localhost:8080/",
          "height": 349
        },
        "id": "0a6CPcevf0VN",
        "outputId": "6c037c27-d163-446b-d7cf-4b2e410330e0"
      },
      "execution_count": 14,
      "outputs": [
        {
          "output_type": "execute_result",
          "data": {
            "text/plain": [
              "shape: (8, 7)\n",
              "┌────────────┬───────────┬───────────┬──────────┬─────────────────┬───────┬────────┐\n",
              "│ Fecha      ┆ Cliente   ┆ Producto  ┆ Cantidad ┆ Precio Unitario ┆ Total ┆ Origen │\n",
              "│ ---        ┆ ---       ┆ ---       ┆ ---      ┆ ---             ┆ ---   ┆ ---    │\n",
              "│ str        ┆ str       ┆ str       ┆ i64      ┆ i64             ┆ i64   ┆ str    │\n",
              "╞════════════╪═══════════╪═══════════╪══════════╪═════════════════╪═══════╪════════╡\n",
              "│ 2023-11-02 ┆ Cliente2  ┆ ProductoB ┆ 3        ┆ 15              ┆ 45    ┆ Online │\n",
              "│ 2023-11-11 ┆ Cliente11 ┆ ProductoB ┆ 5        ┆ 15              ┆ 75    ┆ Online │\n",
              "│ 2023-11-15 ┆ Cliente15 ┆ ProductoB ┆ 4        ┆ 15              ┆ 60    ┆ Online │\n",
              "│ 2023-11-23 ┆ Cliente23 ┆ ProductoB ┆ 3        ┆ 15              ┆ 45    ┆ Online │\n",
              "│ 2023-11-27 ┆ Cliente27 ┆ ProductoB ┆ 5        ┆ 15              ┆ 75    ┆ Online │\n",
              "│ 2023-12-01 ┆ Cliente31 ┆ ProductoB ┆ 4        ┆ 15              ┆ 60    ┆ Online │\n",
              "│ 2023-12-09 ┆ Cliente39 ┆ ProductoB ┆ 3        ┆ 15              ┆ 45    ┆ Online │\n",
              "│ 2023-12-17 ┆ Cliente47 ┆ ProductoB ┆ 5        ┆ 15              ┆ 75    ┆ Online │\n",
              "└────────────┴───────────┴───────────┴──────────┴─────────────────┴───────┴────────┘"
            ],
            "text/html": [
              "<div><style>\n",
              ".dataframe > thead > tr > th,\n",
              ".dataframe > tbody > tr > td {\n",
              "  text-align: right;\n",
              "}\n",
              "</style>\n",
              "<small>shape: (8, 7)</small><table border=\"1\" class=\"dataframe\"><thead><tr><th>Fecha</th><th>Cliente</th><th>Producto</th><th>Cantidad</th><th>Precio Unitario</th><th>Total</th><th>Origen</th></tr><tr><td>str</td><td>str</td><td>str</td><td>i64</td><td>i64</td><td>i64</td><td>str</td></tr></thead><tbody><tr><td>&quot;2023-11-02&quot;</td><td>&quot;Cliente2&quot;</td><td>&quot;ProductoB&quot;</td><td>3</td><td>15</td><td>45</td><td>&quot;Online&quot;</td></tr><tr><td>&quot;2023-11-11&quot;</td><td>&quot;Cliente11&quot;</td><td>&quot;ProductoB&quot;</td><td>5</td><td>15</td><td>75</td><td>&quot;Online&quot;</td></tr><tr><td>&quot;2023-11-15&quot;</td><td>&quot;Cliente15&quot;</td><td>&quot;ProductoB&quot;</td><td>4</td><td>15</td><td>60</td><td>&quot;Online&quot;</td></tr><tr><td>&quot;2023-11-23&quot;</td><td>&quot;Cliente23&quot;</td><td>&quot;ProductoB&quot;</td><td>3</td><td>15</td><td>45</td><td>&quot;Online&quot;</td></tr><tr><td>&quot;2023-11-27&quot;</td><td>&quot;Cliente27&quot;</td><td>&quot;ProductoB&quot;</td><td>5</td><td>15</td><td>75</td><td>&quot;Online&quot;</td></tr><tr><td>&quot;2023-12-01&quot;</td><td>&quot;Cliente31&quot;</td><td>&quot;ProductoB&quot;</td><td>4</td><td>15</td><td>60</td><td>&quot;Online&quot;</td></tr><tr><td>&quot;2023-12-09&quot;</td><td>&quot;Cliente39&quot;</td><td>&quot;ProductoB&quot;</td><td>3</td><td>15</td><td>45</td><td>&quot;Online&quot;</td></tr><tr><td>&quot;2023-12-17&quot;</td><td>&quot;Cliente47&quot;</td><td>&quot;ProductoB&quot;</td><td>5</td><td>15</td><td>75</td><td>&quot;Online&quot;</td></tr></tbody></table></div>"
            ]
          },
          "metadata": {},
          "execution_count": 14
        }
      ]
    },
    {
      "cell_type": "code",
      "source": [
        "df_csv =df_csv.with_columns(pl.col(\"Total\").sum().alias(\"e\"), (pl.col(\"Total\") + 50).alias(\"b\"))"
      ],
      "metadata": {
        "id": "pRNQLiWDgeXQ"
      },
      "execution_count": 23,
      "outputs": []
    },
    {
      "cell_type": "code",
      "source": [
        "df = df_csv.select(pl.col(\"Total\",\"Origen\"))\n",
        "df.groupby(\"Origen\", maintain_order=True).count()"
      ],
      "metadata": {
        "colab": {
          "base_uri": "https://localhost:8080/",
          "height": 161
        },
        "id": "CvOzs1-DhLQq",
        "outputId": "77807753-ece0-4a09-afce-a9bca759313c"
      },
      "execution_count": 17,
      "outputs": [
        {
          "output_type": "execute_result",
          "data": {
            "text/plain": [
              "shape: (2, 2)\n",
              "┌───────────────┬───────┐\n",
              "│ Origen        ┆ count │\n",
              "│ ---           ┆ ---   │\n",
              "│ str           ┆ u32   │\n",
              "╞═══════════════╪═══════╡\n",
              "│ Online        ┆ 36    │\n",
              "│ Tienda Física ┆ 14    │\n",
              "└───────────────┴───────┘"
            ],
            "text/html": [
              "<div><style>\n",
              ".dataframe > thead > tr > th,\n",
              ".dataframe > tbody > tr > td {\n",
              "  text-align: right;\n",
              "}\n",
              "</style>\n",
              "<small>shape: (2, 2)</small><table border=\"1\" class=\"dataframe\"><thead><tr><th>Origen</th><th>count</th></tr><tr><td>str</td><td>u32</td></tr></thead><tbody><tr><td>&quot;Online&quot;</td><td>36</td></tr><tr><td>&quot;Tienda Física&quot;</td><td>14</td></tr></tbody></table></div>"
            ]
          },
          "metadata": {},
          "execution_count": 17
        }
      ]
    },
    {
      "cell_type": "code",
      "source": [
        "df_csv.groupby(\"Producto\", maintain_order=True).agg(\n",
        "   pl.col(\"Producto\").count().alias(\"count\") ,\n",
        "   pl.col(\"Total\").sum().alias(\"sum\")\n",
        ")"
      ],
      "metadata": {
        "colab": {
          "base_uri": "https://localhost:8080/",
          "height": 224
        },
        "id": "_qFjQ7eVhtJG",
        "outputId": "1f1a4288-8bb4-40a6-f27f-c6b8cef05a33"
      },
      "execution_count": 19,
      "outputs": [
        {
          "output_type": "execute_result",
          "data": {
            "text/plain": [
              "shape: (4, 3)\n",
              "┌───────────┬───────┬─────┐\n",
              "│ Producto  ┆ count ┆ sum │\n",
              "│ ---       ┆ ---   ┆ --- │\n",
              "│ str       ┆ u32   ┆ i64 │\n",
              "╞═══════════╪═══════╪═════╡\n",
              "│ ProductoA ┆ 14    ┆ 440 │\n",
              "│ ProductoB ┆ 12    ┆ 600 │\n",
              "│ ProductoC ┆ 12    ┆ 620 │\n",
              "│ ProductoD ┆ 12    ┆ 900 │\n",
              "└───────────┴───────┴─────┘"
            ],
            "text/html": [
              "<div><style>\n",
              ".dataframe > thead > tr > th,\n",
              ".dataframe > tbody > tr > td {\n",
              "  text-align: right;\n",
              "}\n",
              "</style>\n",
              "<small>shape: (4, 3)</small><table border=\"1\" class=\"dataframe\"><thead><tr><th>Producto</th><th>count</th><th>sum</th></tr><tr><td>str</td><td>u32</td><td>i64</td></tr></thead><tbody><tr><td>&quot;ProductoA&quot;</td><td>14</td><td>440</td></tr><tr><td>&quot;ProductoB&quot;</td><td>12</td><td>600</td></tr><tr><td>&quot;ProductoC&quot;</td><td>12</td><td>620</td></tr><tr><td>&quot;ProductoD&quot;</td><td>12</td><td>900</td></tr></tbody></table></div>"
            ]
          },
          "metadata": {},
          "execution_count": 19
        }
      ]
    },
    {
      "cell_type": "code",
      "source": [
        "df_csv.n_unique(\"Producto\")"
      ],
      "metadata": {
        "colab": {
          "base_uri": "https://localhost:8080/"
        },
        "id": "WpCDCVRviUr0",
        "outputId": "2871528e-f319-4d6e-d33b-276082d0f16d"
      },
      "execution_count": 20,
      "outputs": [
        {
          "output_type": "execute_result",
          "data": {
            "text/plain": [
              "4"
            ]
          },
          "metadata": {},
          "execution_count": 20
        }
      ]
    },
    {
      "cell_type": "code",
      "source": [
        "df_csv.get_column(\"Producto\").unique()"
      ],
      "metadata": {
        "colab": {
          "base_uri": "https://localhost:8080/",
          "height": 224
        },
        "id": "P-pDRgerigvV",
        "outputId": "b55afa57-60b9-418b-d896-37db22061e57"
      },
      "execution_count": 21,
      "outputs": [
        {
          "output_type": "execute_result",
          "data": {
            "text/plain": [
              "shape: (4,)\n",
              "Series: 'Producto' [str]\n",
              "[\n",
              "\t\"ProductoD\"\n",
              "\t\"ProductoC\"\n",
              "\t\"ProductoB\"\n",
              "\t\"ProductoA\"\n",
              "]"
            ],
            "text/html": [
              "<div><style>\n",
              ".dataframe > thead > tr > th,\n",
              ".dataframe > tbody > tr > td {\n",
              "  text-align: right;\n",
              "}\n",
              "</style>\n",
              "<small>shape: (4,)</small><table border=\"1\" class=\"dataframe\"><thead><tr><th>Producto</th></tr><tr><td>str</td></tr></thead><tbody><tr><td>&quot;ProductoD&quot;</td></tr><tr><td>&quot;ProductoC&quot;</td></tr><tr><td>&quot;ProductoB&quot;</td></tr><tr><td>&quot;ProductoA&quot;</td></tr></tbody></table></div>"
            ]
          },
          "metadata": {},
          "execution_count": 21
        }
      ]
    },
    {
      "cell_type": "code",
      "source": [
        "df_csv"
      ],
      "metadata": {
        "colab": {
          "base_uri": "https://localhost:8080/",
          "height": 882
        },
        "id": "_GZ2eFbvito5",
        "outputId": "b0f62457-3e7c-4b75-d7cb-dd4dca8ffd6b"
      },
      "execution_count": 24,
      "outputs": [
        {
          "output_type": "execute_result",
          "data": {
            "text/plain": [
              "shape: (50, 9)\n",
              "┌────────────┬───────────┬───────────┬──────────┬───┬───────┬───────────────┬──────┬─────┐\n",
              "│ Fecha      ┆ Cliente   ┆ Producto  ┆ Cantidad ┆ … ┆ Total ┆ Origen        ┆ e    ┆ b   │\n",
              "│ ---        ┆ ---       ┆ ---       ┆ ---      ┆   ┆ ---   ┆ ---           ┆ ---  ┆ --- │\n",
              "│ str        ┆ str       ┆ str       ┆ i64      ┆   ┆ i64   ┆ str           ┆ i64  ┆ i64 │\n",
              "╞════════════╪═══════════╪═══════════╪══════════╪═══╪═══════╪═══════════════╪══════╪═════╡\n",
              "│ 2023-11-01 ┆ Cliente1  ┆ ProductoA ┆ 5        ┆ … ┆ 50    ┆ Online        ┆ 2560 ┆ 100 │\n",
              "│ 2023-11-02 ┆ Cliente2  ┆ ProductoB ┆ 3        ┆ … ┆ 45    ┆ Online        ┆ 2560 ┆ 95  │\n",
              "│ 2023-11-03 ┆ Cliente3  ┆ ProductoC ┆ 2        ┆ … ┆ 40    ┆ Online        ┆ 2560 ┆ 90  │\n",
              "│ 2023-11-04 ┆ Cliente4  ┆ ProductoA ┆ 4        ┆ … ┆ 40    ┆ Tienda Física ┆ 2560 ┆ 90  │\n",
              "│ …          ┆ …         ┆ …         ┆ …        ┆ … ┆ …     ┆ …             ┆ …    ┆ …   │\n",
              "│ 2023-12-17 ┆ Cliente47 ┆ ProductoB ┆ 5        ┆ … ┆ 75    ┆ Online        ┆ 2560 ┆ 125 │\n",
              "│ 2023-12-18 ┆ Cliente48 ┆ ProductoC ┆ 4        ┆ … ┆ 80    ┆ Tienda Física ┆ 2560 ┆ 130 │\n",
              "│ 2023-12-19 ┆ Cliente49 ┆ ProductoD ┆ 3        ┆ … ┆ 90    ┆ Online        ┆ 2560 ┆ 140 │\n",
              "│ 2023-12-20 ┆ Cliente50 ┆ ProductoA ┆ 2        ┆ … ┆ 20    ┆ Online        ┆ 2560 ┆ 70  │\n",
              "└────────────┴───────────┴───────────┴──────────┴───┴───────┴───────────────┴──────┴─────┘"
            ],
            "text/html": [
              "<div><style>\n",
              ".dataframe > thead > tr > th,\n",
              ".dataframe > tbody > tr > td {\n",
              "  text-align: right;\n",
              "}\n",
              "</style>\n",
              "<small>shape: (50, 9)</small><table border=\"1\" class=\"dataframe\"><thead><tr><th>Fecha</th><th>Cliente</th><th>Producto</th><th>Cantidad</th><th>Precio Unitario</th><th>Total</th><th>Origen</th><th>e</th><th>b</th></tr><tr><td>str</td><td>str</td><td>str</td><td>i64</td><td>i64</td><td>i64</td><td>str</td><td>i64</td><td>i64</td></tr></thead><tbody><tr><td>&quot;2023-11-01&quot;</td><td>&quot;Cliente1&quot;</td><td>&quot;ProductoA&quot;</td><td>5</td><td>10</td><td>50</td><td>&quot;Online&quot;</td><td>2560</td><td>100</td></tr><tr><td>&quot;2023-11-02&quot;</td><td>&quot;Cliente2&quot;</td><td>&quot;ProductoB&quot;</td><td>3</td><td>15</td><td>45</td><td>&quot;Online&quot;</td><td>2560</td><td>95</td></tr><tr><td>&quot;2023-11-03&quot;</td><td>&quot;Cliente3&quot;</td><td>&quot;ProductoC&quot;</td><td>2</td><td>20</td><td>40</td><td>&quot;Online&quot;</td><td>2560</td><td>90</td></tr><tr><td>&quot;2023-11-04&quot;</td><td>&quot;Cliente4&quot;</td><td>&quot;ProductoA&quot;</td><td>4</td><td>10</td><td>40</td><td>&quot;Tienda Física&quot;</td><td>2560</td><td>90</td></tr><tr><td>&quot;2023-11-05&quot;</td><td>&quot;Cliente5&quot;</td><td>&quot;ProductoD&quot;</td><td>1</td><td>30</td><td>30</td><td>&quot;Online&quot;</td><td>2560</td><td>80</td></tr><tr><td>&quot;2023-11-06&quot;</td><td>&quot;Cliente6&quot;</td><td>&quot;ProductoB&quot;</td><td>2</td><td>15</td><td>30</td><td>&quot;Online&quot;</td><td>2560</td><td>80</td></tr><tr><td>&quot;2023-11-07&quot;</td><td>&quot;Cliente7&quot;</td><td>&quot;ProductoA&quot;</td><td>3</td><td>10</td><td>30</td><td>&quot;Tienda Física&quot;</td><td>2560</td><td>80</td></tr><tr><td>&quot;2023-11-08&quot;</td><td>&quot;Cliente8&quot;</td><td>&quot;ProductoC&quot;</td><td>2</td><td>20</td><td>40</td><td>&quot;Online&quot;</td><td>2560</td><td>90</td></tr><tr><td>&quot;2023-11-09&quot;</td><td>&quot;Cliente9&quot;</td><td>&quot;ProductoD&quot;</td><td>4</td><td>30</td><td>120</td><td>&quot;Online&quot;</td><td>2560</td><td>170</td></tr><tr><td>&quot;2023-11-10&quot;</td><td>&quot;Cliente10&quot;</td><td>&quot;ProductoA&quot;</td><td>3</td><td>10</td><td>30</td><td>&quot;Tienda Física&quot;</td><td>2560</td><td>80</td></tr><tr><td>&quot;2023-11-11&quot;</td><td>&quot;Cliente11&quot;</td><td>&quot;ProductoB&quot;</td><td>5</td><td>15</td><td>75</td><td>&quot;Online&quot;</td><td>2560</td><td>125</td></tr><tr><td>&quot;2023-11-12&quot;</td><td>&quot;Cliente12&quot;</td><td>&quot;ProductoC&quot;</td><td>2</td><td>20</td><td>40</td><td>&quot;Online&quot;</td><td>2560</td><td>90</td></tr><tr><td>&hellip;</td><td>&hellip;</td><td>&hellip;</td><td>&hellip;</td><td>&hellip;</td><td>&hellip;</td><td>&hellip;</td><td>&hellip;</td><td>&hellip;</td></tr><tr><td>&quot;2023-12-09&quot;</td><td>&quot;Cliente39&quot;</td><td>&quot;ProductoB&quot;</td><td>3</td><td>15</td><td>45</td><td>&quot;Online&quot;</td><td>2560</td><td>95</td></tr><tr><td>&quot;2023-12-10&quot;</td><td>&quot;Cliente40&quot;</td><td>&quot;ProductoC&quot;</td><td>1</td><td>20</td><td>20</td><td>&quot;Tienda Física&quot;</td><td>2560</td><td>70</td></tr><tr><td>&quot;2023-12-11&quot;</td><td>&quot;Cliente41&quot;</td><td>&quot;ProductoD&quot;</td><td>5</td><td>30</td><td>150</td><td>&quot;Online&quot;</td><td>2560</td><td>200</td></tr><tr><td>&quot;2023-12-12&quot;</td><td>&quot;Cliente42&quot;</td><td>&quot;ProductoA&quot;</td><td>4</td><td>10</td><td>40</td><td>&quot;Online&quot;</td><td>2560</td><td>90</td></tr><tr><td>&quot;2023-12-13&quot;</td><td>&quot;Cliente43&quot;</td><td>&quot;ProductoB&quot;</td><td>2</td><td>15</td><td>30</td><td>&quot;Online&quot;</td><td>2560</td><td>80</td></tr><tr><td>&quot;2023-12-14&quot;</td><td>&quot;Cliente44&quot;</td><td>&quot;ProductoC&quot;</td><td>3</td><td>20</td><td>60</td><td>&quot;Tienda Física&quot;</td><td>2560</td><td>110</td></tr><tr><td>&quot;2023-12-15&quot;</td><td>&quot;Cliente45&quot;</td><td>&quot;ProductoD&quot;</td><td>2</td><td>30</td><td>60</td><td>&quot;Online&quot;</td><td>2560</td><td>110</td></tr><tr><td>&quot;2023-12-16&quot;</td><td>&quot;Cliente46&quot;</td><td>&quot;ProductoA&quot;</td><td>1</td><td>10</td><td>10</td><td>&quot;Online&quot;</td><td>2560</td><td>60</td></tr><tr><td>&quot;2023-12-17&quot;</td><td>&quot;Cliente47&quot;</td><td>&quot;ProductoB&quot;</td><td>5</td><td>15</td><td>75</td><td>&quot;Online&quot;</td><td>2560</td><td>125</td></tr><tr><td>&quot;2023-12-18&quot;</td><td>&quot;Cliente48&quot;</td><td>&quot;ProductoC&quot;</td><td>4</td><td>20</td><td>80</td><td>&quot;Tienda Física&quot;</td><td>2560</td><td>130</td></tr><tr><td>&quot;2023-12-19&quot;</td><td>&quot;Cliente49&quot;</td><td>&quot;ProductoD&quot;</td><td>3</td><td>30</td><td>90</td><td>&quot;Online&quot;</td><td>2560</td><td>140</td></tr><tr><td>&quot;2023-12-20&quot;</td><td>&quot;Cliente50&quot;</td><td>&quot;ProductoA&quot;</td><td>2</td><td>10</td><td>20</td><td>&quot;Online&quot;</td><td>2560</td><td>70</td></tr></tbody></table></div>"
            ]
          },
          "metadata": {},
          "execution_count": 24
        }
      ]
    },
    {
      "cell_type": "code",
      "source": [
        "df_csv.drop(\"e\",\"b\")"
      ],
      "metadata": {
        "colab": {
          "base_uri": "https://localhost:8080/",
          "height": 882
        },
        "id": "QYa4F-DQi_mg",
        "outputId": "4881665a-9dfc-4b54-db39-750750181694"
      },
      "execution_count": 25,
      "outputs": [
        {
          "output_type": "execute_result",
          "data": {
            "text/plain": [
              "shape: (50, 7)\n",
              "┌────────────┬───────────┬───────────┬──────────┬─────────────────┬───────┬───────────────┐\n",
              "│ Fecha      ┆ Cliente   ┆ Producto  ┆ Cantidad ┆ Precio Unitario ┆ Total ┆ Origen        │\n",
              "│ ---        ┆ ---       ┆ ---       ┆ ---      ┆ ---             ┆ ---   ┆ ---           │\n",
              "│ str        ┆ str       ┆ str       ┆ i64      ┆ i64             ┆ i64   ┆ str           │\n",
              "╞════════════╪═══════════╪═══════════╪══════════╪═════════════════╪═══════╪═══════════════╡\n",
              "│ 2023-11-01 ┆ Cliente1  ┆ ProductoA ┆ 5        ┆ 10              ┆ 50    ┆ Online        │\n",
              "│ 2023-11-02 ┆ Cliente2  ┆ ProductoB ┆ 3        ┆ 15              ┆ 45    ┆ Online        │\n",
              "│ 2023-11-03 ┆ Cliente3  ┆ ProductoC ┆ 2        ┆ 20              ┆ 40    ┆ Online        │\n",
              "│ 2023-11-04 ┆ Cliente4  ┆ ProductoA ┆ 4        ┆ 10              ┆ 40    ┆ Tienda Física │\n",
              "│ …          ┆ …         ┆ …         ┆ …        ┆ …               ┆ …     ┆ …             │\n",
              "│ 2023-12-17 ┆ Cliente47 ┆ ProductoB ┆ 5        ┆ 15              ┆ 75    ┆ Online        │\n",
              "│ 2023-12-18 ┆ Cliente48 ┆ ProductoC ┆ 4        ┆ 20              ┆ 80    ┆ Tienda Física │\n",
              "│ 2023-12-19 ┆ Cliente49 ┆ ProductoD ┆ 3        ┆ 30              ┆ 90    ┆ Online        │\n",
              "│ 2023-12-20 ┆ Cliente50 ┆ ProductoA ┆ 2        ┆ 10              ┆ 20    ┆ Online        │\n",
              "└────────────┴───────────┴───────────┴──────────┴─────────────────┴───────┴───────────────┘"
            ],
            "text/html": [
              "<div><style>\n",
              ".dataframe > thead > tr > th,\n",
              ".dataframe > tbody > tr > td {\n",
              "  text-align: right;\n",
              "}\n",
              "</style>\n",
              "<small>shape: (50, 7)</small><table border=\"1\" class=\"dataframe\"><thead><tr><th>Fecha</th><th>Cliente</th><th>Producto</th><th>Cantidad</th><th>Precio Unitario</th><th>Total</th><th>Origen</th></tr><tr><td>str</td><td>str</td><td>str</td><td>i64</td><td>i64</td><td>i64</td><td>str</td></tr></thead><tbody><tr><td>&quot;2023-11-01&quot;</td><td>&quot;Cliente1&quot;</td><td>&quot;ProductoA&quot;</td><td>5</td><td>10</td><td>50</td><td>&quot;Online&quot;</td></tr><tr><td>&quot;2023-11-02&quot;</td><td>&quot;Cliente2&quot;</td><td>&quot;ProductoB&quot;</td><td>3</td><td>15</td><td>45</td><td>&quot;Online&quot;</td></tr><tr><td>&quot;2023-11-03&quot;</td><td>&quot;Cliente3&quot;</td><td>&quot;ProductoC&quot;</td><td>2</td><td>20</td><td>40</td><td>&quot;Online&quot;</td></tr><tr><td>&quot;2023-11-04&quot;</td><td>&quot;Cliente4&quot;</td><td>&quot;ProductoA&quot;</td><td>4</td><td>10</td><td>40</td><td>&quot;Tienda Física&quot;</td></tr><tr><td>&quot;2023-11-05&quot;</td><td>&quot;Cliente5&quot;</td><td>&quot;ProductoD&quot;</td><td>1</td><td>30</td><td>30</td><td>&quot;Online&quot;</td></tr><tr><td>&quot;2023-11-06&quot;</td><td>&quot;Cliente6&quot;</td><td>&quot;ProductoB&quot;</td><td>2</td><td>15</td><td>30</td><td>&quot;Online&quot;</td></tr><tr><td>&quot;2023-11-07&quot;</td><td>&quot;Cliente7&quot;</td><td>&quot;ProductoA&quot;</td><td>3</td><td>10</td><td>30</td><td>&quot;Tienda Física&quot;</td></tr><tr><td>&quot;2023-11-08&quot;</td><td>&quot;Cliente8&quot;</td><td>&quot;ProductoC&quot;</td><td>2</td><td>20</td><td>40</td><td>&quot;Online&quot;</td></tr><tr><td>&quot;2023-11-09&quot;</td><td>&quot;Cliente9&quot;</td><td>&quot;ProductoD&quot;</td><td>4</td><td>30</td><td>120</td><td>&quot;Online&quot;</td></tr><tr><td>&quot;2023-11-10&quot;</td><td>&quot;Cliente10&quot;</td><td>&quot;ProductoA&quot;</td><td>3</td><td>10</td><td>30</td><td>&quot;Tienda Física&quot;</td></tr><tr><td>&quot;2023-11-11&quot;</td><td>&quot;Cliente11&quot;</td><td>&quot;ProductoB&quot;</td><td>5</td><td>15</td><td>75</td><td>&quot;Online&quot;</td></tr><tr><td>&quot;2023-11-12&quot;</td><td>&quot;Cliente12&quot;</td><td>&quot;ProductoC&quot;</td><td>2</td><td>20</td><td>40</td><td>&quot;Online&quot;</td></tr><tr><td>&hellip;</td><td>&hellip;</td><td>&hellip;</td><td>&hellip;</td><td>&hellip;</td><td>&hellip;</td><td>&hellip;</td></tr><tr><td>&quot;2023-12-09&quot;</td><td>&quot;Cliente39&quot;</td><td>&quot;ProductoB&quot;</td><td>3</td><td>15</td><td>45</td><td>&quot;Online&quot;</td></tr><tr><td>&quot;2023-12-10&quot;</td><td>&quot;Cliente40&quot;</td><td>&quot;ProductoC&quot;</td><td>1</td><td>20</td><td>20</td><td>&quot;Tienda Física&quot;</td></tr><tr><td>&quot;2023-12-11&quot;</td><td>&quot;Cliente41&quot;</td><td>&quot;ProductoD&quot;</td><td>5</td><td>30</td><td>150</td><td>&quot;Online&quot;</td></tr><tr><td>&quot;2023-12-12&quot;</td><td>&quot;Cliente42&quot;</td><td>&quot;ProductoA&quot;</td><td>4</td><td>10</td><td>40</td><td>&quot;Online&quot;</td></tr><tr><td>&quot;2023-12-13&quot;</td><td>&quot;Cliente43&quot;</td><td>&quot;ProductoB&quot;</td><td>2</td><td>15</td><td>30</td><td>&quot;Online&quot;</td></tr><tr><td>&quot;2023-12-14&quot;</td><td>&quot;Cliente44&quot;</td><td>&quot;ProductoC&quot;</td><td>3</td><td>20</td><td>60</td><td>&quot;Tienda Física&quot;</td></tr><tr><td>&quot;2023-12-15&quot;</td><td>&quot;Cliente45&quot;</td><td>&quot;ProductoD&quot;</td><td>2</td><td>30</td><td>60</td><td>&quot;Online&quot;</td></tr><tr><td>&quot;2023-12-16&quot;</td><td>&quot;Cliente46&quot;</td><td>&quot;ProductoA&quot;</td><td>1</td><td>10</td><td>10</td><td>&quot;Online&quot;</td></tr><tr><td>&quot;2023-12-17&quot;</td><td>&quot;Cliente47&quot;</td><td>&quot;ProductoB&quot;</td><td>5</td><td>15</td><td>75</td><td>&quot;Online&quot;</td></tr><tr><td>&quot;2023-12-18&quot;</td><td>&quot;Cliente48&quot;</td><td>&quot;ProductoC&quot;</td><td>4</td><td>20</td><td>80</td><td>&quot;Tienda Física&quot;</td></tr><tr><td>&quot;2023-12-19&quot;</td><td>&quot;Cliente49&quot;</td><td>&quot;ProductoD&quot;</td><td>3</td><td>30</td><td>90</td><td>&quot;Online&quot;</td></tr><tr><td>&quot;2023-12-20&quot;</td><td>&quot;Cliente50&quot;</td><td>&quot;ProductoA&quot;</td><td>2</td><td>10</td><td>20</td><td>&quot;Online&quot;</td></tr></tbody></table></div>"
            ]
          },
          "metadata": {},
          "execution_count": 25
        }
      ]
    }
  ]
}