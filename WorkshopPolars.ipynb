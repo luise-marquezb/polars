{
  "nbformat": 4,
  "nbformat_minor": 0,
  "metadata": {
    "colab": {
      "provenance": []
    },
    "kernelspec": {
      "name": "python3",
      "display_name": "Python 3"
    },
    "language_info": {
      "name": "python"
    }
  },
  "cells": [
    {
      "cell_type": "markdown",
      "source": [
        "**INSTALACIÓN POLARS**"
      ],
      "metadata": {
        "id": "8iqIC_ZF0rT2"
      }
    },
    {
      "cell_type": "code",
      "source": [
        "!pip install polars"
      ],
      "metadata": {
        "colab": {
          "base_uri": "https://localhost:8080/"
        },
        "id": "EQK6uQKQ1oPc",
        "outputId": "6da9fd58-b83a-4807-b2da-109659021fd1"
      },
      "execution_count": null,
      "outputs": [
        {
          "output_type": "stream",
          "name": "stdout",
          "text": [
            "Requirement already satisfied: polars in /usr/local/lib/python3.10/dist-packages (0.17.3)\n",
            "Requirement already satisfied: typing_extensions>=4.0.1 in /usr/local/lib/python3.10/dist-packages (from polars) (4.5.0)\n"
          ]
        }
      ]
    },
    {
      "cell_type": "markdown",
      "source": [
        "**LIBRERIAS A UTILIZAR**"
      ],
      "metadata": {
        "id": "fFfMenWV1h3S"
      }
    },
    {
      "cell_type": "code",
      "source": [
        "import polars as pl\n",
        "import matplotlib.pyplot as plt\n",
        "import numpy as np\n",
        "import plotly.express as px"
      ],
      "metadata": {
        "id": "XogBwQ961FAM"
      },
      "execution_count": null,
      "outputs": []
    },
    {
      "cell_type": "markdown",
      "source": [
        "**INGESTA DE DATOS**"
      ],
      "metadata": {
        "id": "selVnRoL0xeT"
      }
    },
    {
      "cell_type": "code",
      "source": [
        "df = pl.read_csv(\"WorldCupMatches.csv\")\n",
        "df"
      ],
      "metadata": {
        "colab": {
          "base_uri": "https://localhost:8080/",
          "height": 1000
        },
        "id": "GiN-usdx1F0H",
        "outputId": "aeb1902b-8c69-406d-81ae-aa93be88f6f4"
      },
      "execution_count": null,
      "outputs": [
        {
          "output_type": "execute_result",
          "data": {
            "text/plain": [
              "shape: (4_572, 20)\n",
              "┌──────┬──────────────────────┬─────────┬─────────┬───┬─────────┬─────────┬────────────┬───────────┐\n",
              "│ Year ┆ Datetime             ┆ Stage   ┆ Stadium ┆ … ┆ RoundID ┆ MatchID ┆ Home Team  ┆ Away Team │\n",
              "│ ---  ┆ ---                  ┆ ---     ┆ ---     ┆   ┆ ---     ┆ ---     ┆ Initials   ┆ Initials  │\n",
              "│ i64  ┆ str                  ┆ str     ┆ str     ┆   ┆ i64     ┆ i64     ┆ ---        ┆ ---       │\n",
              "│      ┆                      ┆         ┆         ┆   ┆         ┆         ┆ str        ┆ str       │\n",
              "╞══════╪══════════════════════╪═════════╪═════════╪═══╪═════════╪═════════╪════════════╪═══════════╡\n",
              "│ 1930 ┆ 13 Jul 1930 - 15:00  ┆ Group 1 ┆ Pocitos ┆ … ┆ 201     ┆ 1096    ┆ FRA        ┆ MEX       │\n",
              "│ 1930 ┆ 13 Jul 1930 - 15:00  ┆ Group 4 ┆ Parque  ┆ … ┆ 201     ┆ 1090    ┆ USA        ┆ BEL       │\n",
              "│      ┆                      ┆         ┆ Central ┆   ┆         ┆         ┆            ┆           │\n",
              "│ 1930 ┆ 14 Jul 1930 - 12:45  ┆ Group 2 ┆ Parque  ┆ … ┆ 201     ┆ 1093    ┆ YUG        ┆ BRA       │\n",
              "│      ┆                      ┆         ┆ Central ┆   ┆         ┆         ┆            ┆           │\n",
              "│ 1930 ┆ 14 Jul 1930 - 14:50  ┆ Group 3 ┆ Pocitos ┆ … ┆ 201     ┆ 1098    ┆ ROU        ┆ PER       │\n",
              "│ …    ┆ …                    ┆ …       ┆ …       ┆ … ┆ …       ┆ …       ┆ …          ┆ …         │\n",
              "│ null ┆ null                 ┆ null    ┆ null    ┆ … ┆ null    ┆ null    ┆ null       ┆ null      │\n",
              "│ null ┆ null                 ┆ null    ┆ null    ┆ … ┆ null    ┆ null    ┆ null       ┆ null      │\n",
              "│ null ┆ null                 ┆ null    ┆ null    ┆ … ┆ null    ┆ null    ┆ null       ┆ null      │\n",
              "│ null ┆ null                 ┆ null    ┆ null    ┆ … ┆ null    ┆ null    ┆ null       ┆ null      │\n",
              "└──────┴──────────────────────┴─────────┴─────────┴───┴─────────┴─────────┴────────────┴───────────┘"
            ],
            "text/html": [
              "<div><style>\n",
              ".dataframe > thead > tr > th,\n",
              ".dataframe > tbody > tr > td {\n",
              "  text-align: right;\n",
              "}\n",
              "</style>\n",
              "<small>shape: (4572, 20)</small><table border=\"1\" class=\"dataframe\"><thead><tr><th>Year</th><th>Datetime</th><th>Stage</th><th>Stadium</th><th>City</th><th>Home Team Name</th><th>Home Team Goals</th><th>Away Team Goals</th><th>Away Team Name</th><th>Win conditions</th><th>Attendance</th><th>Half-time Home Goals</th><th>Half-time Away Goals</th><th>Referee</th><th>Assistant 1</th><th>Assistant 2</th><th>RoundID</th><th>MatchID</th><th>Home Team Initials</th><th>Away Team Initials</th></tr><tr><td>i64</td><td>str</td><td>str</td><td>str</td><td>str</td><td>str</td><td>i64</td><td>i64</td><td>str</td><td>str</td><td>i64</td><td>i64</td><td>i64</td><td>str</td><td>str</td><td>str</td><td>i64</td><td>i64</td><td>str</td><td>str</td></tr></thead><tbody><tr><td>1930</td><td>&quot;13 Jul 1930 - …</td><td>&quot;Group 1&quot;</td><td>&quot;Pocitos&quot;</td><td>&quot;Montevideo &quot;</td><td>&quot;France&quot;</td><td>4</td><td>1</td><td>&quot;Mexico&quot;</td><td>&quot; &quot;</td><td>4444</td><td>3</td><td>0</td><td>&quot;LOMBARDI Domin…</td><td>&quot;CRISTOPHE Henr…</td><td>&quot;REGO Gilberto …</td><td>201</td><td>1096</td><td>&quot;FRA&quot;</td><td>&quot;MEX&quot;</td></tr><tr><td>1930</td><td>&quot;13 Jul 1930 - …</td><td>&quot;Group 4&quot;</td><td>&quot;Parque Central…</td><td>&quot;Montevideo &quot;</td><td>&quot;USA&quot;</td><td>3</td><td>0</td><td>&quot;Belgium&quot;</td><td>&quot; &quot;</td><td>18346</td><td>2</td><td>0</td><td>&quot;MACIAS Jose (A…</td><td>&quot;MATEUCCI Franc…</td><td>&quot;WARNKEN Albert…</td><td>201</td><td>1090</td><td>&quot;USA&quot;</td><td>&quot;BEL&quot;</td></tr><tr><td>1930</td><td>&quot;14 Jul 1930 - …</td><td>&quot;Group 2&quot;</td><td>&quot;Parque Central…</td><td>&quot;Montevideo &quot;</td><td>&quot;Yugoslavia&quot;</td><td>2</td><td>1</td><td>&quot;Brazil&quot;</td><td>&quot; &quot;</td><td>24059</td><td>2</td><td>0</td><td>&quot;TEJADA Anibal …</td><td>&quot;VALLARINO Rica…</td><td>&quot;BALWAY Thomas …</td><td>201</td><td>1093</td><td>&quot;YUG&quot;</td><td>&quot;BRA&quot;</td></tr><tr><td>1930</td><td>&quot;14 Jul 1930 - …</td><td>&quot;Group 3&quot;</td><td>&quot;Pocitos&quot;</td><td>&quot;Montevideo &quot;</td><td>&quot;Romania&quot;</td><td>3</td><td>1</td><td>&quot;Peru&quot;</td><td>&quot; &quot;</td><td>2549</td><td>1</td><td>0</td><td>&quot;WARNKEN Albert…</td><td>&quot;LANGENUS Jean …</td><td>&quot;MATEUCCI Franc…</td><td>201</td><td>1098</td><td>&quot;ROU&quot;</td><td>&quot;PER&quot;</td></tr><tr><td>1930</td><td>&quot;15 Jul 1930 - …</td><td>&quot;Group 1&quot;</td><td>&quot;Parque Central…</td><td>&quot;Montevideo &quot;</td><td>&quot;Argentina&quot;</td><td>1</td><td>0</td><td>&quot;France&quot;</td><td>&quot; &quot;</td><td>23409</td><td>0</td><td>0</td><td>&quot;REGO Gilberto …</td><td>&quot;SAUCEDO Ulises…</td><td>&quot;RADULESCU Cons…</td><td>201</td><td>1085</td><td>&quot;ARG&quot;</td><td>&quot;FRA&quot;</td></tr><tr><td>1930</td><td>&quot;16 Jul 1930 - …</td><td>&quot;Group 1&quot;</td><td>&quot;Parque Central…</td><td>&quot;Montevideo &quot;</td><td>&quot;Chile&quot;</td><td>3</td><td>0</td><td>&quot;Mexico&quot;</td><td>&quot; &quot;</td><td>9249</td><td>1</td><td>0</td><td>&quot;CRISTOPHE Henr…</td><td>&quot;APHESTEGUY Mar…</td><td>&quot;LANGENUS Jean …</td><td>201</td><td>1095</td><td>&quot;CHI&quot;</td><td>&quot;MEX&quot;</td></tr><tr><td>1930</td><td>&quot;17 Jul 1930 - …</td><td>&quot;Group 2&quot;</td><td>&quot;Parque Central…</td><td>&quot;Montevideo &quot;</td><td>&quot;Yugoslavia&quot;</td><td>4</td><td>0</td><td>&quot;Bolivia&quot;</td><td>&quot; &quot;</td><td>18306</td><td>0</td><td>0</td><td>&quot;MATEUCCI Franc…</td><td>&quot;LOMBARDI Domin…</td><td>&quot;WARNKEN Albert…</td><td>201</td><td>1092</td><td>&quot;YUG&quot;</td><td>&quot;BOL&quot;</td></tr><tr><td>1930</td><td>&quot;17 Jul 1930 - …</td><td>&quot;Group 4&quot;</td><td>&quot;Parque Central…</td><td>&quot;Montevideo &quot;</td><td>&quot;USA&quot;</td><td>3</td><td>0</td><td>&quot;Paraguay&quot;</td><td>&quot; &quot;</td><td>18306</td><td>2</td><td>0</td><td>&quot;MACIAS Jose (A…</td><td>&quot;APHESTEGUY Mar…</td><td>&quot;TEJADA Anibal …</td><td>201</td><td>1097</td><td>&quot;USA&quot;</td><td>&quot;PAR&quot;</td></tr><tr><td>1930</td><td>&quot;18 Jul 1930 - …</td><td>&quot;Group 3&quot;</td><td>&quot;Estadio Centen…</td><td>&quot;Montevideo &quot;</td><td>&quot;Uruguay&quot;</td><td>1</td><td>0</td><td>&quot;Peru&quot;</td><td>&quot; &quot;</td><td>57735</td><td>0</td><td>0</td><td>&quot;LANGENUS Jean …</td><td>&quot;BALWAY Thomas …</td><td>&quot;CRISTOPHE Henr…</td><td>201</td><td>1099</td><td>&quot;URU&quot;</td><td>&quot;PER&quot;</td></tr><tr><td>1930</td><td>&quot;19 Jul 1930 - …</td><td>&quot;Group 1&quot;</td><td>&quot;Estadio Centen…</td><td>&quot;Montevideo &quot;</td><td>&quot;Chile&quot;</td><td>1</td><td>0</td><td>&quot;France&quot;</td><td>&quot; &quot;</td><td>2000</td><td>0</td><td>0</td><td>&quot;TEJADA Anibal …</td><td>&quot;LOMBARDI Domin…</td><td>&quot;REGO Gilberto …</td><td>201</td><td>1094</td><td>&quot;CHI&quot;</td><td>&quot;FRA&quot;</td></tr><tr><td>1930</td><td>&quot;19 Jul 1930 - …</td><td>&quot;Group 1&quot;</td><td>&quot;Estadio Centen…</td><td>&quot;Montevideo &quot;</td><td>&quot;Argentina&quot;</td><td>6</td><td>3</td><td>&quot;Mexico&quot;</td><td>&quot; &quot;</td><td>42100</td><td>3</td><td>1</td><td>&quot;SAUCEDO Ulises…</td><td>&quot;ALONSO Gualber…</td><td>&quot;RADULESCU Cons…</td><td>201</td><td>1086</td><td>&quot;ARG&quot;</td><td>&quot;MEX&quot;</td></tr><tr><td>1930</td><td>&quot;20 Jul 1930 - …</td><td>&quot;Group 2&quot;</td><td>&quot;Estadio Centen…</td><td>&quot;Montevideo &quot;</td><td>&quot;Brazil&quot;</td><td>4</td><td>0</td><td>&quot;Bolivia&quot;</td><td>&quot; &quot;</td><td>25466</td><td>1</td><td>0</td><td>&quot;BALWAY Thomas …</td><td>&quot;MATEUCCI Franc…</td><td>&quot;VALLEJO Gaspar…</td><td>201</td><td>1091</td><td>&quot;BRA&quot;</td><td>&quot;BOL&quot;</td></tr><tr><td>&hellip;</td><td>&hellip;</td><td>&hellip;</td><td>&hellip;</td><td>&hellip;</td><td>&hellip;</td><td>&hellip;</td><td>&hellip;</td><td>&hellip;</td><td>&hellip;</td><td>&hellip;</td><td>&hellip;</td><td>&hellip;</td><td>&hellip;</td><td>&hellip;</td><td>&hellip;</td><td>&hellip;</td><td>&hellip;</td><td>&hellip;</td><td>&hellip;</td></tr><tr><td>null</td><td>null</td><td>null</td><td>null</td><td>null</td><td>null</td><td>null</td><td>null</td><td>null</td><td>null</td><td>null</td><td>null</td><td>null</td><td>null</td><td>null</td><td>null</td><td>null</td><td>null</td><td>null</td><td>null</td></tr><tr><td>null</td><td>null</td><td>null</td><td>null</td><td>null</td><td>null</td><td>null</td><td>null</td><td>null</td><td>null</td><td>null</td><td>null</td><td>null</td><td>null</td><td>null</td><td>null</td><td>null</td><td>null</td><td>null</td><td>null</td></tr><tr><td>null</td><td>null</td><td>null</td><td>null</td><td>null</td><td>null</td><td>null</td><td>null</td><td>null</td><td>null</td><td>null</td><td>null</td><td>null</td><td>null</td><td>null</td><td>null</td><td>null</td><td>null</td><td>null</td><td>null</td></tr><tr><td>null</td><td>null</td><td>null</td><td>null</td><td>null</td><td>null</td><td>null</td><td>null</td><td>null</td><td>null</td><td>null</td><td>null</td><td>null</td><td>null</td><td>null</td><td>null</td><td>null</td><td>null</td><td>null</td><td>null</td></tr><tr><td>null</td><td>null</td><td>null</td><td>null</td><td>null</td><td>null</td><td>null</td><td>null</td><td>null</td><td>null</td><td>null</td><td>null</td><td>null</td><td>null</td><td>null</td><td>null</td><td>null</td><td>null</td><td>null</td><td>null</td></tr><tr><td>null</td><td>null</td><td>null</td><td>null</td><td>null</td><td>null</td><td>null</td><td>null</td><td>null</td><td>null</td><td>null</td><td>null</td><td>null</td><td>null</td><td>null</td><td>null</td><td>null</td><td>null</td><td>null</td><td>null</td></tr><tr><td>null</td><td>null</td><td>null</td><td>null</td><td>null</td><td>null</td><td>null</td><td>null</td><td>null</td><td>null</td><td>null</td><td>null</td><td>null</td><td>null</td><td>null</td><td>null</td><td>null</td><td>null</td><td>null</td><td>null</td></tr><tr><td>null</td><td>null</td><td>null</td><td>null</td><td>null</td><td>null</td><td>null</td><td>null</td><td>null</td><td>null</td><td>null</td><td>null</td><td>null</td><td>null</td><td>null</td><td>null</td><td>null</td><td>null</td><td>null</td><td>null</td></tr><tr><td>null</td><td>null</td><td>null</td><td>null</td><td>null</td><td>null</td><td>null</td><td>null</td><td>null</td><td>null</td><td>null</td><td>null</td><td>null</td><td>null</td><td>null</td><td>null</td><td>null</td><td>null</td><td>null</td><td>null</td></tr><tr><td>null</td><td>null</td><td>null</td><td>null</td><td>null</td><td>null</td><td>null</td><td>null</td><td>null</td><td>null</td><td>null</td><td>null</td><td>null</td><td>null</td><td>null</td><td>null</td><td>null</td><td>null</td><td>null</td><td>null</td></tr><tr><td>null</td><td>null</td><td>null</td><td>null</td><td>null</td><td>null</td><td>null</td><td>null</td><td>null</td><td>null</td><td>null</td><td>null</td><td>null</td><td>null</td><td>null</td><td>null</td><td>null</td><td>null</td><td>null</td><td>null</td></tr><tr><td>null</td><td>null</td><td>null</td><td>null</td><td>null</td><td>null</td><td>null</td><td>null</td><td>null</td><td>null</td><td>null</td><td>null</td><td>null</td><td>null</td><td>null</td><td>null</td><td>null</td><td>null</td><td>null</td><td>null</td></tr></tbody></table></div>"
            ]
          },
          "metadata": {},
          "execution_count": 19
        }
      ]
    },
    {
      "cell_type": "code",
      "source": [
        "df.describe()"
      ],
      "metadata": {
        "colab": {
          "base_uri": "https://localhost:8080/",
          "height": 539
        },
        "id": "HG8rYM-O7kDP",
        "outputId": "5e80770e-f001-4285-8a72-463630933372"
      },
      "execution_count": null,
      "outputs": [
        {
          "output_type": "execute_result",
          "data": {
            "text/plain": [
              "shape: (9, 21)\n",
              "┌────────────┬───────────┬───────────┬───────┬───┬───────────┬───────────┬────────────┬────────────┐\n",
              "│ describe   ┆ Year      ┆ Datetime  ┆ Stage ┆ … ┆ RoundID   ┆ MatchID   ┆ Home Team  ┆ Away Team  │\n",
              "│ ---        ┆ ---       ┆ ---       ┆ ---   ┆   ┆ ---       ┆ ---       ┆ Initials   ┆ Initials   │\n",
              "│ str        ┆ f64       ┆ str       ┆ str   ┆   ┆ f64       ┆ f64       ┆ ---        ┆ ---        │\n",
              "│            ┆           ┆           ┆       ┆   ┆           ┆           ┆ str        ┆ str        │\n",
              "╞════════════╪═══════════╪═══════════╪═══════╪═══╪═══════════╪═══════════╪════════════╪════════════╡\n",
              "│ count      ┆ 4572.0    ┆ 4572      ┆ 4572  ┆ … ┆ 4572.0    ┆ 4572.0    ┆ 4572       ┆ 4572       │\n",
              "│ null_count ┆ 3720.0    ┆ 3720      ┆ 3720  ┆ … ┆ 3720.0    ┆ 3720.0    ┆ 3720       ┆ 3720       │\n",
              "│ mean       ┆ 1985.0892 ┆ null      ┆ null  ┆ … ┆ 1.0662e7  ┆ 6.1347e7  ┆ null       ┆ null       │\n",
              "│            ┆ 02        ┆           ┆       ┆   ┆           ┆           ┆            ┆            │\n",
              "│ std        ┆ 22.448825 ┆ null      ┆ null  ┆ … ┆ 2.7296e7  ┆ 1.1106e8  ┆ null       ┆ null       │\n",
              "│ min        ┆ 1930.0    ┆ 01 Jul    ┆ Final ┆ … ┆ 201.0     ┆ 25.0      ┆ ALG        ┆ ALG        │\n",
              "│            ┆           ┆ 1950 -    ┆       ┆   ┆           ┆           ┆            ┆            │\n",
              "│            ┆           ┆ 15:00     ┆       ┆   ┆           ┆           ┆            ┆            │\n",
              "│ max        ┆ 2014.0    ┆ 31 May    ┆ Third ┆ … ┆ 9.74106e7 ┆ 3.0018651 ┆ ZAI        ┆ ZAI        │\n",
              "│            ┆           ┆ 2002 -    ┆ place ┆   ┆           ┆ 5e8       ┆            ┆            │\n",
              "│            ┆           ┆ 20:30     ┆       ┆   ┆           ┆           ┆            ┆            │\n",
              "│ median     ┆ 1990.0    ┆ null      ┆ null  ┆ … ┆ 337.0     ┆ 2191.0    ┆ null       ┆ null       │\n",
              "│ 25%        ┆ 1970.0    ┆ null      ┆ null  ┆ … ┆ 262.0     ┆ 1189.0    ┆ null       ┆ null       │\n",
              "│ 75%        ┆ 2002.0    ┆ null      ┆ null  ┆ … ┆ 249722.0  ┆ 4.395006e ┆ null       ┆ null       │\n",
              "│            ┆           ┆           ┆       ┆   ┆           ┆ 7         ┆            ┆            │\n",
              "└────────────┴───────────┴───────────┴───────┴───┴───────────┴───────────┴────────────┴────────────┘"
            ],
            "text/html": [
              "<div><style>\n",
              ".dataframe > thead > tr > th,\n",
              ".dataframe > tbody > tr > td {\n",
              "  text-align: right;\n",
              "}\n",
              "</style>\n",
              "<small>shape: (9, 21)</small><table border=\"1\" class=\"dataframe\"><thead><tr><th>describe</th><th>Year</th><th>Datetime</th><th>Stage</th><th>Stadium</th><th>City</th><th>Home Team Name</th><th>Home Team Goals</th><th>Away Team Goals</th><th>Away Team Name</th><th>Win conditions</th><th>Attendance</th><th>Half-time Home Goals</th><th>Half-time Away Goals</th><th>Referee</th><th>Assistant 1</th><th>Assistant 2</th><th>RoundID</th><th>MatchID</th><th>Home Team Initials</th><th>Away Team Initials</th></tr><tr><td>str</td><td>f64</td><td>str</td><td>str</td><td>str</td><td>str</td><td>str</td><td>f64</td><td>f64</td><td>str</td><td>str</td><td>f64</td><td>f64</td><td>f64</td><td>str</td><td>str</td><td>str</td><td>f64</td><td>f64</td><td>str</td><td>str</td></tr></thead><tbody><tr><td>&quot;count&quot;</td><td>4572.0</td><td>&quot;4572&quot;</td><td>&quot;4572&quot;</td><td>&quot;4572&quot;</td><td>&quot;4572&quot;</td><td>&quot;4572&quot;</td><td>4572.0</td><td>4572.0</td><td>&quot;4572&quot;</td><td>&quot;4572&quot;</td><td>4572.0</td><td>4572.0</td><td>4572.0</td><td>&quot;4572&quot;</td><td>&quot;4572&quot;</td><td>&quot;4572&quot;</td><td>4572.0</td><td>4572.0</td><td>&quot;4572&quot;</td><td>&quot;4572&quot;</td></tr><tr><td>&quot;null_count&quot;</td><td>3720.0</td><td>&quot;3720&quot;</td><td>&quot;3720&quot;</td><td>&quot;3720&quot;</td><td>&quot;3720&quot;</td><td>&quot;3720&quot;</td><td>3720.0</td><td>3720.0</td><td>&quot;3720&quot;</td><td>&quot;3720&quot;</td><td>3722.0</td><td>3720.0</td><td>3720.0</td><td>&quot;3720&quot;</td><td>&quot;3720&quot;</td><td>&quot;3720&quot;</td><td>3720.0</td><td>3720.0</td><td>&quot;3720&quot;</td><td>&quot;3720&quot;</td></tr><tr><td>&quot;mean&quot;</td><td>1985.089202</td><td>null</td><td>null</td><td>null</td><td>null</td><td>null</td><td>1.811033</td><td>1.0223</td><td>null</td><td>null</td><td>45164.8</td><td>0.70892</td><td>0.428404</td><td>null</td><td>null</td><td>null</td><td>1.0662e7</td><td>6.1347e7</td><td>null</td><td>null</td></tr><tr><td>&quot;std&quot;</td><td>22.448825</td><td>null</td><td>null</td><td>null</td><td>null</td><td>null</td><td>1.610255</td><td>1.087573</td><td>null</td><td>null</td><td>23485.249247</td><td>0.937414</td><td>0.691252</td><td>null</td><td>null</td><td>null</td><td>2.7296e7</td><td>1.1106e8</td><td>null</td><td>null</td></tr><tr><td>&quot;min&quot;</td><td>1930.0</td><td>&quot;01 Jul 1950 - …</td><td>&quot;Final&quot;</td><td>&quot;Arena Amazonia…</td><td>&quot;Alicante &quot;</td><td>&quot;Algeria&quot;</td><td>0.0</td><td>0.0</td><td>&quot;Algeria&quot;</td><td>&quot; &quot;</td><td>2000.0</td><td>0.0</td><td>0.0</td><td>&quot;ABD EL FATAH E…</td><td>&quot;ABDUL HAMID Ha…</td><td>&quot;ABDUL HAMID Ha…</td><td>201.0</td><td>25.0</td><td>&quot;ALG&quot;</td><td>&quot;ALG&quot;</td></tr><tr><td>&quot;max&quot;</td><td>2014.0</td><td>&quot;31 May 2002 - …</td><td>&quot;Third place&quot;</td><td>&quot;Zentralstadion…</td><td>&quot;Zurich &quot;</td><td>&quot;rn&quot;&gt;United Ara…</td><td>10.0</td><td>7.0</td><td>&quot;rn&quot;&gt;United Ara…</td><td>&quot;Yugoslavia win…</td><td>173850.0</td><td>6.0</td><td>5.0</td><td>&quot;ZSOLT Istvan (…</td><td>&quot;ZSOLT Istvan (…</td><td>&quot;ZUMBA Juan (SL…</td><td>9.74106e7</td><td>3.00186515e8</td><td>&quot;ZAI&quot;</td><td>&quot;ZAI&quot;</td></tr><tr><td>&quot;median&quot;</td><td>1990.0</td><td>null</td><td>null</td><td>null</td><td>null</td><td>null</td><td>2.0</td><td>1.0</td><td>null</td><td>null</td><td>41579.5</td><td>0.0</td><td>0.0</td><td>null</td><td>null</td><td>null</td><td>337.0</td><td>2191.0</td><td>null</td><td>null</td></tr><tr><td>&quot;25%&quot;</td><td>1970.0</td><td>null</td><td>null</td><td>null</td><td>null</td><td>null</td><td>1.0</td><td>0.0</td><td>null</td><td>null</td><td>30000.0</td><td>0.0</td><td>0.0</td><td>null</td><td>null</td><td>null</td><td>262.0</td><td>1189.0</td><td>null</td><td>null</td></tr><tr><td>&quot;75%&quot;</td><td>2002.0</td><td>null</td><td>null</td><td>null</td><td>null</td><td>null</td><td>3.0</td><td>2.0</td><td>null</td><td>null</td><td>61381.0</td><td>1.0</td><td>1.0</td><td>null</td><td>null</td><td>null</td><td>249722.0</td><td>4.395006e7</td><td>null</td><td>null</td></tr></tbody></table></div>"
            ]
          },
          "metadata": {},
          "execution_count": 20
        }
      ]
    },
    {
      "cell_type": "code",
      "source": [
        "df.columns"
      ],
      "metadata": {
        "colab": {
          "base_uri": "https://localhost:8080/"
        },
        "id": "vsZgCBaA7s_X",
        "outputId": "bdecedb3-eb64-4a53-92fe-4a1b76dd6907"
      },
      "execution_count": null,
      "outputs": [
        {
          "output_type": "execute_result",
          "data": {
            "text/plain": [
              "['Year',\n",
              " 'Datetime',\n",
              " 'Stage',\n",
              " 'Stadium',\n",
              " 'City',\n",
              " 'Home Team Name',\n",
              " 'Home Team Goals',\n",
              " 'Away Team Goals',\n",
              " 'Away Team Name',\n",
              " 'Win conditions',\n",
              " 'Attendance',\n",
              " 'Half-time Home Goals',\n",
              " 'Half-time Away Goals',\n",
              " 'Referee',\n",
              " 'Assistant 1',\n",
              " 'Assistant 2',\n",
              " 'RoundID',\n",
              " 'MatchID',\n",
              " 'Home Team Initials',\n",
              " 'Away Team Initials']"
            ]
          },
          "metadata": {},
          "execution_count": 21
        }
      ]
    },
    {
      "cell_type": "markdown",
      "source": [
        "**LIMPIEZA DE DATOS**"
      ],
      "metadata": {
        "id": "4m9E9_9F03S9"
      }
    },
    {
      "cell_type": "code",
      "source": [
        "df = df.rename({\"Home Team Name\": \"HTN\", \"Home Team Goals\": \"HTG\", \"Away Team Goals\": \"ATG\",\"Away Team Name\": \"ATN\",\"Win conditions\": \"WC\",\"Half-time Home Goals\": \"HTHG\", \"Half-time Away Goals\": \"HTAG\",\"Home Team Initials\": \"HTI\",\"Away Team Initials\": \"ATI\"})"
      ],
      "metadata": {
        "id": "ehuLf4Og1GbY"
      },
      "execution_count": null,
      "outputs": []
    },
    {
      "cell_type": "code",
      "source": [
        "df"
      ],
      "metadata": {
        "colab": {
          "base_uri": "https://localhost:8080/",
          "height": 1000
        },
        "id": "dqtQrqEp-4Zc",
        "outputId": "6159bb97-2d2d-4e2f-b2e7-955ba9a6b189"
      },
      "execution_count": null,
      "outputs": [
        {
          "output_type": "execute_result",
          "data": {
            "text/plain": [
              "shape: (4_572, 20)\n",
              "┌──────┬──────────────────────┬─────────┬────────────────┬───┬─────────┬─────────┬──────┬──────┐\n",
              "│ Year ┆ Datetime             ┆ Stage   ┆ Stadium        ┆ … ┆ RoundID ┆ MatchID ┆ HTI  ┆ ATI  │\n",
              "│ ---  ┆ ---                  ┆ ---     ┆ ---            ┆   ┆ ---     ┆ ---     ┆ ---  ┆ ---  │\n",
              "│ i64  ┆ str                  ┆ str     ┆ str            ┆   ┆ i64     ┆ i64     ┆ str  ┆ str  │\n",
              "╞══════╪══════════════════════╪═════════╪════════════════╪═══╪═════════╪═════════╪══════╪══════╡\n",
              "│ 1930 ┆ 13 Jul 1930 - 15:00  ┆ Group 1 ┆ Pocitos        ┆ … ┆ 201     ┆ 1096    ┆ FRA  ┆ MEX  │\n",
              "│ 1930 ┆ 13 Jul 1930 - 15:00  ┆ Group 4 ┆ Parque Central ┆ … ┆ 201     ┆ 1090    ┆ USA  ┆ BEL  │\n",
              "│ 1930 ┆ 14 Jul 1930 - 12:45  ┆ Group 2 ┆ Parque Central ┆ … ┆ 201     ┆ 1093    ┆ YUG  ┆ BRA  │\n",
              "│ 1930 ┆ 14 Jul 1930 - 14:50  ┆ Group 3 ┆ Pocitos        ┆ … ┆ 201     ┆ 1098    ┆ ROU  ┆ PER  │\n",
              "│ …    ┆ …                    ┆ …       ┆ …              ┆ … ┆ …       ┆ …       ┆ …    ┆ …    │\n",
              "│ null ┆ null                 ┆ null    ┆ null           ┆ … ┆ null    ┆ null    ┆ null ┆ null │\n",
              "│ null ┆ null                 ┆ null    ┆ null           ┆ … ┆ null    ┆ null    ┆ null ┆ null │\n",
              "│ null ┆ null                 ┆ null    ┆ null           ┆ … ┆ null    ┆ null    ┆ null ┆ null │\n",
              "│ null ┆ null                 ┆ null    ┆ null           ┆ … ┆ null    ┆ null    ┆ null ┆ null │\n",
              "└──────┴──────────────────────┴─────────┴────────────────┴───┴─────────┴─────────┴──────┴──────┘"
            ],
            "text/html": [
              "<div><style>\n",
              ".dataframe > thead > tr > th,\n",
              ".dataframe > tbody > tr > td {\n",
              "  text-align: right;\n",
              "}\n",
              "</style>\n",
              "<small>shape: (4572, 20)</small><table border=\"1\" class=\"dataframe\"><thead><tr><th>Year</th><th>Datetime</th><th>Stage</th><th>Stadium</th><th>City</th><th>HTN</th><th>HTG</th><th>ATG</th><th>ATN</th><th>WC</th><th>Attendance</th><th>HTHG</th><th>HTAG</th><th>Referee</th><th>Assistant 1</th><th>Assistant 2</th><th>RoundID</th><th>MatchID</th><th>HTI</th><th>ATI</th></tr><tr><td>i64</td><td>str</td><td>str</td><td>str</td><td>str</td><td>str</td><td>i64</td><td>i64</td><td>str</td><td>str</td><td>i64</td><td>i64</td><td>i64</td><td>str</td><td>str</td><td>str</td><td>i64</td><td>i64</td><td>str</td><td>str</td></tr></thead><tbody><tr><td>1930</td><td>&quot;13 Jul 1930 - …</td><td>&quot;Group 1&quot;</td><td>&quot;Pocitos&quot;</td><td>&quot;Montevideo &quot;</td><td>&quot;France&quot;</td><td>4</td><td>1</td><td>&quot;Mexico&quot;</td><td>&quot; &quot;</td><td>4444</td><td>3</td><td>0</td><td>&quot;LOMBARDI Domin…</td><td>&quot;CRISTOPHE Henr…</td><td>&quot;REGO Gilberto …</td><td>201</td><td>1096</td><td>&quot;FRA&quot;</td><td>&quot;MEX&quot;</td></tr><tr><td>1930</td><td>&quot;13 Jul 1930 - …</td><td>&quot;Group 4&quot;</td><td>&quot;Parque Central…</td><td>&quot;Montevideo &quot;</td><td>&quot;USA&quot;</td><td>3</td><td>0</td><td>&quot;Belgium&quot;</td><td>&quot; &quot;</td><td>18346</td><td>2</td><td>0</td><td>&quot;MACIAS Jose (A…</td><td>&quot;MATEUCCI Franc…</td><td>&quot;WARNKEN Albert…</td><td>201</td><td>1090</td><td>&quot;USA&quot;</td><td>&quot;BEL&quot;</td></tr><tr><td>1930</td><td>&quot;14 Jul 1930 - …</td><td>&quot;Group 2&quot;</td><td>&quot;Parque Central…</td><td>&quot;Montevideo &quot;</td><td>&quot;Yugoslavia&quot;</td><td>2</td><td>1</td><td>&quot;Brazil&quot;</td><td>&quot; &quot;</td><td>24059</td><td>2</td><td>0</td><td>&quot;TEJADA Anibal …</td><td>&quot;VALLARINO Rica…</td><td>&quot;BALWAY Thomas …</td><td>201</td><td>1093</td><td>&quot;YUG&quot;</td><td>&quot;BRA&quot;</td></tr><tr><td>1930</td><td>&quot;14 Jul 1930 - …</td><td>&quot;Group 3&quot;</td><td>&quot;Pocitos&quot;</td><td>&quot;Montevideo &quot;</td><td>&quot;Romania&quot;</td><td>3</td><td>1</td><td>&quot;Peru&quot;</td><td>&quot; &quot;</td><td>2549</td><td>1</td><td>0</td><td>&quot;WARNKEN Albert…</td><td>&quot;LANGENUS Jean …</td><td>&quot;MATEUCCI Franc…</td><td>201</td><td>1098</td><td>&quot;ROU&quot;</td><td>&quot;PER&quot;</td></tr><tr><td>1930</td><td>&quot;15 Jul 1930 - …</td><td>&quot;Group 1&quot;</td><td>&quot;Parque Central…</td><td>&quot;Montevideo &quot;</td><td>&quot;Argentina&quot;</td><td>1</td><td>0</td><td>&quot;France&quot;</td><td>&quot; &quot;</td><td>23409</td><td>0</td><td>0</td><td>&quot;REGO Gilberto …</td><td>&quot;SAUCEDO Ulises…</td><td>&quot;RADULESCU Cons…</td><td>201</td><td>1085</td><td>&quot;ARG&quot;</td><td>&quot;FRA&quot;</td></tr><tr><td>1930</td><td>&quot;16 Jul 1930 - …</td><td>&quot;Group 1&quot;</td><td>&quot;Parque Central…</td><td>&quot;Montevideo &quot;</td><td>&quot;Chile&quot;</td><td>3</td><td>0</td><td>&quot;Mexico&quot;</td><td>&quot; &quot;</td><td>9249</td><td>1</td><td>0</td><td>&quot;CRISTOPHE Henr…</td><td>&quot;APHESTEGUY Mar…</td><td>&quot;LANGENUS Jean …</td><td>201</td><td>1095</td><td>&quot;CHI&quot;</td><td>&quot;MEX&quot;</td></tr><tr><td>1930</td><td>&quot;17 Jul 1930 - …</td><td>&quot;Group 2&quot;</td><td>&quot;Parque Central…</td><td>&quot;Montevideo &quot;</td><td>&quot;Yugoslavia&quot;</td><td>4</td><td>0</td><td>&quot;Bolivia&quot;</td><td>&quot; &quot;</td><td>18306</td><td>0</td><td>0</td><td>&quot;MATEUCCI Franc…</td><td>&quot;LOMBARDI Domin…</td><td>&quot;WARNKEN Albert…</td><td>201</td><td>1092</td><td>&quot;YUG&quot;</td><td>&quot;BOL&quot;</td></tr><tr><td>1930</td><td>&quot;17 Jul 1930 - …</td><td>&quot;Group 4&quot;</td><td>&quot;Parque Central…</td><td>&quot;Montevideo &quot;</td><td>&quot;USA&quot;</td><td>3</td><td>0</td><td>&quot;Paraguay&quot;</td><td>&quot; &quot;</td><td>18306</td><td>2</td><td>0</td><td>&quot;MACIAS Jose (A…</td><td>&quot;APHESTEGUY Mar…</td><td>&quot;TEJADA Anibal …</td><td>201</td><td>1097</td><td>&quot;USA&quot;</td><td>&quot;PAR&quot;</td></tr><tr><td>1930</td><td>&quot;18 Jul 1930 - …</td><td>&quot;Group 3&quot;</td><td>&quot;Estadio Centen…</td><td>&quot;Montevideo &quot;</td><td>&quot;Uruguay&quot;</td><td>1</td><td>0</td><td>&quot;Peru&quot;</td><td>&quot; &quot;</td><td>57735</td><td>0</td><td>0</td><td>&quot;LANGENUS Jean …</td><td>&quot;BALWAY Thomas …</td><td>&quot;CRISTOPHE Henr…</td><td>201</td><td>1099</td><td>&quot;URU&quot;</td><td>&quot;PER&quot;</td></tr><tr><td>1930</td><td>&quot;19 Jul 1930 - …</td><td>&quot;Group 1&quot;</td><td>&quot;Estadio Centen…</td><td>&quot;Montevideo &quot;</td><td>&quot;Chile&quot;</td><td>1</td><td>0</td><td>&quot;France&quot;</td><td>&quot; &quot;</td><td>2000</td><td>0</td><td>0</td><td>&quot;TEJADA Anibal …</td><td>&quot;LOMBARDI Domin…</td><td>&quot;REGO Gilberto …</td><td>201</td><td>1094</td><td>&quot;CHI&quot;</td><td>&quot;FRA&quot;</td></tr><tr><td>1930</td><td>&quot;19 Jul 1930 - …</td><td>&quot;Group 1&quot;</td><td>&quot;Estadio Centen…</td><td>&quot;Montevideo &quot;</td><td>&quot;Argentina&quot;</td><td>6</td><td>3</td><td>&quot;Mexico&quot;</td><td>&quot; &quot;</td><td>42100</td><td>3</td><td>1</td><td>&quot;SAUCEDO Ulises…</td><td>&quot;ALONSO Gualber…</td><td>&quot;RADULESCU Cons…</td><td>201</td><td>1086</td><td>&quot;ARG&quot;</td><td>&quot;MEX&quot;</td></tr><tr><td>1930</td><td>&quot;20 Jul 1930 - …</td><td>&quot;Group 2&quot;</td><td>&quot;Estadio Centen…</td><td>&quot;Montevideo &quot;</td><td>&quot;Brazil&quot;</td><td>4</td><td>0</td><td>&quot;Bolivia&quot;</td><td>&quot; &quot;</td><td>25466</td><td>1</td><td>0</td><td>&quot;BALWAY Thomas …</td><td>&quot;MATEUCCI Franc…</td><td>&quot;VALLEJO Gaspar…</td><td>201</td><td>1091</td><td>&quot;BRA&quot;</td><td>&quot;BOL&quot;</td></tr><tr><td>&hellip;</td><td>&hellip;</td><td>&hellip;</td><td>&hellip;</td><td>&hellip;</td><td>&hellip;</td><td>&hellip;</td><td>&hellip;</td><td>&hellip;</td><td>&hellip;</td><td>&hellip;</td><td>&hellip;</td><td>&hellip;</td><td>&hellip;</td><td>&hellip;</td><td>&hellip;</td><td>&hellip;</td><td>&hellip;</td><td>&hellip;</td><td>&hellip;</td></tr><tr><td>null</td><td>null</td><td>null</td><td>null</td><td>null</td><td>null</td><td>null</td><td>null</td><td>null</td><td>null</td><td>null</td><td>null</td><td>null</td><td>null</td><td>null</td><td>null</td><td>null</td><td>null</td><td>null</td><td>null</td></tr><tr><td>null</td><td>null</td><td>null</td><td>null</td><td>null</td><td>null</td><td>null</td><td>null</td><td>null</td><td>null</td><td>null</td><td>null</td><td>null</td><td>null</td><td>null</td><td>null</td><td>null</td><td>null</td><td>null</td><td>null</td></tr><tr><td>null</td><td>null</td><td>null</td><td>null</td><td>null</td><td>null</td><td>null</td><td>null</td><td>null</td><td>null</td><td>null</td><td>null</td><td>null</td><td>null</td><td>null</td><td>null</td><td>null</td><td>null</td><td>null</td><td>null</td></tr><tr><td>null</td><td>null</td><td>null</td><td>null</td><td>null</td><td>null</td><td>null</td><td>null</td><td>null</td><td>null</td><td>null</td><td>null</td><td>null</td><td>null</td><td>null</td><td>null</td><td>null</td><td>null</td><td>null</td><td>null</td></tr><tr><td>null</td><td>null</td><td>null</td><td>null</td><td>null</td><td>null</td><td>null</td><td>null</td><td>null</td><td>null</td><td>null</td><td>null</td><td>null</td><td>null</td><td>null</td><td>null</td><td>null</td><td>null</td><td>null</td><td>null</td></tr><tr><td>null</td><td>null</td><td>null</td><td>null</td><td>null</td><td>null</td><td>null</td><td>null</td><td>null</td><td>null</td><td>null</td><td>null</td><td>null</td><td>null</td><td>null</td><td>null</td><td>null</td><td>null</td><td>null</td><td>null</td></tr><tr><td>null</td><td>null</td><td>null</td><td>null</td><td>null</td><td>null</td><td>null</td><td>null</td><td>null</td><td>null</td><td>null</td><td>null</td><td>null</td><td>null</td><td>null</td><td>null</td><td>null</td><td>null</td><td>null</td><td>null</td></tr><tr><td>null</td><td>null</td><td>null</td><td>null</td><td>null</td><td>null</td><td>null</td><td>null</td><td>null</td><td>null</td><td>null</td><td>null</td><td>null</td><td>null</td><td>null</td><td>null</td><td>null</td><td>null</td><td>null</td><td>null</td></tr><tr><td>null</td><td>null</td><td>null</td><td>null</td><td>null</td><td>null</td><td>null</td><td>null</td><td>null</td><td>null</td><td>null</td><td>null</td><td>null</td><td>null</td><td>null</td><td>null</td><td>null</td><td>null</td><td>null</td><td>null</td></tr><tr><td>null</td><td>null</td><td>null</td><td>null</td><td>null</td><td>null</td><td>null</td><td>null</td><td>null</td><td>null</td><td>null</td><td>null</td><td>null</td><td>null</td><td>null</td><td>null</td><td>null</td><td>null</td><td>null</td><td>null</td></tr><tr><td>null</td><td>null</td><td>null</td><td>null</td><td>null</td><td>null</td><td>null</td><td>null</td><td>null</td><td>null</td><td>null</td><td>null</td><td>null</td><td>null</td><td>null</td><td>null</td><td>null</td><td>null</td><td>null</td><td>null</td></tr><tr><td>null</td><td>null</td><td>null</td><td>null</td><td>null</td><td>null</td><td>null</td><td>null</td><td>null</td><td>null</td><td>null</td><td>null</td><td>null</td><td>null</td><td>null</td><td>null</td><td>null</td><td>null</td><td>null</td><td>null</td></tr></tbody></table></div>"
            ]
          },
          "metadata": {},
          "execution_count": 29
        }
      ]
    },
    {
      "cell_type": "code",
      "source": [
        "nulosdf = df.null_count()\n",
        "print(nulosdf)"
      ],
      "metadata": {
        "colab": {
          "base_uri": "https://localhost:8080/"
        },
        "id": "RNFYwtyr_1gb",
        "outputId": "310c2270-0c2c-4055-880c-b0a823112b3b"
      },
      "execution_count": null,
      "outputs": [
        {
          "output_type": "stream",
          "name": "stdout",
          "text": [
            "shape: (1, 20)\n",
            "┌──────┬──────────┬───────┬─────────┬───┬─────────┬─────────┬──────┬──────┐\n",
            "│ Year ┆ Datetime ┆ Stage ┆ Stadium ┆ … ┆ RoundID ┆ MatchID ┆ HTI  ┆ ATI  │\n",
            "│ ---  ┆ ---      ┆ ---   ┆ ---     ┆   ┆ ---     ┆ ---     ┆ ---  ┆ ---  │\n",
            "│ u32  ┆ u32      ┆ u32   ┆ u32     ┆   ┆ u32     ┆ u32     ┆ u32  ┆ u32  │\n",
            "╞══════╪══════════╪═══════╪═════════╪═══╪═════════╪═════════╪══════╪══════╡\n",
            "│ 3720 ┆ 3720     ┆ 3720  ┆ 3720    ┆ … ┆ 3720    ┆ 3720    ┆ 3720 ┆ 3720 │\n",
            "└──────┴──────────┴───────┴─────────┴───┴─────────┴─────────┴──────┴──────┘\n"
          ]
        }
      ]
    },
    {
      "cell_type": "code",
      "source": [
        "dfclean = df.drop_nulls()"
      ],
      "metadata": {
        "id": "5qCpqK5oAcLJ"
      },
      "execution_count": null,
      "outputs": []
    },
    {
      "cell_type": "code",
      "source": [
        "dfclean = dfclean.drop(\"WC\")"
      ],
      "metadata": {
        "id": "I-1yDuZDBVQ0"
      },
      "execution_count": null,
      "outputs": []
    },
    {
      "cell_type": "code",
      "source": [
        "dfclean"
      ],
      "metadata": {
        "colab": {
          "base_uri": "https://localhost:8080/",
          "height": 1000
        },
        "id": "_iaBvvYDDbJ3",
        "outputId": "5c4fa3c6-e478-423a-b67b-3c9646e553fa"
      },
      "execution_count": null,
      "outputs": [
        {
          "output_type": "execute_result",
          "data": {
            "text/plain": [
              "shape: (850, 19)\n",
              "┌──────┬───────────────┬──────────────┬──────────────────────┬───┬─────────┬───────────┬─────┬─────┐\n",
              "│ Year ┆ Datetime      ┆ Stage        ┆ Stadium              ┆ … ┆ RoundID ┆ MatchID   ┆ HTI ┆ ATI │\n",
              "│ ---  ┆ ---           ┆ ---          ┆ ---                  ┆   ┆ ---     ┆ ---       ┆ --- ┆ --- │\n",
              "│ i64  ┆ str           ┆ str          ┆ str                  ┆   ┆ i64     ┆ i64       ┆ str ┆ str │\n",
              "╞══════╪═══════════════╪══════════════╪══════════════════════╪═══╪═════════╪═══════════╪═════╪═════╡\n",
              "│ 1930 ┆ 13 Jul 1930 - ┆ Group 1      ┆ Pocitos              ┆ … ┆ 201     ┆ 1096      ┆ FRA ┆ MEX │\n",
              "│      ┆ 15:00         ┆              ┆                      ┆   ┆         ┆           ┆     ┆     │\n",
              "│ 1930 ┆ 13 Jul 1930 - ┆ Group 4      ┆ Parque Central       ┆ … ┆ 201     ┆ 1090      ┆ USA ┆ BEL │\n",
              "│      ┆ 15:00         ┆              ┆                      ┆   ┆         ┆           ┆     ┆     │\n",
              "│ 1930 ┆ 14 Jul 1930 - ┆ Group 2      ┆ Parque Central       ┆ … ┆ 201     ┆ 1093      ┆ YUG ┆ BRA │\n",
              "│      ┆ 12:45         ┆              ┆                      ┆   ┆         ┆           ┆     ┆     │\n",
              "│ 1930 ┆ 14 Jul 1930 - ┆ Group 3      ┆ Pocitos              ┆ … ┆ 201     ┆ 1098      ┆ ROU ┆ PER │\n",
              "│      ┆ 14:50         ┆              ┆                      ┆   ┆         ┆           ┆     ┆     │\n",
              "│ …    ┆ …             ┆ …            ┆ …                    ┆ … ┆ …       ┆ …         ┆ …   ┆ …   │\n",
              "│ 2014 ┆ 08 Jul 2014 - ┆ Semi-finals  ┆ Estadio Mineirao     ┆ … ┆ 255955  ┆ 300186474 ┆ BRA ┆ GER │\n",
              "│      ┆ 17:00         ┆              ┆                      ┆   ┆         ┆           ┆     ┆     │\n",
              "│ 2014 ┆ 09 Jul 2014 - ┆ Semi-finals  ┆ Arena de Sao Paulo   ┆ … ┆ 255955  ┆ 300186490 ┆ NED ┆ ARG │\n",
              "│      ┆ 17:00         ┆              ┆                      ┆   ┆         ┆           ┆     ┆     │\n",
              "│ 2014 ┆ 12 Jul 2014 - ┆ Play-off for ┆ Estadio Nacional     ┆ … ┆ 255957  ┆ 300186502 ┆ BRA ┆ NED │\n",
              "│      ┆ 17:00         ┆ third place  ┆                      ┆   ┆         ┆           ┆     ┆     │\n",
              "│ 2014 ┆ 13 Jul 2014 - ┆ Final        ┆ Estadio do Maracana  ┆ … ┆ 255959  ┆ 300186501 ┆ GER ┆ ARG │\n",
              "│      ┆ 16:00         ┆              ┆                      ┆   ┆         ┆           ┆     ┆     │\n",
              "└──────┴───────────────┴──────────────┴──────────────────────┴───┴─────────┴───────────┴─────┴─────┘"
            ],
            "text/html": [
              "<div><style>\n",
              ".dataframe > thead > tr > th,\n",
              ".dataframe > tbody > tr > td {\n",
              "  text-align: right;\n",
              "}\n",
              "</style>\n",
              "<small>shape: (850, 19)</small><table border=\"1\" class=\"dataframe\"><thead><tr><th>Year</th><th>Datetime</th><th>Stage</th><th>Stadium</th><th>City</th><th>HTN</th><th>HTG</th><th>ATG</th><th>ATN</th><th>Attendance</th><th>HTHG</th><th>HTAG</th><th>Referee</th><th>Assistant 1</th><th>Assistant 2</th><th>RoundID</th><th>MatchID</th><th>HTI</th><th>ATI</th></tr><tr><td>i64</td><td>str</td><td>str</td><td>str</td><td>str</td><td>str</td><td>i64</td><td>i64</td><td>str</td><td>i64</td><td>i64</td><td>i64</td><td>str</td><td>str</td><td>str</td><td>i64</td><td>i64</td><td>str</td><td>str</td></tr></thead><tbody><tr><td>1930</td><td>&quot;13 Jul 1930 - …</td><td>&quot;Group 1&quot;</td><td>&quot;Pocitos&quot;</td><td>&quot;Montevideo &quot;</td><td>&quot;France&quot;</td><td>4</td><td>1</td><td>&quot;Mexico&quot;</td><td>4444</td><td>3</td><td>0</td><td>&quot;LOMBARDI Domin…</td><td>&quot;CRISTOPHE Henr…</td><td>&quot;REGO Gilberto …</td><td>201</td><td>1096</td><td>&quot;FRA&quot;</td><td>&quot;MEX&quot;</td></tr><tr><td>1930</td><td>&quot;13 Jul 1930 - …</td><td>&quot;Group 4&quot;</td><td>&quot;Parque Central…</td><td>&quot;Montevideo &quot;</td><td>&quot;USA&quot;</td><td>3</td><td>0</td><td>&quot;Belgium&quot;</td><td>18346</td><td>2</td><td>0</td><td>&quot;MACIAS Jose (A…</td><td>&quot;MATEUCCI Franc…</td><td>&quot;WARNKEN Albert…</td><td>201</td><td>1090</td><td>&quot;USA&quot;</td><td>&quot;BEL&quot;</td></tr><tr><td>1930</td><td>&quot;14 Jul 1930 - …</td><td>&quot;Group 2&quot;</td><td>&quot;Parque Central…</td><td>&quot;Montevideo &quot;</td><td>&quot;Yugoslavia&quot;</td><td>2</td><td>1</td><td>&quot;Brazil&quot;</td><td>24059</td><td>2</td><td>0</td><td>&quot;TEJADA Anibal …</td><td>&quot;VALLARINO Rica…</td><td>&quot;BALWAY Thomas …</td><td>201</td><td>1093</td><td>&quot;YUG&quot;</td><td>&quot;BRA&quot;</td></tr><tr><td>1930</td><td>&quot;14 Jul 1930 - …</td><td>&quot;Group 3&quot;</td><td>&quot;Pocitos&quot;</td><td>&quot;Montevideo &quot;</td><td>&quot;Romania&quot;</td><td>3</td><td>1</td><td>&quot;Peru&quot;</td><td>2549</td><td>1</td><td>0</td><td>&quot;WARNKEN Albert…</td><td>&quot;LANGENUS Jean …</td><td>&quot;MATEUCCI Franc…</td><td>201</td><td>1098</td><td>&quot;ROU&quot;</td><td>&quot;PER&quot;</td></tr><tr><td>1930</td><td>&quot;15 Jul 1930 - …</td><td>&quot;Group 1&quot;</td><td>&quot;Parque Central…</td><td>&quot;Montevideo &quot;</td><td>&quot;Argentina&quot;</td><td>1</td><td>0</td><td>&quot;France&quot;</td><td>23409</td><td>0</td><td>0</td><td>&quot;REGO Gilberto …</td><td>&quot;SAUCEDO Ulises…</td><td>&quot;RADULESCU Cons…</td><td>201</td><td>1085</td><td>&quot;ARG&quot;</td><td>&quot;FRA&quot;</td></tr><tr><td>1930</td><td>&quot;16 Jul 1930 - …</td><td>&quot;Group 1&quot;</td><td>&quot;Parque Central…</td><td>&quot;Montevideo &quot;</td><td>&quot;Chile&quot;</td><td>3</td><td>0</td><td>&quot;Mexico&quot;</td><td>9249</td><td>1</td><td>0</td><td>&quot;CRISTOPHE Henr…</td><td>&quot;APHESTEGUY Mar…</td><td>&quot;LANGENUS Jean …</td><td>201</td><td>1095</td><td>&quot;CHI&quot;</td><td>&quot;MEX&quot;</td></tr><tr><td>1930</td><td>&quot;17 Jul 1930 - …</td><td>&quot;Group 2&quot;</td><td>&quot;Parque Central…</td><td>&quot;Montevideo &quot;</td><td>&quot;Yugoslavia&quot;</td><td>4</td><td>0</td><td>&quot;Bolivia&quot;</td><td>18306</td><td>0</td><td>0</td><td>&quot;MATEUCCI Franc…</td><td>&quot;LOMBARDI Domin…</td><td>&quot;WARNKEN Albert…</td><td>201</td><td>1092</td><td>&quot;YUG&quot;</td><td>&quot;BOL&quot;</td></tr><tr><td>1930</td><td>&quot;17 Jul 1930 - …</td><td>&quot;Group 4&quot;</td><td>&quot;Parque Central…</td><td>&quot;Montevideo &quot;</td><td>&quot;USA&quot;</td><td>3</td><td>0</td><td>&quot;Paraguay&quot;</td><td>18306</td><td>2</td><td>0</td><td>&quot;MACIAS Jose (A…</td><td>&quot;APHESTEGUY Mar…</td><td>&quot;TEJADA Anibal …</td><td>201</td><td>1097</td><td>&quot;USA&quot;</td><td>&quot;PAR&quot;</td></tr><tr><td>1930</td><td>&quot;18 Jul 1930 - …</td><td>&quot;Group 3&quot;</td><td>&quot;Estadio Centen…</td><td>&quot;Montevideo &quot;</td><td>&quot;Uruguay&quot;</td><td>1</td><td>0</td><td>&quot;Peru&quot;</td><td>57735</td><td>0</td><td>0</td><td>&quot;LANGENUS Jean …</td><td>&quot;BALWAY Thomas …</td><td>&quot;CRISTOPHE Henr…</td><td>201</td><td>1099</td><td>&quot;URU&quot;</td><td>&quot;PER&quot;</td></tr><tr><td>1930</td><td>&quot;19 Jul 1930 - …</td><td>&quot;Group 1&quot;</td><td>&quot;Estadio Centen…</td><td>&quot;Montevideo &quot;</td><td>&quot;Chile&quot;</td><td>1</td><td>0</td><td>&quot;France&quot;</td><td>2000</td><td>0</td><td>0</td><td>&quot;TEJADA Anibal …</td><td>&quot;LOMBARDI Domin…</td><td>&quot;REGO Gilberto …</td><td>201</td><td>1094</td><td>&quot;CHI&quot;</td><td>&quot;FRA&quot;</td></tr><tr><td>1930</td><td>&quot;19 Jul 1930 - …</td><td>&quot;Group 1&quot;</td><td>&quot;Estadio Centen…</td><td>&quot;Montevideo &quot;</td><td>&quot;Argentina&quot;</td><td>6</td><td>3</td><td>&quot;Mexico&quot;</td><td>42100</td><td>3</td><td>1</td><td>&quot;SAUCEDO Ulises…</td><td>&quot;ALONSO Gualber…</td><td>&quot;RADULESCU Cons…</td><td>201</td><td>1086</td><td>&quot;ARG&quot;</td><td>&quot;MEX&quot;</td></tr><tr><td>1930</td><td>&quot;20 Jul 1930 - …</td><td>&quot;Group 2&quot;</td><td>&quot;Estadio Centen…</td><td>&quot;Montevideo &quot;</td><td>&quot;Brazil&quot;</td><td>4</td><td>0</td><td>&quot;Bolivia&quot;</td><td>25466</td><td>1</td><td>0</td><td>&quot;BALWAY Thomas …</td><td>&quot;MATEUCCI Franc…</td><td>&quot;VALLEJO Gaspar…</td><td>201</td><td>1091</td><td>&quot;BRA&quot;</td><td>&quot;BOL&quot;</td></tr><tr><td>&hellip;</td><td>&hellip;</td><td>&hellip;</td><td>&hellip;</td><td>&hellip;</td><td>&hellip;</td><td>&hellip;</td><td>&hellip;</td><td>&hellip;</td><td>&hellip;</td><td>&hellip;</td><td>&hellip;</td><td>&hellip;</td><td>&hellip;</td><td>&hellip;</td><td>&hellip;</td><td>&hellip;</td><td>&hellip;</td><td>&hellip;</td></tr><tr><td>2014</td><td>&quot;29 Jun 2014 - …</td><td>&quot;Round of 16&quot;</td><td>&quot;Arena Pernambu…</td><td>&quot;Recife &quot;</td><td>&quot;Costa Rica&quot;</td><td>1</td><td>1</td><td>&quot;Greece&quot;</td><td>41242</td><td>0</td><td>0</td><td>&quot;Ben WILLIAMS (…</td><td>&quot;CREAM Matthew …</td><td>&quot;ANAZ Hakan (AU…</td><td>255951</td><td>300186459</td><td>&quot;CRC&quot;</td><td>&quot;GRE&quot;</td></tr><tr><td>2014</td><td>&quot;30 Jun 2014 - …</td><td>&quot;Round of 16&quot;</td><td>&quot;Estadio Nacion…</td><td>&quot;Brasilia &quot;</td><td>&quot;France&quot;</td><td>2</td><td>0</td><td>&quot;Nigeria&quot;</td><td>67882</td><td>0</td><td>0</td><td>&quot;GEIGER Mark (U…</td><td>&quot;HURD Sean (USA…</td><td>&quot;FLETCHER Joe (…</td><td>255951</td><td>300186462</td><td>&quot;FRA&quot;</td><td>&quot;NGA&quot;</td></tr><tr><td>2014</td><td>&quot;01 Jul 2014 - …</td><td>&quot;Round of 16&quot;</td><td>&quot;Arena de Sao P…</td><td>&quot;Sao Paulo &quot;</td><td>&quot;Argentina&quot;</td><td>1</td><td>0</td><td>&quot;Switzerland&quot;</td><td>63255</td><td>0</td><td>0</td><td>&quot;ERIKSSON Jonas…</td><td>&quot;KLASENIUS Math…</td><td>&quot;WARNMARK Danie…</td><td>255951</td><td>300186503</td><td>&quot;ARG&quot;</td><td>&quot;SUI&quot;</td></tr><tr><td>2014</td><td>&quot;01 Jul 2014 - …</td><td>&quot;Round of 16&quot;</td><td>&quot;Arena Fonte No…</td><td>&quot;Salvador &quot;</td><td>&quot;Belgium&quot;</td><td>2</td><td>1</td><td>&quot;USA&quot;</td><td>51227</td><td>0</td><td>0</td><td>&quot;HAIMOUDI Djame…</td><td>&quot;ACHIK Redouane…</td><td>&quot;ETCHIALI Abdel…</td><td>255951</td><td>300186497</td><td>&quot;BEL&quot;</td><td>&quot;USA&quot;</td></tr><tr><td>2014</td><td>&quot;04 Jul 2014 - …</td><td>&quot;Quarter-finals…</td><td>&quot;Estadio do Mar…</td><td>&quot;Rio De Janeiro…</td><td>&quot;France&quot;</td><td>0</td><td>1</td><td>&quot;Germany&quot;</td><td>74240</td><td>0</td><td>1</td><td>&quot;PITANA Nestor …</td><td>&quot;MAIDANA Hernan…</td><td>&quot;BELATTI Juan P…</td><td>255953</td><td>300186485</td><td>&quot;FRA&quot;</td><td>&quot;GER&quot;</td></tr><tr><td>2014</td><td>&quot;04 Jul 2014 - …</td><td>&quot;Quarter-finals…</td><td>&quot;Estadio Castel…</td><td>&quot;Fortaleza &quot;</td><td>&quot;Brazil&quot;</td><td>2</td><td>1</td><td>&quot;Colombia&quot;</td><td>60342</td><td>1</td><td>0</td><td>&quot;Carlos VELASCO…</td><td>&quot;ALONSO FERNAND…</td><td>&quot;YUSTE Juan (ES…</td><td>255953</td><td>300186461</td><td>&quot;BRA&quot;</td><td>&quot;COL&quot;</td></tr><tr><td>2014</td><td>&quot;05 Jul 2014 - …</td><td>&quot;Quarter-finals…</td><td>&quot;Estadio Nacion…</td><td>&quot;Brasilia &quot;</td><td>&quot;Argentina&quot;</td><td>1</td><td>0</td><td>&quot;Belgium&quot;</td><td>68551</td><td>1</td><td>0</td><td>&quot;Nicola RIZZOLI…</td><td>&quot;Renato FAVERAN…</td><td>&quot;Andrea STEFANI…</td><td>255953</td><td>300186504</td><td>&quot;ARG&quot;</td><td>&quot;BEL&quot;</td></tr><tr><td>2014</td><td>&quot;05 Jul 2014 - …</td><td>&quot;Quarter-finals…</td><td>&quot;Arena Fonte No…</td><td>&quot;Salvador &quot;</td><td>&quot;Netherlands&quot;</td><td>0</td><td>0</td><td>&quot;Costa Rica&quot;</td><td>51179</td><td>0</td><td>0</td><td>&quot;Ravshan IRMATO…</td><td>&quot;RASULOV Abduxa…</td><td>&quot;KOCHKAROV Bakh…</td><td>255953</td><td>300186488</td><td>&quot;NED&quot;</td><td>&quot;CRC&quot;</td></tr><tr><td>2014</td><td>&quot;08 Jul 2014 - …</td><td>&quot;Semi-finals&quot;</td><td>&quot;Estadio Mineir…</td><td>&quot;Belo Horizonte…</td><td>&quot;Brazil&quot;</td><td>1</td><td>7</td><td>&quot;Germany&quot;</td><td>58141</td><td>0</td><td>5</td><td>&quot;RODRIGUEZ Marc…</td><td>&quot;TORRENTERA Mar…</td><td>&quot;QUINTERO Marco…</td><td>255955</td><td>300186474</td><td>&quot;BRA&quot;</td><td>&quot;GER&quot;</td></tr><tr><td>2014</td><td>&quot;09 Jul 2014 - …</td><td>&quot;Semi-finals&quot;</td><td>&quot;Arena de Sao P…</td><td>&quot;Sao Paulo &quot;</td><td>&quot;Netherlands&quot;</td><td>0</td><td>0</td><td>&quot;Argentina&quot;</td><td>63267</td><td>0</td><td>0</td><td>&quot;C�neyt �AKIR (…</td><td>&quot;DURAN Bahattin…</td><td>&quot;ONGUN Tarik (T…</td><td>255955</td><td>300186490</td><td>&quot;NED&quot;</td><td>&quot;ARG&quot;</td></tr><tr><td>2014</td><td>&quot;12 Jul 2014 - …</td><td>&quot;Play-off for t…</td><td>&quot;Estadio Nacion…</td><td>&quot;Brasilia &quot;</td><td>&quot;Brazil&quot;</td><td>0</td><td>3</td><td>&quot;Netherlands&quot;</td><td>68034</td><td>0</td><td>2</td><td>&quot;HAIMOUDI Djame…</td><td>&quot;ACHIK Redouane…</td><td>&quot;ETCHIALI Abdel…</td><td>255957</td><td>300186502</td><td>&quot;BRA&quot;</td><td>&quot;NED&quot;</td></tr><tr><td>2014</td><td>&quot;13 Jul 2014 - …</td><td>&quot;Final&quot;</td><td>&quot;Estadio do Mar…</td><td>&quot;Rio De Janeiro…</td><td>&quot;Germany&quot;</td><td>1</td><td>0</td><td>&quot;Argentina&quot;</td><td>74738</td><td>0</td><td>0</td><td>&quot;Nicola RIZZOLI…</td><td>&quot;Renato FAVERAN…</td><td>&quot;Andrea STEFANI…</td><td>255959</td><td>300186501</td><td>&quot;GER&quot;</td><td>&quot;ARG&quot;</td></tr></tbody></table></div>"
            ]
          },
          "metadata": {},
          "execution_count": 36
        }
      ]
    },
    {
      "cell_type": "markdown",
      "source": [
        "**FILTRADO DE DATOS**"
      ],
      "metadata": {
        "id": "uGfp6Q3j03c4"
      }
    },
    {
      "cell_type": "code",
      "source": [
        "dfclean.filter(pl.col(\"HTG\")>= 10)"
      ],
      "metadata": {
        "colab": {
          "base_uri": "https://localhost:8080/",
          "height": 201
        },
        "id": "DiBj9_np1PWD",
        "outputId": "22653e8c-2702-439b-dce6-9b040ded659c"
      },
      "execution_count": null,
      "outputs": [
        {
          "output_type": "execute_result",
          "data": {
            "text/plain": [
              "shape: (1, 19)\n",
              "┌──────┬──────────────────────┬─────────┬───────────────┬───┬─────────┬─────────┬─────┬─────┐\n",
              "│ Year ┆ Datetime             ┆ Stage   ┆ Stadium       ┆ … ┆ RoundID ┆ MatchID ┆ HTI ┆ ATI │\n",
              "│ ---  ┆ ---                  ┆ ---     ┆ ---           ┆   ┆ ---     ┆ ---     ┆ --- ┆ --- │\n",
              "│ i64  ┆ str                  ┆ str     ┆ str           ┆   ┆ i64     ┆ i64     ┆ str ┆ str │\n",
              "╞══════╪══════════════════════╪═════════╪═══════════════╪═══╪═════════╪═════════╪═════╪═════╡\n",
              "│ 1982 ┆ 15 Jun 1982 - 21:00  ┆ Group 3 ┆ Nuevo Estadio ┆ … ┆ 293     ┆ 896     ┆ HUN ┆ SLV │\n",
              "└──────┴──────────────────────┴─────────┴───────────────┴───┴─────────┴─────────┴─────┴─────┘"
            ],
            "text/html": [
              "<div><style>\n",
              ".dataframe > thead > tr > th,\n",
              ".dataframe > tbody > tr > td {\n",
              "  text-align: right;\n",
              "}\n",
              "</style>\n",
              "<small>shape: (1, 19)</small><table border=\"1\" class=\"dataframe\"><thead><tr><th>Year</th><th>Datetime</th><th>Stage</th><th>Stadium</th><th>City</th><th>HTN</th><th>HTG</th><th>ATG</th><th>ATN</th><th>Attendance</th><th>HTHG</th><th>HTAG</th><th>Referee</th><th>Assistant 1</th><th>Assistant 2</th><th>RoundID</th><th>MatchID</th><th>HTI</th><th>ATI</th></tr><tr><td>i64</td><td>str</td><td>str</td><td>str</td><td>str</td><td>str</td><td>i64</td><td>i64</td><td>str</td><td>i64</td><td>i64</td><td>i64</td><td>str</td><td>str</td><td>str</td><td>i64</td><td>i64</td><td>str</td><td>str</td></tr></thead><tbody><tr><td>1982</td><td>&quot;15 Jun 1982 - …</td><td>&quot;Group 3&quot;</td><td>&quot;Nuevo Estadio&quot;</td><td>&quot;Elche &quot;</td><td>&quot;Hungary&quot;</td><td>10</td><td>1</td><td>&quot;El Salvador&quot;</td><td>23000</td><td>3</td><td>0</td><td>&quot;AL DOY Ebrahim…</td><td>&quot;CORVER Charles…</td><td>&quot;LUND-SORENSEN …</td><td>293</td><td>896</td><td>&quot;HUN&quot;</td><td>&quot;SLV&quot;</td></tr></tbody></table></div>"
            ]
          },
          "metadata": {},
          "execution_count": 46
        }
      ]
    },
    {
      "cell_type": "code",
      "source": [
        "dfclean.filter((pl.col(\"HTG\") + pl.col(\"ATG\") )>= 10)"
      ],
      "metadata": {
        "colab": {
          "base_uri": "https://localhost:8080/",
          "height": 379
        },
        "id": "vk0fJ2ikMecc",
        "outputId": "9ae43aad-5eec-4034-ed65-7b23f86d7a95"
      },
      "execution_count": null,
      "outputs": [
        {
          "output_type": "execute_result",
          "data": {
            "text/plain": [
              "shape: (5, 19)\n",
              "┌──────┬───────────────┬────────────────┬──────────────────────┬───┬─────────┬─────────┬─────┬─────┐\n",
              "│ Year ┆ Datetime      ┆ Stage          ┆ Stadium              ┆ … ┆ RoundID ┆ MatchID ┆ HTI ┆ ATI │\n",
              "│ ---  ┆ ---           ┆ ---            ┆ ---                  ┆   ┆ ---     ┆ ---     ┆ --- ┆ --- │\n",
              "│ i64  ┆ str           ┆ str            ┆ str                  ┆   ┆ i64     ┆ i64     ┆ str ┆ str │\n",
              "╞══════╪═══════════════╪════════════════╪══════════════════════╪═══╪═════════╪═════════╪═════╪═════╡\n",
              "│ 1938 ┆ 05 Jun 1938 - ┆ First round    ┆ Stade de la Meinau   ┆ … ┆ 206     ┆ 1150    ┆ BRA ┆ POL │\n",
              "│      ┆ 17:30         ┆                ┆                      ┆   ┆         ┆         ┆     ┆     │\n",
              "│ 1954 ┆ 20 Jun 1954 - ┆ Group 2        ┆ St. Jakob            ┆ … ┆ 211     ┆ 1277    ┆ HUN ┆ FRG │\n",
              "│      ┆ 16:50         ┆                ┆                      ┆   ┆         ┆         ┆     ┆     │\n",
              "│ 1954 ┆ 26 Jun 1954 - ┆ Quarter-finals ┆ La Pontaise          ┆ … ┆ 212     ┆ 1237    ┆ AUT ┆ SUI │\n",
              "│      ┆ 17:00         ┆                ┆                      ┆   ┆         ┆         ┆     ┆     │\n",
              "│ 1958 ┆ 08 Jun 1958 - ┆ Group 2        ┆ Idrottsparken        ┆ … ┆ 220     ┆ 1386    ┆ FRA ┆ PAR │\n",
              "│      ┆ 19:00         ┆                ┆                      ┆   ┆         ┆         ┆     ┆     │\n",
              "│ 1982 ┆ 15 Jun 1982 - ┆ Group 3        ┆ Nuevo Estadio        ┆ … ┆ 293     ┆ 896     ┆ HUN ┆ SLV │\n",
              "│      ┆ 21:00         ┆                ┆                      ┆   ┆         ┆         ┆     ┆     │\n",
              "└──────┴───────────────┴────────────────┴──────────────────────┴───┴─────────┴─────────┴─────┴─────┘"
            ],
            "text/html": [
              "<div><style>\n",
              ".dataframe > thead > tr > th,\n",
              ".dataframe > tbody > tr > td {\n",
              "  text-align: right;\n",
              "}\n",
              "</style>\n",
              "<small>shape: (5, 19)</small><table border=\"1\" class=\"dataframe\"><thead><tr><th>Year</th><th>Datetime</th><th>Stage</th><th>Stadium</th><th>City</th><th>HTN</th><th>HTG</th><th>ATG</th><th>ATN</th><th>Attendance</th><th>HTHG</th><th>HTAG</th><th>Referee</th><th>Assistant 1</th><th>Assistant 2</th><th>RoundID</th><th>MatchID</th><th>HTI</th><th>ATI</th></tr><tr><td>i64</td><td>str</td><td>str</td><td>str</td><td>str</td><td>str</td><td>i64</td><td>i64</td><td>str</td><td>i64</td><td>i64</td><td>i64</td><td>str</td><td>str</td><td>str</td><td>i64</td><td>i64</td><td>str</td><td>str</td></tr></thead><tbody><tr><td>1938</td><td>&quot;05 Jun 1938 - …</td><td>&quot;First round&quot;</td><td>&quot;Stade de la Me…</td><td>&quot;Strasbourg &quot;</td><td>&quot;Brazil&quot;</td><td>6</td><td>5</td><td>&quot;Poland&quot;</td><td>13452</td><td>0</td><td>0</td><td>&quot;EKLIND Ivan (S…</td><td>&quot;POISSANT Louis…</td><td>&quot;KISSENBERGER E…</td><td>206</td><td>1150</td><td>&quot;BRA&quot;</td><td>&quot;POL&quot;</td></tr><tr><td>1954</td><td>&quot;20 Jun 1954 - …</td><td>&quot;Group 2&quot;</td><td>&quot;St. Jakob&quot;</td><td>&quot;Basel &quot;</td><td>&quot;Hungary&quot;</td><td>8</td><td>3</td><td>&quot;Germany FR&quot;</td><td>56000</td><td>3</td><td>1</td><td>&quot;LING William (…</td><td>&quot;SCHICKER Werne…</td><td>&quot;GRIFFITHS Benj…</td><td>211</td><td>1277</td><td>&quot;HUN&quot;</td><td>&quot;FRG&quot;</td></tr><tr><td>1954</td><td>&quot;26 Jun 1954 - …</td><td>&quot;Quarter-finals…</td><td>&quot;La Pontaise&quot;</td><td>&quot;Lausanne &quot;</td><td>&quot;Austria&quot;</td><td>7</td><td>5</td><td>&quot;Switzerland&quot;</td><td>35000</td><td>5</td><td>4</td><td>&quot;FAULTLESS Char…</td><td>&quot;ASENSI Manuel …</td><td>&quot;SCHMETZER Emil…</td><td>212</td><td>1237</td><td>&quot;AUT&quot;</td><td>&quot;SUI&quot;</td></tr><tr><td>1958</td><td>&quot;08 Jun 1958 - …</td><td>&quot;Group 2&quot;</td><td>&quot;Idrottsparken&quot;</td><td>&quot;Norrk�Ping &quot;</td><td>&quot;France&quot;</td><td>7</td><td>3</td><td>&quot;Paraguay&quot;</td><td>16518</td><td>2</td><td>2</td><td>&quot;GARDEAZABAL Ju…</td><td>&quot;GRIFFITHS Benj…</td><td>&quot;BROZZI Juan (A…</td><td>220</td><td>1386</td><td>&quot;FRA&quot;</td><td>&quot;PAR&quot;</td></tr><tr><td>1982</td><td>&quot;15 Jun 1982 - …</td><td>&quot;Group 3&quot;</td><td>&quot;Nuevo Estadio&quot;</td><td>&quot;Elche &quot;</td><td>&quot;Hungary&quot;</td><td>10</td><td>1</td><td>&quot;El Salvador&quot;</td><td>23000</td><td>3</td><td>0</td><td>&quot;AL DOY Ebrahim…</td><td>&quot;CORVER Charles…</td><td>&quot;LUND-SORENSEN …</td><td>293</td><td>896</td><td>&quot;HUN&quot;</td><td>&quot;SLV&quot;</td></tr></tbody></table></div>"
            ]
          },
          "metadata": {},
          "execution_count": 47
        }
      ]
    },
    {
      "cell_type": "code",
      "source": [
        "dfclean.groupby(\"Year\", maintain_order=True).agg(\n",
        "   pl.col(\"Referee\").unique().count().alias(\"count\")\n",
        ")"
      ],
      "metadata": {
        "colab": {
          "base_uri": "https://localhost:8080/",
          "height": 725
        },
        "id": "BpNxN0bhMyOY",
        "outputId": "68b95cd2-08d8-4621-c557-abbda7f9c73e"
      },
      "execution_count": null,
      "outputs": [
        {
          "output_type": "execute_result",
          "data": {
            "text/plain": [
              "shape: (20, 2)\n",
              "┌──────┬───────┐\n",
              "│ Year ┆ count │\n",
              "│ ---  ┆ ---   │\n",
              "│ i64  ┆ u32   │\n",
              "╞══════╪═══════╡\n",
              "│ 1930 ┆ 11    │\n",
              "│ 1934 ┆ 11    │\n",
              "│ 1938 ┆ 13    │\n",
              "│ 1950 ┆ 14    │\n",
              "│ …    ┆ …     │\n",
              "│ 2002 ┆ 37    │\n",
              "│ 2006 ┆ 21    │\n",
              "│ 2010 ┆ 24    │\n",
              "│ 2014 ┆ 25    │\n",
              "└──────┴───────┘"
            ],
            "text/html": [
              "<div><style>\n",
              ".dataframe > thead > tr > th,\n",
              ".dataframe > tbody > tr > td {\n",
              "  text-align: right;\n",
              "}\n",
              "</style>\n",
              "<small>shape: (20, 2)</small><table border=\"1\" class=\"dataframe\"><thead><tr><th>Year</th><th>count</th></tr><tr><td>i64</td><td>u32</td></tr></thead><tbody><tr><td>1930</td><td>11</td></tr><tr><td>1934</td><td>11</td></tr><tr><td>1938</td><td>13</td></tr><tr><td>1950</td><td>14</td></tr><tr><td>1954</td><td>16</td></tr><tr><td>1958</td><td>22</td></tr><tr><td>1962</td><td>18</td></tr><tr><td>1966</td><td>25</td></tr><tr><td>1970</td><td>25</td></tr><tr><td>1974</td><td>30</td></tr><tr><td>1978</td><td>28</td></tr><tr><td>1982</td><td>41</td></tr><tr><td>1986</td><td>36</td></tr><tr><td>1990</td><td>29</td></tr><tr><td>1994</td><td>24</td></tr><tr><td>1998</td><td>34</td></tr><tr><td>2002</td><td>37</td></tr><tr><td>2006</td><td>21</td></tr><tr><td>2010</td><td>24</td></tr><tr><td>2014</td><td>25</td></tr></tbody></table></div>"
            ]
          },
          "metadata": {},
          "execution_count": 64
        }
      ]
    },
    {
      "cell_type": "code",
      "source": [
        "dfclean.groupby(\"Year\", maintain_order=True).agg(\n",
        "   pl.col(\"HTN\").count().alias(\"count\")\n",
        ")"
      ],
      "metadata": {
        "colab": {
          "base_uri": "https://localhost:8080/",
          "height": 725
        },
        "id": "pRuAegb7mwTb",
        "outputId": "939cec47-98a4-4c5f-bb4a-e8ef59102335"
      },
      "execution_count": null,
      "outputs": [
        {
          "output_type": "execute_result",
          "data": {
            "text/plain": [
              "shape: (20, 2)\n",
              "┌──────┬───────┐\n",
              "│ Year ┆ count │\n",
              "│ ---  ┆ ---   │\n",
              "│ i64  ┆ u32   │\n",
              "╞══════╪═══════╡\n",
              "│ 1930 ┆ 18    │\n",
              "│ 1934 ┆ 17    │\n",
              "│ 1938 ┆ 18    │\n",
              "│ 1950 ┆ 22    │\n",
              "│ …    ┆ …     │\n",
              "│ 2002 ┆ 64    │\n",
              "│ 2006 ┆ 64    │\n",
              "│ 2010 ┆ 64    │\n",
              "│ 2014 ┆ 78    │\n",
              "└──────┴───────┘"
            ],
            "text/html": [
              "<div><style>\n",
              ".dataframe > thead > tr > th,\n",
              ".dataframe > tbody > tr > td {\n",
              "  text-align: right;\n",
              "}\n",
              "</style>\n",
              "<small>shape: (20, 2)</small><table border=\"1\" class=\"dataframe\"><thead><tr><th>Year</th><th>count</th></tr><tr><td>i64</td><td>u32</td></tr></thead><tbody><tr><td>1930</td><td>18</td></tr><tr><td>1934</td><td>17</td></tr><tr><td>1938</td><td>18</td></tr><tr><td>1950</td><td>22</td></tr><tr><td>1954</td><td>26</td></tr><tr><td>1958</td><td>35</td></tr><tr><td>1962</td><td>32</td></tr><tr><td>1966</td><td>32</td></tr><tr><td>1970</td><td>32</td></tr><tr><td>1974</td><td>38</td></tr><tr><td>1978</td><td>38</td></tr><tr><td>1982</td><td>52</td></tr><tr><td>1986</td><td>52</td></tr><tr><td>1990</td><td>52</td></tr><tr><td>1994</td><td>52</td></tr><tr><td>1998</td><td>64</td></tr><tr><td>2002</td><td>64</td></tr><tr><td>2006</td><td>64</td></tr><tr><td>2010</td><td>64</td></tr><tr><td>2014</td><td>78</td></tr></tbody></table></div>"
            ]
          },
          "metadata": {},
          "execution_count": 61
        }
      ]
    },
    {
      "cell_type": "code",
      "source": [
        "dfclean.columns"
      ],
      "metadata": {
        "colab": {
          "base_uri": "https://localhost:8080/"
        },
        "id": "8OdqnN4KqA1u",
        "outputId": "46469f22-7922-42f2-b5f8-54705000d715"
      },
      "execution_count": null,
      "outputs": [
        {
          "output_type": "execute_result",
          "data": {
            "text/plain": [
              "['Year',\n",
              " 'Datetime',\n",
              " 'Stage',\n",
              " 'Stadium',\n",
              " 'City',\n",
              " 'HTN',\n",
              " 'HTG',\n",
              " 'ATG',\n",
              " 'ATN',\n",
              " 'Attendance',\n",
              " 'HTHG',\n",
              " 'HTAG',\n",
              " 'Referee',\n",
              " 'Assistant 1',\n",
              " 'Assistant 2',\n",
              " 'RoundID',\n",
              " 'MatchID',\n",
              " 'HTI',\n",
              " 'ATI']"
            ]
          },
          "metadata": {},
          "execution_count": 68
        }
      ]
    },
    {
      "cell_type": "code",
      "source": [
        "dfclean.groupby(\"Year\", maintain_order=True).agg(\n",
        "   pl.col(\"HTHG\").sum().alias(\"Goles de HT equipo local\"),\n",
        "   pl.col(\"HTAG\").sum().alias(\"Goles de HT equipo visitante\")\n",
        ")"
      ],
      "metadata": {
        "colab": {
          "base_uri": "https://localhost:8080/",
          "height": 725
        },
        "id": "8Zq5Rx2UpZYp",
        "outputId": "0e302ca5-b5e0-48ba-936c-da8daabb99ef"
      },
      "execution_count": null,
      "outputs": [
        {
          "output_type": "execute_result",
          "data": {
            "text/plain": [
              "shape: (20, 3)\n",
              "┌──────┬──────────────────────────┬──────────────────────────────┐\n",
              "│ Year ┆ Goles de HT equipo local ┆ Goles de HT equipo visitante │\n",
              "│ ---  ┆ ---                      ┆ ---                          │\n",
              "│ i64  ┆ i64                      ┆ i64                          │\n",
              "╞══════╪══════════════════════════╪══════════════════════════════╡\n",
              "│ 1930 ┆ 27                       ┆ 5                            │\n",
              "│ 1934 ┆ 20                       ┆ 9                            │\n",
              "│ 1938 ┆ 20                       ┆ 10                           │\n",
              "│ 1950 ┆ 33                       ┆ 8                            │\n",
              "│ …    ┆ …                        ┆ …                            │\n",
              "│ 2002 ┆ 39                       ┆ 26                           │\n",
              "│ 2006 ┆ 36                       ┆ 30                           │\n",
              "│ 2010 ┆ 29                       ┆ 28                           │\n",
              "│ 2014 ┆ 28                       ┆ 46                           │\n",
              "└──────┴──────────────────────────┴──────────────────────────────┘"
            ],
            "text/html": [
              "<div><style>\n",
              ".dataframe > thead > tr > th,\n",
              ".dataframe > tbody > tr > td {\n",
              "  text-align: right;\n",
              "}\n",
              "</style>\n",
              "<small>shape: (20, 3)</small><table border=\"1\" class=\"dataframe\"><thead><tr><th>Year</th><th>Goles de HT equipo local</th><th>Goles de HT equipo visitante</th></tr><tr><td>i64</td><td>i64</td><td>i64</td></tr></thead><tbody><tr><td>1930</td><td>27</td><td>5</td></tr><tr><td>1934</td><td>20</td><td>9</td></tr><tr><td>1938</td><td>20</td><td>10</td></tr><tr><td>1950</td><td>33</td><td>8</td></tr><tr><td>1954</td><td>46</td><td>13</td></tr><tr><td>1958</td><td>34</td><td>20</td></tr><tr><td>1962</td><td>29</td><td>10</td></tr><tr><td>1966</td><td>29</td><td>11</td></tr><tr><td>1970</td><td>21</td><td>11</td></tr><tr><td>1974</td><td>21</td><td>24</td></tr><tr><td>1978</td><td>36</td><td>14</td></tr><tr><td>1982</td><td>33</td><td>15</td></tr><tr><td>1986</td><td>25</td><td>23</td></tr><tr><td>1990</td><td>20</td><td>12</td></tr><tr><td>1994</td><td>39</td><td>23</td></tr><tr><td>1998</td><td>39</td><td>27</td></tr><tr><td>2002</td><td>39</td><td>26</td></tr><tr><td>2006</td><td>36</td><td>30</td></tr><tr><td>2010</td><td>29</td><td>28</td></tr><tr><td>2014</td><td>28</td><td>46</td></tr></tbody></table></div>"
            ]
          },
          "metadata": {},
          "execution_count": 76
        }
      ]
    },
    {
      "cell_type": "code",
      "source": [
        "dfclean.groupby(\"City\", maintain_order=True).agg(\n",
        "   pl.col(\"City\").count().alias(\"Ciudad donde mas veces se jugó\"),\n",
        ")"
      ],
      "metadata": {
        "colab": {
          "base_uri": "https://localhost:8080/",
          "height": 881
        },
        "id": "fzhVFpJYsKAI",
        "outputId": "137d44a6-4066-44cd-e147-6e92cc4d2fe1"
      },
      "execution_count": null,
      "outputs": [
        {
          "output_type": "execute_result",
          "data": {
            "text/plain": [
              "shape: (151, 2)\n",
              "┌─────────────┬────────────────────────────────┐\n",
              "│ City        ┆ Ciudad donde mas veces se jugó │\n",
              "│ ---         ┆ ---                            │\n",
              "│ str         ┆ u32                            │\n",
              "╞═════════════╪════════════════════════════════╡\n",
              "│ Montevideo  ┆ 18                             │\n",
              "│ Turin       ┆ 7                              │\n",
              "│ Naples      ┆ 7                              │\n",
              "│ Milan       ┆ 9                              │\n",
              "│ …           ┆ …                              │\n",
              "│ Cuiaba      ┆ 4                              │\n",
              "│ Fortaleza   ┆ 8                              │\n",
              "│ Manaus      ┆ 4                              │\n",
              "│ Brasilia    ┆ 10                             │\n",
              "└─────────────┴────────────────────────────────┘"
            ],
            "text/html": [
              "<div><style>\n",
              ".dataframe > thead > tr > th,\n",
              ".dataframe > tbody > tr > td {\n",
              "  text-align: right;\n",
              "}\n",
              "</style>\n",
              "<small>shape: (151, 2)</small><table border=\"1\" class=\"dataframe\"><thead><tr><th>City</th><th>Ciudad donde mas veces se jugó</th></tr><tr><td>str</td><td>u32</td></tr></thead><tbody><tr><td>&quot;Montevideo &quot;</td><td>18</td></tr><tr><td>&quot;Turin &quot;</td><td>7</td></tr><tr><td>&quot;Naples &quot;</td><td>7</td></tr><tr><td>&quot;Milan &quot;</td><td>9</td></tr><tr><td>&quot;Bologna &quot;</td><td>6</td></tr><tr><td>&quot;Florence &quot;</td><td>7</td></tr><tr><td>&quot;Genoa &quot;</td><td>5</td></tr><tr><td>&quot;Rome &quot;</td><td>9</td></tr><tr><td>&quot;Trieste &quot;</td><td>1</td></tr><tr><td>&quot;Paris &quot;</td><td>9</td></tr><tr><td>&quot;Reims &quot;</td><td>1</td></tr><tr><td>&quot;Colombes &quot;</td><td>3</td></tr><tr><td>&hellip;</td><td>&hellip;</td></tr><tr><td>&quot;Phokeng &quot;</td><td>6</td></tr><tr><td>&quot;Polokwane &quot;</td><td>4</td></tr><tr><td>&quot;Tshwane/Pretor…</td><td>6</td></tr><tr><td>&quot;Durban &quot;</td><td>7</td></tr><tr><td>&quot;Mangaung/Bloem…</td><td>6</td></tr><tr><td>&quot;Nelspruit &quot;</td><td>4</td></tr><tr><td>&quot;Natal &quot;</td><td>4</td></tr><tr><td>&quot;Salvador &quot;</td><td>8</td></tr><tr><td>&quot;Cuiaba &quot;</td><td>4</td></tr><tr><td>&quot;Fortaleza &quot;</td><td>8</td></tr><tr><td>&quot;Manaus &quot;</td><td>4</td></tr><tr><td>&quot;Brasilia &quot;</td><td>10</td></tr></tbody></table></div>"
            ]
          },
          "metadata": {},
          "execution_count": 79
        }
      ]
    },
    {
      "cell_type": "code",
      "source": [
        "dfclean.groupby(\"Stadium\", maintain_order=True).agg(\n",
        "   pl.col(\"Stadium\").count().alias(\"count\")\n",
        ")"
      ],
      "metadata": {
        "colab": {
          "base_uri": "https://localhost:8080/",
          "height": 881
        },
        "id": "8mP8tQKPteXZ",
        "outputId": "351fcbfd-d83a-422e-d896-2153194fc043"
      },
      "execution_count": null,
      "outputs": [
        {
          "output_type": "execute_result",
          "data": {
            "text/plain": [
              "shape: (181, 2)\n",
              "┌─────────────────────────┬───────┐\n",
              "│ Stadium                 ┆ count │\n",
              "│ ---                     ┆ ---   │\n",
              "│ str                     ┆ u32   │\n",
              "╞═════════════════════════╪═══════╡\n",
              "│ Pocitos                 ┆ 2     │\n",
              "│ Parque Central          ┆ 6     │\n",
              "│ Estadio Centenario      ┆ 10    │\n",
              "│ Stadio Benito Mussolini ┆ 2     │\n",
              "│ …                       ┆ …     │\n",
              "│ Estadio Nacional        ┆ 10    │\n",
              "│ Estadio Beira-Rio       ┆ 4     │\n",
              "│ Estadio do Maracana     ┆ 10    │\n",
              "│ Arena da Baixada        ┆ 4     │\n",
              "└─────────────────────────┴───────┘"
            ],
            "text/html": [
              "<div><style>\n",
              ".dataframe > thead > tr > th,\n",
              ".dataframe > tbody > tr > td {\n",
              "  text-align: right;\n",
              "}\n",
              "</style>\n",
              "<small>shape: (181, 2)</small><table border=\"1\" class=\"dataframe\"><thead><tr><th>Stadium</th><th>count</th></tr><tr><td>str</td><td>u32</td></tr></thead><tbody><tr><td>&quot;Pocitos&quot;</td><td>2</td></tr><tr><td>&quot;Parque Central…</td><td>6</td></tr><tr><td>&quot;Estadio Centen…</td><td>10</td></tr><tr><td>&quot;Stadio Benito …</td><td>2</td></tr><tr><td>&quot;Giorgio Ascare…</td><td>2</td></tr><tr><td>&quot;San Siro&quot;</td><td>3</td></tr><tr><td>&quot;Littorale&quot;</td><td>2</td></tr><tr><td>&quot;Giovanni Berta…</td><td>3</td></tr><tr><td>&quot;Luigi Ferraris…</td><td>5</td></tr><tr><td>&quot;Nazionale PNF&quot;</td><td>3</td></tr><tr><td>&quot;Littorio&quot;</td><td>1</td></tr><tr><td>&quot;Parc des Princ…</td><td>9</td></tr><tr><td>&hellip;</td><td>&hellip;</td></tr><tr><td>&quot;Arena de Sao P…</td><td>8</td></tr><tr><td>&quot;Estadio das Du…</td><td>4</td></tr><tr><td>&quot;Arena Fonte No…</td><td>8</td></tr><tr><td>&quot;Arena Pantanal…</td><td>4</td></tr><tr><td>&quot;Estadio Mineir…</td><td>8</td></tr><tr><td>&quot;Estadio Castel…</td><td>8</td></tr><tr><td>&quot;Arena Amazonia…</td><td>4</td></tr><tr><td>&quot;Arena Pernambu…</td><td>6</td></tr><tr><td>&quot;Estadio Nacion…</td><td>10</td></tr><tr><td>&quot;Estadio Beira-…</td><td>4</td></tr><tr><td>&quot;Estadio do Mar…</td><td>10</td></tr><tr><td>&quot;Arena da Baixa…</td><td>4</td></tr></tbody></table></div>"
            ]
          },
          "metadata": {},
          "execution_count": 94
        }
      ]
    },
    {
      "cell_type": "code",
      "source": [
        "dfclean.groupby(\"Year\",\"HTN\", maintain_order=True).agg(\n",
        "   pl.col(\"HTG\").sum().alias(\"Suma de goles como local\"),\n",
        "   pl.col(\"ATG\").sum().alias(\"Suma de goles como visitante\"),\n",
        ")"
      ],
      "metadata": {
        "colab": {
          "base_uri": "https://localhost:8080/",
          "height": 881
        },
        "id": "HwgIFvnpwlN4",
        "outputId": "3979df74-5b62-4843-b2b5-084439d33dd6"
      },
      "execution_count": null,
      "outputs": [
        {
          "output_type": "execute_result",
          "data": {
            "text/plain": [
              "shape: (366, 4)\n",
              "┌──────┬────────────────────────────┬──────────────────────────┬──────────────────────────────┐\n",
              "│ Year ┆ HTN                        ┆ Suma de goles como local ┆ Suma de goles como visitante │\n",
              "│ ---  ┆ ---                        ┆ ---                      ┆ ---                          │\n",
              "│ i64  ┆ str                        ┆ i64                      ┆ i64                          │\n",
              "╞══════╪════════════════════════════╪══════════════════════════╪══════════════════════════════╡\n",
              "│ 1930 ┆ France                     ┆ 4                        ┆ 1                            │\n",
              "│ 1930 ┆ USA                        ┆ 6                        ┆ 0                            │\n",
              "│ 1930 ┆ Yugoslavia                 ┆ 6                        ┆ 1                            │\n",
              "│ 1930 ┆ Romania                    ┆ 3                        ┆ 1                            │\n",
              "│ …    ┆ …                          ┆ …                        ┆ …                            │\n",
              "│ 2014 ┆ rn\">Bosnia and Herzegovina ┆ 3                        ┆ 1                            │\n",
              "│ 2014 ┆ Ecuador                    ┆ 0                        ┆ 0                            │\n",
              "│ 2014 ┆ Portugal                   ┆ 2                        ┆ 1                            │\n",
              "│ 2014 ┆ Algeria                    ┆ 1                        ┆ 1                            │\n",
              "└──────┴────────────────────────────┴──────────────────────────┴──────────────────────────────┘"
            ],
            "text/html": [
              "<div><style>\n",
              ".dataframe > thead > tr > th,\n",
              ".dataframe > tbody > tr > td {\n",
              "  text-align: right;\n",
              "}\n",
              "</style>\n",
              "<small>shape: (366, 4)</small><table border=\"1\" class=\"dataframe\"><thead><tr><th>Year</th><th>HTN</th><th>Suma de goles como local</th><th>Suma de goles como visitante</th></tr><tr><td>i64</td><td>str</td><td>i64</td><td>i64</td></tr></thead><tbody><tr><td>1930</td><td>&quot;France&quot;</td><td>4</td><td>1</td></tr><tr><td>1930</td><td>&quot;USA&quot;</td><td>6</td><td>0</td></tr><tr><td>1930</td><td>&quot;Yugoslavia&quot;</td><td>6</td><td>1</td></tr><tr><td>1930</td><td>&quot;Romania&quot;</td><td>3</td><td>1</td></tr><tr><td>1930</td><td>&quot;Argentina&quot;</td><td>16</td><td>5</td></tr><tr><td>1930</td><td>&quot;Chile&quot;</td><td>4</td><td>0</td></tr><tr><td>1930</td><td>&quot;Uruguay&quot;</td><td>15</td><td>3</td></tr><tr><td>1930</td><td>&quot;Brazil&quot;</td><td>4</td><td>0</td></tr><tr><td>1930</td><td>&quot;Paraguay&quot;</td><td>1</td><td>0</td></tr><tr><td>1934</td><td>&quot;Austria&quot;</td><td>5</td><td>3</td></tr><tr><td>1934</td><td>&quot;Hungary&quot;</td><td>4</td><td>2</td></tr><tr><td>1934</td><td>&quot;Switzerland&quot;</td><td>3</td><td>2</td></tr><tr><td>&hellip;</td><td>&hellip;</td><td>&hellip;</td><td>&hellip;</td></tr><tr><td>2014</td><td>&quot;Honduras&quot;</td><td>1</td><td>5</td></tr><tr><td>2014</td><td>&quot;Nigeria&quot;</td><td>3</td><td>3</td></tr><tr><td>2014</td><td>&quot;Korea Republic…</td><td>2</td><td>5</td></tr><tr><td>2014</td><td>&quot;USA&quot;</td><td>2</td><td>3</td></tr><tr><td>2014</td><td>&quot;Netherlands&quot;</td><td>6</td><td>2</td></tr><tr><td>2014</td><td>&quot;Croatia&quot;</td><td>1</td><td>3</td></tr><tr><td>2014</td><td>&quot;Costa Rica&quot;</td><td>2</td><td>2</td></tr><tr><td>2014</td><td>&quot;Greece&quot;</td><td>2</td><td>1</td></tr><tr><td>2014</td><td>&quot;rn&quot;&gt;Bosnia and…</td><td>3</td><td>1</td></tr><tr><td>2014</td><td>&quot;Ecuador&quot;</td><td>0</td><td>0</td></tr><tr><td>2014</td><td>&quot;Portugal&quot;</td><td>2</td><td>1</td></tr><tr><td>2014</td><td>&quot;Algeria&quot;</td><td>1</td><td>1</td></tr></tbody></table></div>"
            ]
          },
          "metadata": {},
          "execution_count": 144
        }
      ]
    },
    {
      "cell_type": "code",
      "source": [
        "dfs = dfclean.select(pl.col(\"Year\",\"HTG\",\"ATG\"))\n",
        "dfs.groupby(\"Year\", maintain_order=True).sum()"
      ],
      "metadata": {
        "colab": {
          "base_uri": "https://localhost:8080/",
          "height": 725
        },
        "id": "EqhgGAE8zoyf",
        "outputId": "0eeba262-6274-480b-ecb4-1ae14871e61a"
      },
      "execution_count": null,
      "outputs": [
        {
          "output_type": "execute_result",
          "data": {
            "text/plain": [
              "shape: (20, 3)\n",
              "┌──────┬─────┬─────┐\n",
              "│ Year ┆ HTG ┆ ATG │\n",
              "│ ---  ┆ --- ┆ --- │\n",
              "│ i64  ┆ i64 ┆ i64 │\n",
              "╞══════╪═════╪═════╡\n",
              "│ 1930 ┆ 59  ┆ 11  │\n",
              "│ 1934 ┆ 48  ┆ 22  │\n",
              "│ 1938 ┆ 61  ┆ 23  │\n",
              "│ 1950 ┆ 69  ┆ 19  │\n",
              "│ …    ┆ …   ┆ …   │\n",
              "│ 2002 ┆ 89  ┆ 72  │\n",
              "│ 2006 ┆ 86  ┆ 61  │\n",
              "│ 2010 ┆ 76  ┆ 69  │\n",
              "│ 2014 ┆ 95  ┆ 105 │\n",
              "└──────┴─────┴─────┘"
            ],
            "text/html": [
              "<div><style>\n",
              ".dataframe > thead > tr > th,\n",
              ".dataframe > tbody > tr > td {\n",
              "  text-align: right;\n",
              "}\n",
              "</style>\n",
              "<small>shape: (20, 3)</small><table border=\"1\" class=\"dataframe\"><thead><tr><th>Year</th><th>HTG</th><th>ATG</th></tr><tr><td>i64</td><td>i64</td><td>i64</td></tr></thead><tbody><tr><td>1930</td><td>59</td><td>11</td></tr><tr><td>1934</td><td>48</td><td>22</td></tr><tr><td>1938</td><td>61</td><td>23</td></tr><tr><td>1950</td><td>69</td><td>19</td></tr><tr><td>1954</td><td>109</td><td>31</td></tr><tr><td>1958</td><td>88</td><td>38</td></tr><tr><td>1962</td><td>69</td><td>20</td></tr><tr><td>1966</td><td>69</td><td>20</td></tr><tr><td>1970</td><td>72</td><td>23</td></tr><tr><td>1974</td><td>51</td><td>46</td></tr><tr><td>1978</td><td>79</td><td>23</td></tr><tr><td>1982</td><td>97</td><td>49</td></tr><tr><td>1986</td><td>74</td><td>58</td></tr><tr><td>1990</td><td>67</td><td>48</td></tr><tr><td>1994</td><td>83</td><td>58</td></tr><tr><td>1998</td><td>98</td><td>73</td></tr><tr><td>2002</td><td>89</td><td>72</td></tr><tr><td>2006</td><td>86</td><td>61</td></tr><tr><td>2010</td><td>76</td><td>69</td></tr><tr><td>2014</td><td>95</td><td>105</td></tr></tbody></table></div>"
            ]
          },
          "metadata": {},
          "execution_count": 122
        }
      ]
    },
    {
      "cell_type": "code",
      "source": [
        "df2016= dfclean.filter(pl.col(\"Year\")== 2006)\n",
        "df2016"
      ],
      "metadata": {
        "colab": {
          "base_uri": "https://localhost:8080/",
          "height": 1000
        },
        "id": "Swi5tj8J44Ci",
        "outputId": "528475a1-f8d0-4a96-9d19-d999f4c3a07c"
      },
      "execution_count": null,
      "outputs": [
        {
          "output_type": "execute_result",
          "data": {
            "text/plain": [
              "shape: (64, 19)\n",
              "┌──────┬───────────────┬─────────────┬───────────────────────┬───┬──────────┬──────────┬─────┬─────┐\n",
              "│ Year ┆ Datetime      ┆ Stage       ┆ Stadium               ┆ … ┆ RoundID  ┆ MatchID  ┆ HTI ┆ ATI │\n",
              "│ ---  ┆ ---           ┆ ---         ┆ ---                   ┆   ┆ ---      ┆ ---      ┆ --- ┆ --- │\n",
              "│ i64  ┆ str           ┆ str         ┆ str                   ┆   ┆ i64      ┆ i64      ┆ str ┆ str │\n",
              "╞══════╪═══════════════╪═════════════╪═══════════════════════╪═══╪══════════╪══════════╪═════╪═════╡\n",
              "│ 2006 ┆ 09 Jun 2006 - ┆ Group A     ┆ FIFA World Cup        ┆ … ┆ 97410100 ┆ 97410001 ┆ GER ┆ CRC │\n",
              "│      ┆ 18:00         ┆             ┆ Stadium, Munich       ┆   ┆          ┆          ┆     ┆     │\n",
              "│ 2006 ┆ 09 Jun 2006 - ┆ Group A     ┆ FIFA World Cup        ┆ … ┆ 97410100 ┆ 97410002 ┆ POL ┆ ECU │\n",
              "│      ┆ 21:00         ┆             ┆ Stadium, Gelsenki…    ┆   ┆          ┆          ┆     ┆     │\n",
              "│ 2006 ┆ 10 Jun 2006 - ┆ Group B     ┆ FIFA World Cup        ┆ … ┆ 97410100 ┆ 97410003 ┆ ENG ┆ PAR │\n",
              "│      ┆ 15:00         ┆             ┆ Stadium, Frankfur…    ┆   ┆          ┆          ┆     ┆     │\n",
              "│ 2006 ┆ 10 Jun 2006 - ┆ Group B     ┆ FIFA World Cup        ┆ … ┆ 97410100 ┆ 97410004 ┆ TRI ┆ SWE │\n",
              "│      ┆ 18:00         ┆             ┆ Stadium, Dortmund     ┆   ┆          ┆          ┆     ┆     │\n",
              "│ …    ┆ …             ┆ …           ┆ …                     ┆ … ┆ …        ┆ …        ┆ …   ┆ …   │\n",
              "│ 2006 ┆ 04 Jul 2006 - ┆ Semi-finals ┆ FIFA World Cup        ┆ … ┆ 97410400 ┆ 97410061 ┆ GER ┆ ITA │\n",
              "│      ┆ 21:00         ┆             ┆ Stadium, Dortmund     ┆   ┆          ┆          ┆     ┆     │\n",
              "│ 2006 ┆ 05 Jul 2006 - ┆ Semi-finals ┆ FIFA World Cup        ┆ … ┆ 97410400 ┆ 97410062 ┆ POR ┆ FRA │\n",
              "│      ┆ 21:00         ┆             ┆ Stadium, Munich       ┆   ┆          ┆          ┆     ┆     │\n",
              "│ 2006 ┆ 08 Jul 2006 - ┆ Third place ┆ Gottlieb-Daimler-Stad ┆ … ┆ 97410500 ┆ 97410063 ┆ GER ┆ POR │\n",
              "│      ┆ 21:00         ┆             ┆ ion                   ┆   ┆          ┆          ┆     ┆     │\n",
              "│ 2006 ┆ 09 Jul 2006 - ┆ Final       ┆ Olympiastadion        ┆ … ┆ 97410600 ┆ 97410064 ┆ ITA ┆ FRA │\n",
              "│      ┆ 20:00         ┆             ┆                       ┆   ┆          ┆          ┆     ┆     │\n",
              "└──────┴───────────────┴─────────────┴───────────────────────┴───┴──────────┴──────────┴─────┴─────┘"
            ],
            "text/html": [
              "<div><style>\n",
              ".dataframe > thead > tr > th,\n",
              ".dataframe > tbody > tr > td {\n",
              "  text-align: right;\n",
              "}\n",
              "</style>\n",
              "<small>shape: (64, 19)</small><table border=\"1\" class=\"dataframe\"><thead><tr><th>Year</th><th>Datetime</th><th>Stage</th><th>Stadium</th><th>City</th><th>HTN</th><th>HTG</th><th>ATG</th><th>ATN</th><th>Attendance</th><th>HTHG</th><th>HTAG</th><th>Referee</th><th>Assistant 1</th><th>Assistant 2</th><th>RoundID</th><th>MatchID</th><th>HTI</th><th>ATI</th></tr><tr><td>i64</td><td>str</td><td>str</td><td>str</td><td>str</td><td>str</td><td>i64</td><td>i64</td><td>str</td><td>i64</td><td>i64</td><td>i64</td><td>str</td><td>str</td><td>str</td><td>i64</td><td>i64</td><td>str</td><td>str</td></tr></thead><tbody><tr><td>2006</td><td>&quot;09 Jun 2006 - …</td><td>&quot;Group A&quot;</td><td>&quot;FIFA World Cup…</td><td>&quot;Munich &quot;</td><td>&quot;Germany&quot;</td><td>4</td><td>2</td><td>&quot;Costa Rica&quot;</td><td>66000</td><td>2</td><td>1</td><td>&quot;ELIZONDO Horac…</td><td>&quot;GARCIA Dario (…</td><td>&quot;OTERO Rodolfo …</td><td>97410100</td><td>97410001</td><td>&quot;GER&quot;</td><td>&quot;CRC&quot;</td></tr><tr><td>2006</td><td>&quot;09 Jun 2006 - …</td><td>&quot;Group A&quot;</td><td>&quot;FIFA World Cup…</td><td>&quot;Gelsenkirchen …</td><td>&quot;Poland&quot;</td><td>0</td><td>2</td><td>&quot;Ecuador&quot;</td><td>52000</td><td>0</td><td>1</td><td>&quot;KAMIKAWA Toru …</td><td>&quot;HIROSHIMA Yosh…</td><td>&quot;KIM Dae Young …</td><td>97410100</td><td>97410002</td><td>&quot;POL&quot;</td><td>&quot;ECU&quot;</td></tr><tr><td>2006</td><td>&quot;10 Jun 2006 - …</td><td>&quot;Group B&quot;</td><td>&quot;FIFA World Cup…</td><td>&quot;Frankfurt/Main…</td><td>&quot;England&quot;</td><td>1</td><td>0</td><td>&quot;Paraguay&quot;</td><td>48000</td><td>1</td><td>0</td><td>&quot;RODRIGUEZ Marc…</td><td>&quot;CAMARGO Jose L…</td><td>&quot;LEAL Leonel (C…</td><td>97410100</td><td>97410003</td><td>&quot;ENG&quot;</td><td>&quot;PAR&quot;</td></tr><tr><td>2006</td><td>&quot;10 Jun 2006 - …</td><td>&quot;Group B&quot;</td><td>&quot;FIFA World Cup…</td><td>&quot;Dortmund &quot;</td><td>&quot;rn&quot;&gt;Trinidad a…</td><td>0</td><td>0</td><td>&quot;Sweden&quot;</td><td>62959</td><td>0</td><td>0</td><td>&quot;MAIDIN Shamsul…</td><td>&quot;PERMPANICH Pra…</td><td>&quot;GHULOUM Eisa (…</td><td>97410100</td><td>97410004</td><td>&quot;TRI&quot;</td><td>&quot;SWE&quot;</td></tr><tr><td>2006</td><td>&quot;10 Jun 2006 - …</td><td>&quot;Group C&quot;</td><td>&quot;FIFA World Cup…</td><td>&quot;Hamburg &quot;</td><td>&quot;Argentina&quot;</td><td>2</td><td>1</td><td>&quot;C�te d&#x27;Ivoire&quot;</td><td>49480</td><td>2</td><td>0</td><td>&quot;DE BLEECKERE F…</td><td>&quot;HERMANS Peter …</td><td>&quot;VROMANS Walter…</td><td>97410100</td><td>97410005</td><td>&quot;ARG&quot;</td><td>&quot;CIV&quot;</td></tr><tr><td>2006</td><td>&quot;11 Jun 2006 - …</td><td>&quot;Group C&quot;</td><td>&quot;Zentralstadion…</td><td>&quot;Leipzig &quot;</td><td>&quot;rn&quot;&gt;Serbia and…</td><td>0</td><td>1</td><td>&quot;Netherlands&quot;</td><td>43000</td><td>0</td><td>1</td><td>&quot;MERK Markus (G…</td><td>&quot;SCHRAER Christ…</td><td>&quot;SALVER Jan-Hen…</td><td>97410100</td><td>97410006</td><td>&quot;SCG&quot;</td><td>&quot;NED&quot;</td></tr><tr><td>2006</td><td>&quot;11 Jun 2006 - …</td><td>&quot;Group D&quot;</td><td>&quot;Franken-Stadio…</td><td>&quot;Nuremberg &quot;</td><td>&quot;Mexico&quot;</td><td>3</td><td>1</td><td>&quot;Iran&quot;</td><td>41000</td><td>1</td><td>1</td><td>&quot;ROSETTI Robert…</td><td>&quot;COPELLI Cristi…</td><td>&quot;STAGNOLI Aless…</td><td>97410100</td><td>97410007</td><td>&quot;MEX&quot;</td><td>&quot;IRN&quot;</td></tr><tr><td>2006</td><td>&quot;11 Jun 2006 - …</td><td>&quot;Group D&quot;</td><td>&quot;FIFA World Cup…</td><td>&quot;Cologne &quot;</td><td>&quot;Angola&quot;</td><td>0</td><td>1</td><td>&quot;Portugal&quot;</td><td>45000</td><td>0</td><td>1</td><td>&quot;LARRIONDA Jorg…</td><td>&quot;RIAL Walter (U…</td><td>&quot;FANDINO Pablo …</td><td>97410100</td><td>97410008</td><td>&quot;ANG&quot;</td><td>&quot;POR&quot;</td></tr><tr><td>2006</td><td>&quot;12 Jun 2006 - …</td><td>&quot;Group F&quot;</td><td>&quot;Fritz-Walter-S…</td><td>&quot;Kaiserslautern…</td><td>&quot;Australia&quot;</td><td>3</td><td>1</td><td>&quot;Japan&quot;</td><td>46000</td><td>0</td><td>1</td><td>&quot;ABD EL FATAH E…</td><td>&quot;DANTE Dramane …</td><td>&quot;NDOYE Mamadou …</td><td>97410100</td><td>97410012</td><td>&quot;AUS&quot;</td><td>&quot;JPN&quot;</td></tr><tr><td>2006</td><td>&quot;12 Jun 2006 - …</td><td>&quot;Group E&quot;</td><td>&quot;FIFA World Cup…</td><td>&quot;Gelsenkirchen …</td><td>&quot;USA&quot;</td><td>0</td><td>3</td><td>&quot;Czech Republic…</td><td>52000</td><td>0</td><td>2</td><td>&quot;AMARILLA Carlo…</td><td>&quot;ANDINO Amelio …</td><td>&quot;BERNAL Manuel …</td><td>97410100</td><td>97410010</td><td>&quot;USA&quot;</td><td>&quot;CZE&quot;</td></tr><tr><td>2006</td><td>&quot;12 Jun 2006 - …</td><td>&quot;Group E&quot;</td><td>&quot;FIFA World Cup…</td><td>&quot;Hanover &quot;</td><td>&quot;Italy&quot;</td><td>2</td><td>0</td><td>&quot;Ghana&quot;</td><td>43000</td><td>1</td><td>0</td><td>&quot;SIMON Carlos (…</td><td>&quot;TAVARES Ariste…</td><td>&quot;CORONA Ednilso…</td><td>97410100</td><td>97410009</td><td>&quot;ITA&quot;</td><td>&quot;GHA&quot;</td></tr><tr><td>2006</td><td>&quot;13 Jun 2006 - …</td><td>&quot;Group G&quot;</td><td>&quot;FIFA World Cup…</td><td>&quot;Frankfurt/Main…</td><td>&quot;Korea Republic…</td><td>2</td><td>1</td><td>&quot;Togo&quot;</td><td>48000</td><td>0</td><td>1</td><td>&quot;POLL Graham (E…</td><td>&quot;SHARP Philip (…</td><td>&quot;TURNER Glenn (…</td><td>97410100</td><td>97410014</td><td>&quot;KOR&quot;</td><td>&quot;TOG&quot;</td></tr><tr><td>&hellip;</td><td>&hellip;</td><td>&hellip;</td><td>&hellip;</td><td>&hellip;</td><td>&hellip;</td><td>&hellip;</td><td>&hellip;</td><td>&hellip;</td><td>&hellip;</td><td>&hellip;</td><td>&hellip;</td><td>&hellip;</td><td>&hellip;</td><td>&hellip;</td><td>&hellip;</td><td>&hellip;</td><td>&hellip;</td><td>&hellip;</td></tr><tr><td>2006</td><td>&quot;26 Jun 2006 - …</td><td>&quot;Round of 16&quot;</td><td>&quot;Fritz-Walter-S…</td><td>&quot;Kaiserslautern…</td><td>&quot;Italy&quot;</td><td>1</td><td>0</td><td>&quot;Australia&quot;</td><td>46000</td><td>0</td><td>0</td><td>&quot;MEDINA CANTALE…</td><td>&quot;GIRALDEZ CARRA…</td><td>&quot;MEDINA HERNAND…</td><td>97410200</td><td>97410053</td><td>&quot;ITA&quot;</td><td>&quot;AUS&quot;</td></tr><tr><td>2006</td><td>&quot;26 Jun 2006 - …</td><td>&quot;Round of 16&quot;</td><td>&quot;FIFA World Cup…</td><td>&quot;Cologne &quot;</td><td>&quot;Switzerland&quot;</td><td>0</td><td>0</td><td>&quot;Ukraine&quot;</td><td>45000</td><td>0</td><td>0</td><td>&quot;ARCHUNDIA Beni…</td><td>&quot;RAMIREZ Jose (…</td><td>&quot;VERGARA Hector…</td><td>97410200</td><td>97410054</td><td>&quot;SUI&quot;</td><td>&quot;UKR&quot;</td></tr><tr><td>2006</td><td>&quot;27 Jun 2006 - …</td><td>&quot;Round of 16&quot;</td><td>&quot;FIFA World Cup…</td><td>&quot;Dortmund &quot;</td><td>&quot;Brazil&quot;</td><td>3</td><td>0</td><td>&quot;Ghana&quot;</td><td>65000</td><td>2</td><td>0</td><td>&quot;MICHEL Lubos (…</td><td>&quot;Roman SLYSKO (…</td><td>&quot;BALKO Martin (…</td><td>97410200</td><td>97410055</td><td>&quot;BRA&quot;</td><td>&quot;GHA&quot;</td></tr><tr><td>2006</td><td>&quot;27 Jun 2006 - …</td><td>&quot;Round of 16&quot;</td><td>&quot;FIFA World Cup…</td><td>&quot;Hanover &quot;</td><td>&quot;Spain&quot;</td><td>1</td><td>3</td><td>&quot;France&quot;</td><td>43000</td><td>1</td><td>1</td><td>&quot;ROSETTI Robert…</td><td>&quot;COPELLI Cristi…</td><td>&quot;STAGNOLI Aless…</td><td>97410200</td><td>97410056</td><td>&quot;ESP&quot;</td><td>&quot;FRA&quot;</td></tr><tr><td>2006</td><td>&quot;30 Jun 2006 - …</td><td>&quot;Quarter-finals…</td><td>&quot;Olympiastadion…</td><td>&quot;Berlin &quot;</td><td>&quot;Germany&quot;</td><td>1</td><td>1</td><td>&quot;Argentina&quot;</td><td>72000</td><td>0</td><td>0</td><td>&quot;MICHEL Lubos (…</td><td>&quot;Roman SLYSKO (…</td><td>&quot;BALKO Martin (…</td><td>97410300</td><td>97410057</td><td>&quot;GER&quot;</td><td>&quot;ARG&quot;</td></tr><tr><td>2006</td><td>&quot;30 Jun 2006 - …</td><td>&quot;Quarter-finals…</td><td>&quot;FIFA World Cup…</td><td>&quot;Hamburg &quot;</td><td>&quot;Italy&quot;</td><td>3</td><td>0</td><td>&quot;Ukraine&quot;</td><td>50000</td><td>1</td><td>0</td><td>&quot;DE BLEECKERE F…</td><td>&quot;HERMANS Peter …</td><td>&quot;VROMANS Walter…</td><td>97410300</td><td>97410058</td><td>&quot;ITA&quot;</td><td>&quot;UKR&quot;</td></tr><tr><td>2006</td><td>&quot;01 Jul 2006 - …</td><td>&quot;Quarter-finals…</td><td>&quot;FIFA World Cup…</td><td>&quot;Gelsenkirchen …</td><td>&quot;England&quot;</td><td>0</td><td>0</td><td>&quot;Portugal&quot;</td><td>52000</td><td>0</td><td>0</td><td>&quot;ELIZONDO Horac…</td><td>&quot;GARCIA Dario (…</td><td>&quot;OTERO Rodolfo …</td><td>97410300</td><td>97410059</td><td>&quot;ENG&quot;</td><td>&quot;POR&quot;</td></tr><tr><td>2006</td><td>&quot;01 Jul 2006 - …</td><td>&quot;Quarter-finals…</td><td>&quot;FIFA World Cup…</td><td>&quot;Frankfurt/Main…</td><td>&quot;Brazil&quot;</td><td>0</td><td>1</td><td>&quot;France&quot;</td><td>48000</td><td>0</td><td>0</td><td>&quot;MEDINA CANTALE…</td><td>&quot;GIRALDEZ CARRA…</td><td>&quot;MEDINA HERNAND…</td><td>97410300</td><td>97410060</td><td>&quot;BRA&quot;</td><td>&quot;FRA&quot;</td></tr><tr><td>2006</td><td>&quot;04 Jul 2006 - …</td><td>&quot;Semi-finals&quot;</td><td>&quot;FIFA World Cup…</td><td>&quot;Dortmund &quot;</td><td>&quot;Germany&quot;</td><td>0</td><td>2</td><td>&quot;Italy&quot;</td><td>65000</td><td>0</td><td>0</td><td>&quot;ARCHUNDIA Beni…</td><td>&quot;RAMIREZ Jose (…</td><td>&quot;VERGARA Hector…</td><td>97410400</td><td>97410061</td><td>&quot;GER&quot;</td><td>&quot;ITA&quot;</td></tr><tr><td>2006</td><td>&quot;05 Jul 2006 - …</td><td>&quot;Semi-finals&quot;</td><td>&quot;FIFA World Cup…</td><td>&quot;Munich &quot;</td><td>&quot;Portugal&quot;</td><td>0</td><td>1</td><td>&quot;France&quot;</td><td>66000</td><td>0</td><td>1</td><td>&quot;LARRIONDA Jorg…</td><td>&quot;RIAL Walter (U…</td><td>&quot;FANDINO Pablo …</td><td>97410400</td><td>97410062</td><td>&quot;POR&quot;</td><td>&quot;FRA&quot;</td></tr><tr><td>2006</td><td>&quot;08 Jul 2006 - …</td><td>&quot;Third place&quot;</td><td>&quot;Gottlieb-Daiml…</td><td>&quot;Stuttgart &quot;</td><td>&quot;Germany&quot;</td><td>3</td><td>1</td><td>&quot;Portugal&quot;</td><td>52000</td><td>0</td><td>0</td><td>&quot;KAMIKAWA Toru …</td><td>&quot;HIROSHIMA Yosh…</td><td>&quot;KIM Dae Young …</td><td>97410500</td><td>97410063</td><td>&quot;GER&quot;</td><td>&quot;POR&quot;</td></tr><tr><td>2006</td><td>&quot;09 Jul 2006 - …</td><td>&quot;Final&quot;</td><td>&quot;Olympiastadion…</td><td>&quot;Berlin &quot;</td><td>&quot;Italy&quot;</td><td>1</td><td>1</td><td>&quot;France&quot;</td><td>69000</td><td>0</td><td>0</td><td>&quot;ELIZONDO Horac…</td><td>&quot;GARCIA Dario (…</td><td>&quot;OTERO Rodolfo …</td><td>97410600</td><td>97410064</td><td>&quot;ITA&quot;</td><td>&quot;FRA&quot;</td></tr></tbody></table></div>"
            ]
          },
          "metadata": {},
          "execution_count": 129
        }
      ]
    },
    {
      "cell_type": "code",
      "source": [
        "df2016.filter((pl.col(\"Stage\")== \"Group C\") & ((pl.col(\"HTN\")==\"Argentina\") | (pl.col(\"ATN\")==\"Argentina\")))\n"
      ],
      "metadata": {
        "colab": {
          "base_uri": "https://localhost:8080/",
          "height": 333
        },
        "id": "RRqCp6sD8IoY",
        "outputId": "76174310-1128-4ffb-91e8-934f35fbfd82"
      },
      "execution_count": null,
      "outputs": [
        {
          "output_type": "execute_result",
          "data": {
            "text/plain": [
              "shape: (3, 19)\n",
              "┌──────┬─────────────────────┬─────────┬─────────────────────┬───┬──────────┬──────────┬─────┬─────┐\n",
              "│ Year ┆ Datetime            ┆ Stage   ┆ Stadium             ┆ … ┆ RoundID  ┆ MatchID  ┆ HTI ┆ ATI │\n",
              "│ ---  ┆ ---                 ┆ ---     ┆ ---                 ┆   ┆ ---      ┆ ---      ┆ --- ┆ --- │\n",
              "│ i64  ┆ str                 ┆ str     ┆ str                 ┆   ┆ i64      ┆ i64      ┆ str ┆ str │\n",
              "╞══════╪═════════════════════╪═════════╪═════════════════════╪═══╪══════════╪══════════╪═════╪═════╡\n",
              "│ 2006 ┆ 10 Jun 2006 - 21:00 ┆ Group C ┆ FIFA World Cup      ┆ … ┆ 97410100 ┆ 97410005 ┆ ARG ┆ CIV │\n",
              "│      ┆                     ┆         ┆ Stadium, Hamburg    ┆   ┆          ┆          ┆     ┆     │\n",
              "│ 2006 ┆ 16 Jun 2006 - 15:00 ┆ Group C ┆ FIFA World Cup      ┆ … ┆ 97410100 ┆ 97410021 ┆ ARG ┆ SCG │\n",
              "│      ┆                     ┆         ┆ Stadium, Gelsenki…  ┆   ┆          ┆          ┆     ┆     │\n",
              "│ 2006 ┆ 21 Jun 2006 - 21:00 ┆ Group C ┆ FIFA World Cup      ┆ … ┆ 97410100 ┆ 97410037 ┆ NED ┆ ARG │\n",
              "│      ┆                     ┆         ┆ Stadium, Frankfur…  ┆   ┆          ┆          ┆     ┆     │\n",
              "└──────┴─────────────────────┴─────────┴─────────────────────┴───┴──────────┴──────────┴─────┴─────┘"
            ],
            "text/html": [
              "<div><style>\n",
              ".dataframe > thead > tr > th,\n",
              ".dataframe > tbody > tr > td {\n",
              "  text-align: right;\n",
              "}\n",
              "</style>\n",
              "<small>shape: (3, 19)</small><table border=\"1\" class=\"dataframe\"><thead><tr><th>Year</th><th>Datetime</th><th>Stage</th><th>Stadium</th><th>City</th><th>HTN</th><th>HTG</th><th>ATG</th><th>ATN</th><th>Attendance</th><th>HTHG</th><th>HTAG</th><th>Referee</th><th>Assistant 1</th><th>Assistant 2</th><th>RoundID</th><th>MatchID</th><th>HTI</th><th>ATI</th></tr><tr><td>i64</td><td>str</td><td>str</td><td>str</td><td>str</td><td>str</td><td>i64</td><td>i64</td><td>str</td><td>i64</td><td>i64</td><td>i64</td><td>str</td><td>str</td><td>str</td><td>i64</td><td>i64</td><td>str</td><td>str</td></tr></thead><tbody><tr><td>2006</td><td>&quot;10 Jun 2006 - …</td><td>&quot;Group C&quot;</td><td>&quot;FIFA World Cup…</td><td>&quot;Hamburg &quot;</td><td>&quot;Argentina&quot;</td><td>2</td><td>1</td><td>&quot;C�te d&#x27;Ivoire&quot;</td><td>49480</td><td>2</td><td>0</td><td>&quot;DE BLEECKERE F…</td><td>&quot;HERMANS Peter …</td><td>&quot;VROMANS Walter…</td><td>97410100</td><td>97410005</td><td>&quot;ARG&quot;</td><td>&quot;CIV&quot;</td></tr><tr><td>2006</td><td>&quot;16 Jun 2006 - …</td><td>&quot;Group C&quot;</td><td>&quot;FIFA World Cup…</td><td>&quot;Gelsenkirchen …</td><td>&quot;Argentina&quot;</td><td>6</td><td>0</td><td>&quot;rn&quot;&gt;Serbia and…</td><td>52000</td><td>3</td><td>0</td><td>&quot;ROSETTI Robert…</td><td>&quot;COPELLI Cristi…</td><td>&quot;STAGNOLI Aless…</td><td>97410100</td><td>97410021</td><td>&quot;ARG&quot;</td><td>&quot;SCG&quot;</td></tr><tr><td>2006</td><td>&quot;21 Jun 2006 - …</td><td>&quot;Group C&quot;</td><td>&quot;FIFA World Cup…</td><td>&quot;Frankfurt/Main…</td><td>&quot;Netherlands&quot;</td><td>0</td><td>0</td><td>&quot;Argentina&quot;</td><td>48000</td><td>0</td><td>0</td><td>&quot;MEDINA CANTALE…</td><td>&quot;GIRALDEZ CARRA…</td><td>&quot;MEDINA HERNAND…</td><td>97410100</td><td>97410037</td><td>&quot;NED&quot;</td><td>&quot;ARG&quot;</td></tr></tbody></table></div>"
            ]
          },
          "metadata": {},
          "execution_count": 133
        }
      ]
    },
    {
      "cell_type": "code",
      "source": [
        "df2016.groupby(\"Referee\", maintain_order=True).agg(\n",
        "   pl.col(\"Referee\").count().alias(\"Cantidad\")\n",
        ")"
      ],
      "metadata": {
        "colab": {
          "base_uri": "https://localhost:8080/",
          "height": 756
        },
        "id": "7nwLHe5tvktG",
        "outputId": "e9dfa3dd-026e-4c15-b2e7-f7d52cb2b6f7"
      },
      "execution_count": null,
      "outputs": [
        {
          "output_type": "execute_result",
          "data": {
            "text/plain": [
              "shape: (21, 2)\n",
              "┌────────────────────────┬──────────┐\n",
              "│ Referee                ┆ Cantidad │\n",
              "│ ---                    ┆ ---      │\n",
              "│ str                    ┆ u32      │\n",
              "╞════════════════════════╪══════════╡\n",
              "│ ELIZONDO Horacio (ARG) ┆ 5        │\n",
              "│ KAMIKAWA Toru (JPN)    ┆ 3        │\n",
              "│ RODRIGUEZ Marco (MEX)  ┆ 2        │\n",
              "│ MAIDIN Shamsul (SIN)   ┆ 3        │\n",
              "│ …                      ┆ …        │\n",
              "│ CODJIA Coffi (BEN)     ┆ 2        │\n",
              "│ MICHEL Lubos (SVK)     ┆ 4        │\n",
              "│ RUIZ Oscar (COL)       ┆ 1        │\n",
              "│ POULAT Eric (FRA)      ┆ 2        │\n",
              "└────────────────────────┴──────────┘"
            ],
            "text/html": [
              "<div><style>\n",
              ".dataframe > thead > tr > th,\n",
              ".dataframe > tbody > tr > td {\n",
              "  text-align: right;\n",
              "}\n",
              "</style>\n",
              "<small>shape: (21, 2)</small><table border=\"1\" class=\"dataframe\"><thead><tr><th>Referee</th><th>Cantidad</th></tr><tr><td>str</td><td>u32</td></tr></thead><tbody><tr><td>&quot;ELIZONDO Horac…</td><td>5</td></tr><tr><td>&quot;KAMIKAWA Toru …</td><td>3</td></tr><tr><td>&quot;RODRIGUEZ Marc…</td><td>2</td></tr><tr><td>&quot;MAIDIN Shamsul…</td><td>3</td></tr><tr><td>&quot;DE BLEECKERE F…</td><td>4</td></tr><tr><td>&quot;MERK Markus (G…</td><td>3</td></tr><tr><td>&quot;ROSETTI Robert…</td><td>4</td></tr><tr><td>&quot;LARRIONDA Jorg…</td><td>4</td></tr><tr><td>&quot;ABD EL FATAH E…</td><td>1</td></tr><tr><td>&quot;AMARILLA Carlo…</td><td>3</td></tr><tr><td>&quot;SIMON Carlos (…</td><td>3</td></tr><tr><td>&quot;POLL Graham (E…</td><td>3</td></tr><tr><td>&quot;IVANOV Valenti…</td><td>3</td></tr><tr><td>&quot;ARCHUNDIA Beni…</td><td>5</td></tr><tr><td>&quot;BUSACCA Massim…</td><td>3</td></tr><tr><td>&quot;SHIELD Mark (A…</td><td>2</td></tr><tr><td>&quot;MEDINA CANTALE…</td><td>4</td></tr><tr><td>&quot;CODJIA Coffi (…</td><td>2</td></tr><tr><td>&quot;MICHEL Lubos (…</td><td>4</td></tr><tr><td>&quot;RUIZ Oscar (CO…</td><td>1</td></tr><tr><td>&quot;POULAT Eric (F…</td><td>2</td></tr></tbody></table></div>"
            ]
          },
          "metadata": {},
          "execution_count": 138
        }
      ]
    },
    {
      "cell_type": "code",
      "source": [
        "cantidad = df2016.select(pl.col(\"Referee\").unique().count())\n",
        "print(cantidad)"
      ],
      "metadata": {
        "colab": {
          "base_uri": "https://localhost:8080/"
        },
        "id": "NbV2HC1cDv1H",
        "outputId": "fd66d751-d621-44ca-efa5-684c94c70711"
      },
      "execution_count": null,
      "outputs": [
        {
          "output_type": "stream",
          "name": "stdout",
          "text": [
            "shape: (1, 1)\n",
            "┌─────────┐\n",
            "│ Referee │\n",
            "│ ---     │\n",
            "│ u32     │\n",
            "╞═════════╡\n",
            "│ 21      │\n",
            "└─────────┘\n"
          ]
        }
      ]
    },
    {
      "cell_type": "markdown",
      "source": [
        "**VISUALIZACIÓN DE DATOS**"
      ],
      "metadata": {
        "id": "-oOUSFxd1LeF"
      }
    },
    {
      "cell_type": "code",
      "source": [
        "# plot\n",
        "fig, ax = plt.subplots()\n",
        "data = df2016.groupby(\"Referee\", maintain_order=True).agg(pl.col(\"Referee\").count().alias(\"Cantidad\"))\n",
        "ax.bar(data['Referee'], data['Cantidad'], width=1, edgecolor=\"white\", linewidth=0.7)\n",
        "\n",
        "ax.set_xticklabels(data['Referee'] , rotation=90)\n",
        "ax.set_title('Arbitros principales con mas participacion en el Mundial')\n",
        "plt.show()"
      ],
      "metadata": {
        "colab": {
          "base_uri": "https://localhost:8080/",
          "height": 706
        },
        "id": "qDFKhnQw1CFg",
        "outputId": "203fc234-366b-4517-ad6b-fd762922c5dd"
      },
      "execution_count": null,
      "outputs": [
        {
          "output_type": "stream",
          "name": "stderr",
          "text": [
            "<ipython-input-168-605fc7083fc8>:6: UserWarning: FixedFormatter should only be used together with FixedLocator\n",
            "  ax.set_xticklabels(data['Referee'] , rotation=90)\n"
          ]
        },
        {
          "output_type": "display_data",
          "data": {
            "text/plain": [
              "<Figure size 640x480 with 1 Axes>"
            ],
            "image/png": "[encoded data removed]"
          },
          "metadata": {}
        }
      ]
    },
    {
      "cell_type": "code",
      "source": [
        "import plotly.express as px\n",
        "\n",
        "fig = px.pie(data['Referee'], data['Cantidad'])\n",
        "\n",
        "fig.show()"
      ],
      "metadata": {
        "id": "vkQ2rKGakTJb"
      },
      "execution_count": null,
      "outputs": []
    }
  ]
}